{
 "cells": [
  {
   "cell_type": "markdown",
   "metadata": {},
   "source": [
    "# Clustering Crypto"
   ]
  },
  {
   "cell_type": "code",
   "execution_count": 18,
   "metadata": {},
   "outputs": [],
   "source": [
    "# Initial imports\n",
    "import pandas as pd\n",
    "import hvplot.pandas\n",
    "import plotly.express as px\n",
    "from sklearn.preprocessing import StandardScaler, MinMaxScaler\n",
    "from sklearn.decomposition import PCA\n",
    "from sklearn.cluster import KMeans\n"
   ]
  },
  {
   "cell_type": "markdown",
   "metadata": {},
   "source": [
    "### Deliverable 1: Preprocessing the Data for PCA"
   ]
  },
  {
   "cell_type": "code",
   "execution_count": 19,
   "metadata": {},
   "outputs": [
    {
     "name": "stdout",
     "output_type": "stream",
     "text": [
      "(1252, 6)\n"
     ]
    },
    {
     "data": {
      "text/html": [
       "<div>\n",
       "<style scoped>\n",
       "    .dataframe tbody tr th:only-of-type {\n",
       "        vertical-align: middle;\n",
       "    }\n",
       "\n",
       "    .dataframe tbody tr th {\n",
       "        vertical-align: top;\n",
       "    }\n",
       "\n",
       "    .dataframe thead th {\n",
       "        text-align: right;\n",
       "    }\n",
       "</style>\n",
       "<table border=\"1\" class=\"dataframe\">\n",
       "  <thead>\n",
       "    <tr style=\"text-align: right;\">\n",
       "      <th></th>\n",
       "      <th>CoinName</th>\n",
       "      <th>Algorithm</th>\n",
       "      <th>IsTrading</th>\n",
       "      <th>ProofType</th>\n",
       "      <th>TotalCoinsMined</th>\n",
       "      <th>TotalCoinSupply</th>\n",
       "    </tr>\n",
       "  </thead>\n",
       "  <tbody>\n",
       "    <tr>\n",
       "      <th>42</th>\n",
       "      <td>42 Coin</td>\n",
       "      <td>Scrypt</td>\n",
       "      <td>True</td>\n",
       "      <td>PoW/PoS</td>\n",
       "      <td>4.199995e+01</td>\n",
       "      <td>42</td>\n",
       "    </tr>\n",
       "    <tr>\n",
       "      <th>365</th>\n",
       "      <td>365Coin</td>\n",
       "      <td>X11</td>\n",
       "      <td>True</td>\n",
       "      <td>PoW/PoS</td>\n",
       "      <td>NaN</td>\n",
       "      <td>2300000000</td>\n",
       "    </tr>\n",
       "    <tr>\n",
       "      <th>404</th>\n",
       "      <td>404Coin</td>\n",
       "      <td>Scrypt</td>\n",
       "      <td>True</td>\n",
       "      <td>PoW/PoS</td>\n",
       "      <td>1.055185e+09</td>\n",
       "      <td>532000000</td>\n",
       "    </tr>\n",
       "    <tr>\n",
       "      <th>611</th>\n",
       "      <td>SixEleven</td>\n",
       "      <td>SHA-256</td>\n",
       "      <td>True</td>\n",
       "      <td>PoW</td>\n",
       "      <td>NaN</td>\n",
       "      <td>611000</td>\n",
       "    </tr>\n",
       "    <tr>\n",
       "      <th>808</th>\n",
       "      <td>808</td>\n",
       "      <td>SHA-256</td>\n",
       "      <td>True</td>\n",
       "      <td>PoW/PoS</td>\n",
       "      <td>0.000000e+00</td>\n",
       "      <td>0</td>\n",
       "    </tr>\n",
       "  </tbody>\n",
       "</table>\n",
       "</div>"
      ],
      "text/plain": [
       "      CoinName Algorithm  IsTrading ProofType  TotalCoinsMined TotalCoinSupply\n",
       "42     42 Coin    Scrypt       True   PoW/PoS     4.199995e+01              42\n",
       "365    365Coin       X11       True   PoW/PoS              NaN      2300000000\n",
       "404    404Coin    Scrypt       True   PoW/PoS     1.055185e+09       532000000\n",
       "611  SixEleven   SHA-256       True       PoW              NaN          611000\n",
       "808        808   SHA-256       True   PoW/PoS     0.000000e+00               0"
      ]
     },
     "execution_count": 19,
     "metadata": {},
     "output_type": "execute_result"
    }
   ],
   "source": [
    "# Load the crypto_data.csv dataset.\n",
    "crypto_df = pd.read_csv(\"Resources/crypto_data.csv\", index_col=0)\n",
    "print(crypto_df.shape)\n",
    "crypto_df.head()"
   ]
  },
  {
   "cell_type": "code",
   "execution_count": 20,
   "metadata": {},
   "outputs": [
    {
     "name": "stdout",
     "output_type": "stream",
     "text": [
      "(1144, 6)\n"
     ]
    },
    {
     "data": {
      "text/html": [
       "<div>\n",
       "<style scoped>\n",
       "    .dataframe tbody tr th:only-of-type {\n",
       "        vertical-align: middle;\n",
       "    }\n",
       "\n",
       "    .dataframe tbody tr th {\n",
       "        vertical-align: top;\n",
       "    }\n",
       "\n",
       "    .dataframe thead th {\n",
       "        text-align: right;\n",
       "    }\n",
       "</style>\n",
       "<table border=\"1\" class=\"dataframe\">\n",
       "  <thead>\n",
       "    <tr style=\"text-align: right;\">\n",
       "      <th></th>\n",
       "      <th>CoinName</th>\n",
       "      <th>Algorithm</th>\n",
       "      <th>IsTrading</th>\n",
       "      <th>ProofType</th>\n",
       "      <th>TotalCoinsMined</th>\n",
       "      <th>TotalCoinSupply</th>\n",
       "    </tr>\n",
       "  </thead>\n",
       "  <tbody>\n",
       "    <tr>\n",
       "      <th>42</th>\n",
       "      <td>42 Coin</td>\n",
       "      <td>Scrypt</td>\n",
       "      <td>True</td>\n",
       "      <td>PoW/PoS</td>\n",
       "      <td>4.199995e+01</td>\n",
       "      <td>42</td>\n",
       "    </tr>\n",
       "    <tr>\n",
       "      <th>365</th>\n",
       "      <td>365Coin</td>\n",
       "      <td>X11</td>\n",
       "      <td>True</td>\n",
       "      <td>PoW/PoS</td>\n",
       "      <td>NaN</td>\n",
       "      <td>2300000000</td>\n",
       "    </tr>\n",
       "    <tr>\n",
       "      <th>404</th>\n",
       "      <td>404Coin</td>\n",
       "      <td>Scrypt</td>\n",
       "      <td>True</td>\n",
       "      <td>PoW/PoS</td>\n",
       "      <td>1.055185e+09</td>\n",
       "      <td>532000000</td>\n",
       "    </tr>\n",
       "    <tr>\n",
       "      <th>611</th>\n",
       "      <td>SixEleven</td>\n",
       "      <td>SHA-256</td>\n",
       "      <td>True</td>\n",
       "      <td>PoW</td>\n",
       "      <td>NaN</td>\n",
       "      <td>611000</td>\n",
       "    </tr>\n",
       "    <tr>\n",
       "      <th>808</th>\n",
       "      <td>808</td>\n",
       "      <td>SHA-256</td>\n",
       "      <td>True</td>\n",
       "      <td>PoW/PoS</td>\n",
       "      <td>0.000000e+00</td>\n",
       "      <td>0</td>\n",
       "    </tr>\n",
       "  </tbody>\n",
       "</table>\n",
       "</div>"
      ],
      "text/plain": [
       "      CoinName Algorithm  IsTrading ProofType  TotalCoinsMined TotalCoinSupply\n",
       "42     42 Coin    Scrypt       True   PoW/PoS     4.199995e+01              42\n",
       "365    365Coin       X11       True   PoW/PoS              NaN      2300000000\n",
       "404    404Coin    Scrypt       True   PoW/PoS     1.055185e+09       532000000\n",
       "611  SixEleven   SHA-256       True       PoW              NaN          611000\n",
       "808        808   SHA-256       True   PoW/PoS     0.000000e+00               0"
      ]
     },
     "execution_count": 20,
     "metadata": {},
     "output_type": "execute_result"
    }
   ],
   "source": [
    "# Keep all the cryptocurrencies that are being traded.\n",
    "crypto_trading_df = crypto_df.loc[crypto_df[\"IsTrading\"] == True]\n",
    "print(crypto_trading_df.shape)\n",
    "crypto_trading_df.head()"
   ]
  },
  {
   "cell_type": "code",
   "execution_count": 21,
   "metadata": {},
   "outputs": [
    {
     "name": "stdout",
     "output_type": "stream",
     "text": [
      "(1144, 5)\n"
     ]
    },
    {
     "data": {
      "text/html": [
       "<div>\n",
       "<style scoped>\n",
       "    .dataframe tbody tr th:only-of-type {\n",
       "        vertical-align: middle;\n",
       "    }\n",
       "\n",
       "    .dataframe tbody tr th {\n",
       "        vertical-align: top;\n",
       "    }\n",
       "\n",
       "    .dataframe thead th {\n",
       "        text-align: right;\n",
       "    }\n",
       "</style>\n",
       "<table border=\"1\" class=\"dataframe\">\n",
       "  <thead>\n",
       "    <tr style=\"text-align: right;\">\n",
       "      <th></th>\n",
       "      <th>CoinName</th>\n",
       "      <th>Algorithm</th>\n",
       "      <th>ProofType</th>\n",
       "      <th>TotalCoinsMined</th>\n",
       "      <th>TotalCoinSupply</th>\n",
       "    </tr>\n",
       "  </thead>\n",
       "  <tbody>\n",
       "    <tr>\n",
       "      <th>42</th>\n",
       "      <td>42 Coin</td>\n",
       "      <td>Scrypt</td>\n",
       "      <td>PoW/PoS</td>\n",
       "      <td>4.199995e+01</td>\n",
       "      <td>42</td>\n",
       "    </tr>\n",
       "    <tr>\n",
       "      <th>365</th>\n",
       "      <td>365Coin</td>\n",
       "      <td>X11</td>\n",
       "      <td>PoW/PoS</td>\n",
       "      <td>NaN</td>\n",
       "      <td>2300000000</td>\n",
       "    </tr>\n",
       "    <tr>\n",
       "      <th>404</th>\n",
       "      <td>404Coin</td>\n",
       "      <td>Scrypt</td>\n",
       "      <td>PoW/PoS</td>\n",
       "      <td>1.055185e+09</td>\n",
       "      <td>532000000</td>\n",
       "    </tr>\n",
       "    <tr>\n",
       "      <th>611</th>\n",
       "      <td>SixEleven</td>\n",
       "      <td>SHA-256</td>\n",
       "      <td>PoW</td>\n",
       "      <td>NaN</td>\n",
       "      <td>611000</td>\n",
       "    </tr>\n",
       "    <tr>\n",
       "      <th>808</th>\n",
       "      <td>808</td>\n",
       "      <td>SHA-256</td>\n",
       "      <td>PoW/PoS</td>\n",
       "      <td>0.000000e+00</td>\n",
       "      <td>0</td>\n",
       "    </tr>\n",
       "  </tbody>\n",
       "</table>\n",
       "</div>"
      ],
      "text/plain": [
       "      CoinName Algorithm ProofType  TotalCoinsMined TotalCoinSupply\n",
       "42     42 Coin    Scrypt   PoW/PoS     4.199995e+01              42\n",
       "365    365Coin       X11   PoW/PoS              NaN      2300000000\n",
       "404    404Coin    Scrypt   PoW/PoS     1.055185e+09       532000000\n",
       "611  SixEleven   SHA-256       PoW              NaN          611000\n",
       "808        808   SHA-256   PoW/PoS     0.000000e+00               0"
      ]
     },
     "execution_count": 21,
     "metadata": {},
     "output_type": "execute_result"
    }
   ],
   "source": [
    "# Remove the \"IsTrading\" column. \n",
    "crypto_trading_df = crypto_trading_df.drop(columns=\"IsTrading\", axis=1)\n",
    "print(crypto_trading_df.shape)\n",
    "crypto_trading_df.head()"
   ]
  },
  {
   "cell_type": "code",
   "execution_count": 22,
   "metadata": {},
   "outputs": [
    {
     "name": "stdout",
     "output_type": "stream",
     "text": [
      "(685, 5)\n"
     ]
    },
    {
     "data": {
      "text/html": [
       "<div>\n",
       "<style scoped>\n",
       "    .dataframe tbody tr th:only-of-type {\n",
       "        vertical-align: middle;\n",
       "    }\n",
       "\n",
       "    .dataframe tbody tr th {\n",
       "        vertical-align: top;\n",
       "    }\n",
       "\n",
       "    .dataframe thead th {\n",
       "        text-align: right;\n",
       "    }\n",
       "</style>\n",
       "<table border=\"1\" class=\"dataframe\">\n",
       "  <thead>\n",
       "    <tr style=\"text-align: right;\">\n",
       "      <th></th>\n",
       "      <th>CoinName</th>\n",
       "      <th>Algorithm</th>\n",
       "      <th>ProofType</th>\n",
       "      <th>TotalCoinsMined</th>\n",
       "      <th>TotalCoinSupply</th>\n",
       "    </tr>\n",
       "  </thead>\n",
       "  <tbody>\n",
       "    <tr>\n",
       "      <th>42</th>\n",
       "      <td>42 Coin</td>\n",
       "      <td>Scrypt</td>\n",
       "      <td>PoW/PoS</td>\n",
       "      <td>4.199995e+01</td>\n",
       "      <td>42</td>\n",
       "    </tr>\n",
       "    <tr>\n",
       "      <th>404</th>\n",
       "      <td>404Coin</td>\n",
       "      <td>Scrypt</td>\n",
       "      <td>PoW/PoS</td>\n",
       "      <td>1.055185e+09</td>\n",
       "      <td>532000000</td>\n",
       "    </tr>\n",
       "    <tr>\n",
       "      <th>808</th>\n",
       "      <td>808</td>\n",
       "      <td>SHA-256</td>\n",
       "      <td>PoW/PoS</td>\n",
       "      <td>0.000000e+00</td>\n",
       "      <td>0</td>\n",
       "    </tr>\n",
       "    <tr>\n",
       "      <th>1337</th>\n",
       "      <td>EliteCoin</td>\n",
       "      <td>X13</td>\n",
       "      <td>PoW/PoS</td>\n",
       "      <td>2.927942e+10</td>\n",
       "      <td>314159265359</td>\n",
       "    </tr>\n",
       "    <tr>\n",
       "      <th>BTC</th>\n",
       "      <td>Bitcoin</td>\n",
       "      <td>SHA-256</td>\n",
       "      <td>PoW</td>\n",
       "      <td>1.792718e+07</td>\n",
       "      <td>21000000</td>\n",
       "    </tr>\n",
       "  </tbody>\n",
       "</table>\n",
       "</div>"
      ],
      "text/plain": [
       "       CoinName Algorithm ProofType  TotalCoinsMined TotalCoinSupply\n",
       "42      42 Coin    Scrypt   PoW/PoS     4.199995e+01              42\n",
       "404     404Coin    Scrypt   PoW/PoS     1.055185e+09       532000000\n",
       "808         808   SHA-256   PoW/PoS     0.000000e+00               0\n",
       "1337  EliteCoin       X13   PoW/PoS     2.927942e+10    314159265359\n",
       "BTC     Bitcoin   SHA-256       PoW     1.792718e+07        21000000"
      ]
     },
     "execution_count": 22,
     "metadata": {},
     "output_type": "execute_result"
    }
   ],
   "source": [
    "# Remove rows that have at least 1 null value.\n",
    "crypto_trading_df.dropna(axis=0, inplace=True)\n",
    "print(crypto_trading_df.shape)\n",
    "crypto_trading_df.head()"
   ]
  },
  {
   "cell_type": "code",
   "execution_count": 23,
   "metadata": {},
   "outputs": [
    {
     "name": "stdout",
     "output_type": "stream",
     "text": [
      "(532, 5)\n"
     ]
    },
    {
     "data": {
      "text/html": [
       "<div>\n",
       "<style scoped>\n",
       "    .dataframe tbody tr th:only-of-type {\n",
       "        vertical-align: middle;\n",
       "    }\n",
       "\n",
       "    .dataframe tbody tr th {\n",
       "        vertical-align: top;\n",
       "    }\n",
       "\n",
       "    .dataframe thead th {\n",
       "        text-align: right;\n",
       "    }\n",
       "</style>\n",
       "<table border=\"1\" class=\"dataframe\">\n",
       "  <thead>\n",
       "    <tr style=\"text-align: right;\">\n",
       "      <th></th>\n",
       "      <th>CoinName</th>\n",
       "      <th>Algorithm</th>\n",
       "      <th>ProofType</th>\n",
       "      <th>TotalCoinsMined</th>\n",
       "      <th>TotalCoinSupply</th>\n",
       "    </tr>\n",
       "  </thead>\n",
       "  <tbody>\n",
       "    <tr>\n",
       "      <th>42</th>\n",
       "      <td>42 Coin</td>\n",
       "      <td>Scrypt</td>\n",
       "      <td>PoW/PoS</td>\n",
       "      <td>4.199995e+01</td>\n",
       "      <td>42</td>\n",
       "    </tr>\n",
       "    <tr>\n",
       "      <th>404</th>\n",
       "      <td>404Coin</td>\n",
       "      <td>Scrypt</td>\n",
       "      <td>PoW/PoS</td>\n",
       "      <td>1.055185e+09</td>\n",
       "      <td>532000000</td>\n",
       "    </tr>\n",
       "    <tr>\n",
       "      <th>1337</th>\n",
       "      <td>EliteCoin</td>\n",
       "      <td>X13</td>\n",
       "      <td>PoW/PoS</td>\n",
       "      <td>2.927942e+10</td>\n",
       "      <td>314159265359</td>\n",
       "    </tr>\n",
       "    <tr>\n",
       "      <th>BTC</th>\n",
       "      <td>Bitcoin</td>\n",
       "      <td>SHA-256</td>\n",
       "      <td>PoW</td>\n",
       "      <td>1.792718e+07</td>\n",
       "      <td>21000000</td>\n",
       "    </tr>\n",
       "    <tr>\n",
       "      <th>ETH</th>\n",
       "      <td>Ethereum</td>\n",
       "      <td>Ethash</td>\n",
       "      <td>PoW</td>\n",
       "      <td>1.076842e+08</td>\n",
       "      <td>0</td>\n",
       "    </tr>\n",
       "  </tbody>\n",
       "</table>\n",
       "</div>"
      ],
      "text/plain": [
       "       CoinName Algorithm ProofType  TotalCoinsMined TotalCoinSupply\n",
       "42      42 Coin    Scrypt   PoW/PoS     4.199995e+01              42\n",
       "404     404Coin    Scrypt   PoW/PoS     1.055185e+09       532000000\n",
       "1337  EliteCoin       X13   PoW/PoS     2.927942e+10    314159265359\n",
       "BTC     Bitcoin   SHA-256       PoW     1.792718e+07        21000000\n",
       "ETH    Ethereum    Ethash       PoW     1.076842e+08               0"
      ]
     },
     "execution_count": 23,
     "metadata": {},
     "output_type": "execute_result"
    }
   ],
   "source": [
    "# Keep the rows where coins are mined.\n",
    "crypto_trading_mined_df = crypto_trading_df.loc[crypto_trading_df[\"TotalCoinsMined\"] > 0]\n",
    "print(crypto_trading_mined_df.shape)\n",
    "crypto_trading_mined_df.head()"
   ]
  },
  {
   "cell_type": "code",
   "execution_count": 24,
   "metadata": {},
   "outputs": [
    {
     "name": "stdout",
     "output_type": "stream",
     "text": [
      "(532, 1)\n"
     ]
    },
    {
     "data": {
      "text/html": [
       "<div>\n",
       "<style scoped>\n",
       "    .dataframe tbody tr th:only-of-type {\n",
       "        vertical-align: middle;\n",
       "    }\n",
       "\n",
       "    .dataframe tbody tr th {\n",
       "        vertical-align: top;\n",
       "    }\n",
       "\n",
       "    .dataframe thead th {\n",
       "        text-align: right;\n",
       "    }\n",
       "</style>\n",
       "<table border=\"1\" class=\"dataframe\">\n",
       "  <thead>\n",
       "    <tr style=\"text-align: right;\">\n",
       "      <th></th>\n",
       "      <th>CoinName</th>\n",
       "    </tr>\n",
       "  </thead>\n",
       "  <tbody>\n",
       "    <tr>\n",
       "      <th>42</th>\n",
       "      <td>42 Coin</td>\n",
       "    </tr>\n",
       "    <tr>\n",
       "      <th>404</th>\n",
       "      <td>404Coin</td>\n",
       "    </tr>\n",
       "    <tr>\n",
       "      <th>1337</th>\n",
       "      <td>EliteCoin</td>\n",
       "    </tr>\n",
       "    <tr>\n",
       "      <th>BTC</th>\n",
       "      <td>Bitcoin</td>\n",
       "    </tr>\n",
       "    <tr>\n",
       "      <th>ETH</th>\n",
       "      <td>Ethereum</td>\n",
       "    </tr>\n",
       "  </tbody>\n",
       "</table>\n",
       "</div>"
      ],
      "text/plain": [
       "       CoinName\n",
       "42      42 Coin\n",
       "404     404Coin\n",
       "1337  EliteCoin\n",
       "BTC     Bitcoin\n",
       "ETH    Ethereum"
      ]
     },
     "execution_count": 24,
     "metadata": {},
     "output_type": "execute_result"
    }
   ],
   "source": [
    "# Create a new DataFrame that holds only the cryptocurrencies names.\n",
    "crypto_names_df = pd.DataFrame(crypto_trading_mined_df[\"CoinName\"])\n",
    "print(crypto_names_df.shape)\n",
    "crypto_names_df.head()"
   ]
  },
  {
   "cell_type": "code",
   "execution_count": 25,
   "metadata": {},
   "outputs": [
    {
     "name": "stdout",
     "output_type": "stream",
     "text": [
      "(532, 4)\n"
     ]
    },
    {
     "data": {
      "text/html": [
       "<div>\n",
       "<style scoped>\n",
       "    .dataframe tbody tr th:only-of-type {\n",
       "        vertical-align: middle;\n",
       "    }\n",
       "\n",
       "    .dataframe tbody tr th {\n",
       "        vertical-align: top;\n",
       "    }\n",
       "\n",
       "    .dataframe thead th {\n",
       "        text-align: right;\n",
       "    }\n",
       "</style>\n",
       "<table border=\"1\" class=\"dataframe\">\n",
       "  <thead>\n",
       "    <tr style=\"text-align: right;\">\n",
       "      <th></th>\n",
       "      <th>Algorithm</th>\n",
       "      <th>ProofType</th>\n",
       "      <th>TotalCoinsMined</th>\n",
       "      <th>TotalCoinSupply</th>\n",
       "    </tr>\n",
       "  </thead>\n",
       "  <tbody>\n",
       "    <tr>\n",
       "      <th>42</th>\n",
       "      <td>Scrypt</td>\n",
       "      <td>PoW/PoS</td>\n",
       "      <td>4.199995e+01</td>\n",
       "      <td>42</td>\n",
       "    </tr>\n",
       "    <tr>\n",
       "      <th>404</th>\n",
       "      <td>Scrypt</td>\n",
       "      <td>PoW/PoS</td>\n",
       "      <td>1.055185e+09</td>\n",
       "      <td>532000000</td>\n",
       "    </tr>\n",
       "    <tr>\n",
       "      <th>1337</th>\n",
       "      <td>X13</td>\n",
       "      <td>PoW/PoS</td>\n",
       "      <td>2.927942e+10</td>\n",
       "      <td>314159265359</td>\n",
       "    </tr>\n",
       "    <tr>\n",
       "      <th>BTC</th>\n",
       "      <td>SHA-256</td>\n",
       "      <td>PoW</td>\n",
       "      <td>1.792718e+07</td>\n",
       "      <td>21000000</td>\n",
       "    </tr>\n",
       "    <tr>\n",
       "      <th>ETH</th>\n",
       "      <td>Ethash</td>\n",
       "      <td>PoW</td>\n",
       "      <td>1.076842e+08</td>\n",
       "      <td>0</td>\n",
       "    </tr>\n",
       "    <tr>\n",
       "      <th>LTC</th>\n",
       "      <td>Scrypt</td>\n",
       "      <td>PoW</td>\n",
       "      <td>6.303924e+07</td>\n",
       "      <td>84000000</td>\n",
       "    </tr>\n",
       "    <tr>\n",
       "      <th>DASH</th>\n",
       "      <td>X11</td>\n",
       "      <td>PoW/PoS</td>\n",
       "      <td>9.031294e+06</td>\n",
       "      <td>22000000</td>\n",
       "    </tr>\n",
       "    <tr>\n",
       "      <th>XMR</th>\n",
       "      <td>CryptoNight-V7</td>\n",
       "      <td>PoW</td>\n",
       "      <td>1.720114e+07</td>\n",
       "      <td>0</td>\n",
       "    </tr>\n",
       "    <tr>\n",
       "      <th>ETC</th>\n",
       "      <td>Ethash</td>\n",
       "      <td>PoW</td>\n",
       "      <td>1.133597e+08</td>\n",
       "      <td>210000000</td>\n",
       "    </tr>\n",
       "    <tr>\n",
       "      <th>ZEC</th>\n",
       "      <td>Equihash</td>\n",
       "      <td>PoW</td>\n",
       "      <td>7.383056e+06</td>\n",
       "      <td>21000000</td>\n",
       "    </tr>\n",
       "  </tbody>\n",
       "</table>\n",
       "</div>"
      ],
      "text/plain": [
       "           Algorithm ProofType  TotalCoinsMined TotalCoinSupply\n",
       "42            Scrypt   PoW/PoS     4.199995e+01              42\n",
       "404           Scrypt   PoW/PoS     1.055185e+09       532000000\n",
       "1337             X13   PoW/PoS     2.927942e+10    314159265359\n",
       "BTC          SHA-256       PoW     1.792718e+07        21000000\n",
       "ETH           Ethash       PoW     1.076842e+08               0\n",
       "LTC           Scrypt       PoW     6.303924e+07        84000000\n",
       "DASH             X11   PoW/PoS     9.031294e+06        22000000\n",
       "XMR   CryptoNight-V7       PoW     1.720114e+07               0\n",
       "ETC           Ethash       PoW     1.133597e+08       210000000\n",
       "ZEC         Equihash       PoW     7.383056e+06        21000000"
      ]
     },
     "execution_count": 25,
     "metadata": {},
     "output_type": "execute_result"
    }
   ],
   "source": [
    "# Drop the 'CoinName' column since it's not going to be used on the clustering algorithm.\n",
    "crypto_trading_mined_df = crypto_trading_mined_df.drop(columns=\"CoinName\", axis=1)\n",
    "print(crypto_trading_mined_df.shape)\n",
    "crypto_trading_mined_df.head(10)"
   ]
  },
  {
   "cell_type": "code",
   "execution_count": 26,
   "metadata": {},
   "outputs": [
    {
     "name": "stdout",
     "output_type": "stream",
     "text": [
      "(532, 98)\n"
     ]
    },
    {
     "data": {
      "text/html": [
       "<div>\n",
       "<style scoped>\n",
       "    .dataframe tbody tr th:only-of-type {\n",
       "        vertical-align: middle;\n",
       "    }\n",
       "\n",
       "    .dataframe tbody tr th {\n",
       "        vertical-align: top;\n",
       "    }\n",
       "\n",
       "    .dataframe thead th {\n",
       "        text-align: right;\n",
       "    }\n",
       "</style>\n",
       "<table border=\"1\" class=\"dataframe\">\n",
       "  <thead>\n",
       "    <tr style=\"text-align: right;\">\n",
       "      <th></th>\n",
       "      <th>TotalCoinsMined</th>\n",
       "      <th>TotalCoinSupply</th>\n",
       "      <th>Algorithm_1GB AES Pattern Search</th>\n",
       "      <th>Algorithm_536</th>\n",
       "      <th>Algorithm_Argon2d</th>\n",
       "      <th>Algorithm_BLAKE256</th>\n",
       "      <th>Algorithm_Blake</th>\n",
       "      <th>Algorithm_Blake2S</th>\n",
       "      <th>Algorithm_Blake2b</th>\n",
       "      <th>Algorithm_C11</th>\n",
       "      <th>...</th>\n",
       "      <th>ProofType_PoW/PoS</th>\n",
       "      <th>ProofType_PoW/PoS</th>\n",
       "      <th>ProofType_PoW/PoW</th>\n",
       "      <th>ProofType_PoW/nPoS</th>\n",
       "      <th>ProofType_Pos</th>\n",
       "      <th>ProofType_Proof of Authority</th>\n",
       "      <th>ProofType_Proof of Trust</th>\n",
       "      <th>ProofType_TPoS</th>\n",
       "      <th>ProofType_Zero-Knowledge Proof</th>\n",
       "      <th>ProofType_dPoW/PoW</th>\n",
       "    </tr>\n",
       "  </thead>\n",
       "  <tbody>\n",
       "    <tr>\n",
       "      <th>42</th>\n",
       "      <td>4.199995e+01</td>\n",
       "      <td>42</td>\n",
       "      <td>0</td>\n",
       "      <td>0</td>\n",
       "      <td>0</td>\n",
       "      <td>0</td>\n",
       "      <td>0</td>\n",
       "      <td>0</td>\n",
       "      <td>0</td>\n",
       "      <td>0</td>\n",
       "      <td>...</td>\n",
       "      <td>1</td>\n",
       "      <td>0</td>\n",
       "      <td>0</td>\n",
       "      <td>0</td>\n",
       "      <td>0</td>\n",
       "      <td>0</td>\n",
       "      <td>0</td>\n",
       "      <td>0</td>\n",
       "      <td>0</td>\n",
       "      <td>0</td>\n",
       "    </tr>\n",
       "    <tr>\n",
       "      <th>404</th>\n",
       "      <td>1.055185e+09</td>\n",
       "      <td>532000000</td>\n",
       "      <td>0</td>\n",
       "      <td>0</td>\n",
       "      <td>0</td>\n",
       "      <td>0</td>\n",
       "      <td>0</td>\n",
       "      <td>0</td>\n",
       "      <td>0</td>\n",
       "      <td>0</td>\n",
       "      <td>...</td>\n",
       "      <td>1</td>\n",
       "      <td>0</td>\n",
       "      <td>0</td>\n",
       "      <td>0</td>\n",
       "      <td>0</td>\n",
       "      <td>0</td>\n",
       "      <td>0</td>\n",
       "      <td>0</td>\n",
       "      <td>0</td>\n",
       "      <td>0</td>\n",
       "    </tr>\n",
       "    <tr>\n",
       "      <th>1337</th>\n",
       "      <td>2.927942e+10</td>\n",
       "      <td>314159265359</td>\n",
       "      <td>0</td>\n",
       "      <td>0</td>\n",
       "      <td>0</td>\n",
       "      <td>0</td>\n",
       "      <td>0</td>\n",
       "      <td>0</td>\n",
       "      <td>0</td>\n",
       "      <td>0</td>\n",
       "      <td>...</td>\n",
       "      <td>1</td>\n",
       "      <td>0</td>\n",
       "      <td>0</td>\n",
       "      <td>0</td>\n",
       "      <td>0</td>\n",
       "      <td>0</td>\n",
       "      <td>0</td>\n",
       "      <td>0</td>\n",
       "      <td>0</td>\n",
       "      <td>0</td>\n",
       "    </tr>\n",
       "    <tr>\n",
       "      <th>BTC</th>\n",
       "      <td>1.792718e+07</td>\n",
       "      <td>21000000</td>\n",
       "      <td>0</td>\n",
       "      <td>0</td>\n",
       "      <td>0</td>\n",
       "      <td>0</td>\n",
       "      <td>0</td>\n",
       "      <td>0</td>\n",
       "      <td>0</td>\n",
       "      <td>0</td>\n",
       "      <td>...</td>\n",
       "      <td>0</td>\n",
       "      <td>0</td>\n",
       "      <td>0</td>\n",
       "      <td>0</td>\n",
       "      <td>0</td>\n",
       "      <td>0</td>\n",
       "      <td>0</td>\n",
       "      <td>0</td>\n",
       "      <td>0</td>\n",
       "      <td>0</td>\n",
       "    </tr>\n",
       "    <tr>\n",
       "      <th>ETH</th>\n",
       "      <td>1.076842e+08</td>\n",
       "      <td>0</td>\n",
       "      <td>0</td>\n",
       "      <td>0</td>\n",
       "      <td>0</td>\n",
       "      <td>0</td>\n",
       "      <td>0</td>\n",
       "      <td>0</td>\n",
       "      <td>0</td>\n",
       "      <td>0</td>\n",
       "      <td>...</td>\n",
       "      <td>0</td>\n",
       "      <td>0</td>\n",
       "      <td>0</td>\n",
       "      <td>0</td>\n",
       "      <td>0</td>\n",
       "      <td>0</td>\n",
       "      <td>0</td>\n",
       "      <td>0</td>\n",
       "      <td>0</td>\n",
       "      <td>0</td>\n",
       "    </tr>\n",
       "    <tr>\n",
       "      <th>LTC</th>\n",
       "      <td>6.303924e+07</td>\n",
       "      <td>84000000</td>\n",
       "      <td>0</td>\n",
       "      <td>0</td>\n",
       "      <td>0</td>\n",
       "      <td>0</td>\n",
       "      <td>0</td>\n",
       "      <td>0</td>\n",
       "      <td>0</td>\n",
       "      <td>0</td>\n",
       "      <td>...</td>\n",
       "      <td>0</td>\n",
       "      <td>0</td>\n",
       "      <td>0</td>\n",
       "      <td>0</td>\n",
       "      <td>0</td>\n",
       "      <td>0</td>\n",
       "      <td>0</td>\n",
       "      <td>0</td>\n",
       "      <td>0</td>\n",
       "      <td>0</td>\n",
       "    </tr>\n",
       "    <tr>\n",
       "      <th>DASH</th>\n",
       "      <td>9.031294e+06</td>\n",
       "      <td>22000000</td>\n",
       "      <td>0</td>\n",
       "      <td>0</td>\n",
       "      <td>0</td>\n",
       "      <td>0</td>\n",
       "      <td>0</td>\n",
       "      <td>0</td>\n",
       "      <td>0</td>\n",
       "      <td>0</td>\n",
       "      <td>...</td>\n",
       "      <td>1</td>\n",
       "      <td>0</td>\n",
       "      <td>0</td>\n",
       "      <td>0</td>\n",
       "      <td>0</td>\n",
       "      <td>0</td>\n",
       "      <td>0</td>\n",
       "      <td>0</td>\n",
       "      <td>0</td>\n",
       "      <td>0</td>\n",
       "    </tr>\n",
       "    <tr>\n",
       "      <th>XMR</th>\n",
       "      <td>1.720114e+07</td>\n",
       "      <td>0</td>\n",
       "      <td>0</td>\n",
       "      <td>0</td>\n",
       "      <td>0</td>\n",
       "      <td>0</td>\n",
       "      <td>0</td>\n",
       "      <td>0</td>\n",
       "      <td>0</td>\n",
       "      <td>0</td>\n",
       "      <td>...</td>\n",
       "      <td>0</td>\n",
       "      <td>0</td>\n",
       "      <td>0</td>\n",
       "      <td>0</td>\n",
       "      <td>0</td>\n",
       "      <td>0</td>\n",
       "      <td>0</td>\n",
       "      <td>0</td>\n",
       "      <td>0</td>\n",
       "      <td>0</td>\n",
       "    </tr>\n",
       "    <tr>\n",
       "      <th>ETC</th>\n",
       "      <td>1.133597e+08</td>\n",
       "      <td>210000000</td>\n",
       "      <td>0</td>\n",
       "      <td>0</td>\n",
       "      <td>0</td>\n",
       "      <td>0</td>\n",
       "      <td>0</td>\n",
       "      <td>0</td>\n",
       "      <td>0</td>\n",
       "      <td>0</td>\n",
       "      <td>...</td>\n",
       "      <td>0</td>\n",
       "      <td>0</td>\n",
       "      <td>0</td>\n",
       "      <td>0</td>\n",
       "      <td>0</td>\n",
       "      <td>0</td>\n",
       "      <td>0</td>\n",
       "      <td>0</td>\n",
       "      <td>0</td>\n",
       "      <td>0</td>\n",
       "    </tr>\n",
       "    <tr>\n",
       "      <th>ZEC</th>\n",
       "      <td>7.383056e+06</td>\n",
       "      <td>21000000</td>\n",
       "      <td>0</td>\n",
       "      <td>0</td>\n",
       "      <td>0</td>\n",
       "      <td>0</td>\n",
       "      <td>0</td>\n",
       "      <td>0</td>\n",
       "      <td>0</td>\n",
       "      <td>0</td>\n",
       "      <td>...</td>\n",
       "      <td>0</td>\n",
       "      <td>0</td>\n",
       "      <td>0</td>\n",
       "      <td>0</td>\n",
       "      <td>0</td>\n",
       "      <td>0</td>\n",
       "      <td>0</td>\n",
       "      <td>0</td>\n",
       "      <td>0</td>\n",
       "      <td>0</td>\n",
       "    </tr>\n",
       "  </tbody>\n",
       "</table>\n",
       "<p>10 rows × 98 columns</p>\n",
       "</div>"
      ],
      "text/plain": [
       "      TotalCoinsMined TotalCoinSupply  Algorithm_1GB AES Pattern Search  \\\n",
       "42       4.199995e+01              42                                 0   \n",
       "404      1.055185e+09       532000000                                 0   \n",
       "1337     2.927942e+10    314159265359                                 0   \n",
       "BTC      1.792718e+07        21000000                                 0   \n",
       "ETH      1.076842e+08               0                                 0   \n",
       "LTC      6.303924e+07        84000000                                 0   \n",
       "DASH     9.031294e+06        22000000                                 0   \n",
       "XMR      1.720114e+07               0                                 0   \n",
       "ETC      1.133597e+08       210000000                                 0   \n",
       "ZEC      7.383056e+06        21000000                                 0   \n",
       "\n",
       "      Algorithm_536  Algorithm_Argon2d  Algorithm_BLAKE256  Algorithm_Blake  \\\n",
       "42                0                  0                   0                0   \n",
       "404               0                  0                   0                0   \n",
       "1337              0                  0                   0                0   \n",
       "BTC               0                  0                   0                0   \n",
       "ETH               0                  0                   0                0   \n",
       "LTC               0                  0                   0                0   \n",
       "DASH              0                  0                   0                0   \n",
       "XMR               0                  0                   0                0   \n",
       "ETC               0                  0                   0                0   \n",
       "ZEC               0                  0                   0                0   \n",
       "\n",
       "      Algorithm_Blake2S  Algorithm_Blake2b  Algorithm_C11  ...  \\\n",
       "42                    0                  0              0  ...   \n",
       "404                   0                  0              0  ...   \n",
       "1337                  0                  0              0  ...   \n",
       "BTC                   0                  0              0  ...   \n",
       "ETH                   0                  0              0  ...   \n",
       "LTC                   0                  0              0  ...   \n",
       "DASH                  0                  0              0  ...   \n",
       "XMR                   0                  0              0  ...   \n",
       "ETC                   0                  0              0  ...   \n",
       "ZEC                   0                  0              0  ...   \n",
       "\n",
       "      ProofType_PoW/PoS  ProofType_PoW/PoS   ProofType_PoW/PoW  \\\n",
       "42                    1                   0                  0   \n",
       "404                   1                   0                  0   \n",
       "1337                  1                   0                  0   \n",
       "BTC                   0                   0                  0   \n",
       "ETH                   0                   0                  0   \n",
       "LTC                   0                   0                  0   \n",
       "DASH                  1                   0                  0   \n",
       "XMR                   0                   0                  0   \n",
       "ETC                   0                   0                  0   \n",
       "ZEC                   0                   0                  0   \n",
       "\n",
       "      ProofType_PoW/nPoS  ProofType_Pos  ProofType_Proof of Authority  \\\n",
       "42                     0              0                             0   \n",
       "404                    0              0                             0   \n",
       "1337                   0              0                             0   \n",
       "BTC                    0              0                             0   \n",
       "ETH                    0              0                             0   \n",
       "LTC                    0              0                             0   \n",
       "DASH                   0              0                             0   \n",
       "XMR                    0              0                             0   \n",
       "ETC                    0              0                             0   \n",
       "ZEC                    0              0                             0   \n",
       "\n",
       "      ProofType_Proof of Trust  ProofType_TPoS  \\\n",
       "42                           0               0   \n",
       "404                          0               0   \n",
       "1337                         0               0   \n",
       "BTC                          0               0   \n",
       "ETH                          0               0   \n",
       "LTC                          0               0   \n",
       "DASH                         0               0   \n",
       "XMR                          0               0   \n",
       "ETC                          0               0   \n",
       "ZEC                          0               0   \n",
       "\n",
       "      ProofType_Zero-Knowledge Proof  ProofType_dPoW/PoW  \n",
       "42                                 0                   0  \n",
       "404                                0                   0  \n",
       "1337                               0                   0  \n",
       "BTC                                0                   0  \n",
       "ETH                                0                   0  \n",
       "LTC                                0                   0  \n",
       "DASH                               0                   0  \n",
       "XMR                                0                   0  \n",
       "ETC                                0                   0  \n",
       "ZEC                                0                   0  \n",
       "\n",
       "[10 rows x 98 columns]"
      ]
     },
     "execution_count": 26,
     "metadata": {},
     "output_type": "execute_result"
    }
   ],
   "source": [
    "# Use get_dummies() to create variables for text features.\n",
    "X = pd.get_dummies(crypto_trading_mined_df, columns=[\"Algorithm\", \"ProofType\"])\n",
    "print(X.shape)\n",
    "X.head(10)"
   ]
  },
  {
   "cell_type": "code",
   "execution_count": 27,
   "metadata": {},
   "outputs": [
    {
     "data": {
      "text/plain": [
       "array([[-0.11710817, -0.1528703 , -0.0433963 , -0.0433963 , -0.0433963 ,\n",
       "        -0.06142951, -0.07530656, -0.0433963 , -0.06142951, -0.06142951,\n",
       "        -0.0433963 , -0.0433963 , -0.19245009, -0.06142951, -0.09740465,\n",
       "        -0.0433963 , -0.11547005, -0.07530656, -0.0433963 , -0.0433963 ,\n",
       "        -0.15191091, -0.0433963 , -0.13118084, -0.0433963 , -0.0433963 ,\n",
       "        -0.08703883, -0.0433963 , -0.0433963 , -0.0433963 , -0.0433963 ,\n",
       "        -0.06142951, -0.0433963 , -0.08703883, -0.08703883, -0.08703883,\n",
       "        -0.0433963 , -0.13118084, -0.13840913, -0.13840913, -0.0433963 ,\n",
       "        -0.06142951, -0.0433963 , -0.07530656, -0.18168574, -0.0433963 ,\n",
       "        -0.0433963 , -0.0433963 , -0.07530656, -0.15826614, -0.31491833,\n",
       "        -0.0433963 , -0.08703883, -0.07530656, -0.06142951,  1.38675049,\n",
       "        -0.0433963 , -0.0433963 , -0.06142951, -0.0433963 , -0.0433963 ,\n",
       "        -0.0433963 , -0.0433963 , -0.0433963 , -0.0433963 , -0.0433963 ,\n",
       "        -0.0433963 , -0.39879994, -0.0433963 , -0.18168574, -0.0433963 ,\n",
       "        -0.08703883, -0.08703883, -0.10680283, -0.0433963 , -0.13118084,\n",
       "        -0.0433963 , -0.0433963 , -0.0433963 , -0.0433963 , -0.07530656,\n",
       "        -0.43911856, -0.0433963 , -0.06142951, -0.0433963 , -0.0433963 ,\n",
       "        -0.89632016, -0.0433963 , -0.0433963 ,  1.42222617, -0.0433963 ,\n",
       "        -0.0433963 , -0.0433963 , -0.0433963 , -0.0433963 , -0.0433963 ,\n",
       "        -0.0433963 , -0.0433963 , -0.0433963 ],\n",
       "       [-0.09396955, -0.145009  , -0.0433963 , -0.0433963 , -0.0433963 ,\n",
       "        -0.06142951, -0.07530656, -0.0433963 , -0.06142951, -0.06142951,\n",
       "        -0.0433963 , -0.0433963 , -0.19245009, -0.06142951, -0.09740465,\n",
       "        -0.0433963 , -0.11547005, -0.07530656, -0.0433963 , -0.0433963 ,\n",
       "        -0.15191091, -0.0433963 , -0.13118084, -0.0433963 , -0.0433963 ,\n",
       "        -0.08703883, -0.0433963 , -0.0433963 , -0.0433963 , -0.0433963 ,\n",
       "        -0.06142951, -0.0433963 , -0.08703883, -0.08703883, -0.08703883,\n",
       "        -0.0433963 , -0.13118084, -0.13840913, -0.13840913, -0.0433963 ,\n",
       "        -0.06142951, -0.0433963 , -0.07530656, -0.18168574, -0.0433963 ,\n",
       "        -0.0433963 , -0.0433963 , -0.07530656, -0.15826614, -0.31491833,\n",
       "        -0.0433963 , -0.08703883, -0.07530656, -0.06142951,  1.38675049,\n",
       "        -0.0433963 , -0.0433963 , -0.06142951, -0.0433963 , -0.0433963 ,\n",
       "        -0.0433963 , -0.0433963 , -0.0433963 , -0.0433963 , -0.0433963 ,\n",
       "        -0.0433963 , -0.39879994, -0.0433963 , -0.18168574, -0.0433963 ,\n",
       "        -0.08703883, -0.08703883, -0.10680283, -0.0433963 , -0.13118084,\n",
       "        -0.0433963 , -0.0433963 , -0.0433963 , -0.0433963 , -0.07530656,\n",
       "        -0.43911856, -0.0433963 , -0.06142951, -0.0433963 , -0.0433963 ,\n",
       "        -0.89632016, -0.0433963 , -0.0433963 ,  1.42222617, -0.0433963 ,\n",
       "        -0.0433963 , -0.0433963 , -0.0433963 , -0.0433963 , -0.0433963 ,\n",
       "        -0.0433963 , -0.0433963 , -0.0433963 ]])"
      ]
     },
     "execution_count": 27,
     "metadata": {},
     "output_type": "execute_result"
    }
   ],
   "source": [
    "# Standardize the data with StandardScaler().\n",
    "X_scaled = StandardScaler().fit_transform(X)\n",
    "X_scaled[0:2]"
   ]
  },
  {
   "cell_type": "markdown",
   "metadata": {},
   "source": [
    "### Deliverable 2: Reducing Data Dimensions Using PCA"
   ]
  },
  {
   "cell_type": "code",
   "execution_count": 28,
   "metadata": {},
   "outputs": [
    {
     "data": {
      "text/plain": [
       "array([[-0.35945425,  0.85410182, -0.57138848],\n",
       "       [-0.3427924 ,  0.85430147, -0.5718115 ],\n",
       "       [ 2.30630726,  1.62184334, -0.66050796],\n",
       "       ...,\n",
       "       [ 0.34443202, -2.20291211,  0.41518645],\n",
       "       [-0.18265542, -2.04396838,  0.34313859],\n",
       "       [-0.30052149,  0.78401004, -0.25586814]])"
      ]
     },
     "execution_count": 28,
     "metadata": {},
     "output_type": "execute_result"
    }
   ],
   "source": [
    "# Using PCA to reduce dimension to three principal components.\n",
    "# Initialize PCA model\n",
    "pca = PCA(n_components=3, random_state=42)\n",
    "\n",
    "# Get two principal components for the data.\n",
    "crypto_pca = pca.fit_transform(X_scaled)\n",
    "crypto_pca"
   ]
  },
  {
   "cell_type": "code",
   "execution_count": 29,
   "metadata": {},
   "outputs": [
    {
     "name": "stdout",
     "output_type": "stream",
     "text": [
      "(532, 3)\n"
     ]
    },
    {
     "data": {
      "text/html": [
       "<div>\n",
       "<style scoped>\n",
       "    .dataframe tbody tr th:only-of-type {\n",
       "        vertical-align: middle;\n",
       "    }\n",
       "\n",
       "    .dataframe tbody tr th {\n",
       "        vertical-align: top;\n",
       "    }\n",
       "\n",
       "    .dataframe thead th {\n",
       "        text-align: right;\n",
       "    }\n",
       "</style>\n",
       "<table border=\"1\" class=\"dataframe\">\n",
       "  <thead>\n",
       "    <tr style=\"text-align: right;\">\n",
       "      <th></th>\n",
       "      <th>PC 1</th>\n",
       "      <th>PC 2</th>\n",
       "      <th>PC 3</th>\n",
       "    </tr>\n",
       "  </thead>\n",
       "  <tbody>\n",
       "    <tr>\n",
       "      <th>42</th>\n",
       "      <td>-0.359454</td>\n",
       "      <td>0.854102</td>\n",
       "      <td>-0.571388</td>\n",
       "    </tr>\n",
       "    <tr>\n",
       "      <th>404</th>\n",
       "      <td>-0.342792</td>\n",
       "      <td>0.854301</td>\n",
       "      <td>-0.571812</td>\n",
       "    </tr>\n",
       "    <tr>\n",
       "      <th>1337</th>\n",
       "      <td>2.306307</td>\n",
       "      <td>1.621843</td>\n",
       "      <td>-0.660508</td>\n",
       "    </tr>\n",
       "    <tr>\n",
       "      <th>BTC</th>\n",
       "      <td>-0.134822</td>\n",
       "      <td>-1.274252</td>\n",
       "      <td>0.149364</td>\n",
       "    </tr>\n",
       "    <tr>\n",
       "      <th>ETH</th>\n",
       "      <td>-0.126082</td>\n",
       "      <td>-1.934525</td>\n",
       "      <td>0.405062</td>\n",
       "    </tr>\n",
       "    <tr>\n",
       "      <th>LTC</th>\n",
       "      <td>-0.174479</td>\n",
       "      <td>-1.210371</td>\n",
       "      <td>-0.004818</td>\n",
       "    </tr>\n",
       "    <tr>\n",
       "      <th>DASH</th>\n",
       "      <td>-0.394359</td>\n",
       "      <td>1.242484</td>\n",
       "      <td>-0.493488</td>\n",
       "    </tr>\n",
       "    <tr>\n",
       "      <th>XMR</th>\n",
       "      <td>-0.135254</td>\n",
       "      <td>-2.113412</td>\n",
       "      <td>0.388225</td>\n",
       "    </tr>\n",
       "    <tr>\n",
       "      <th>ETC</th>\n",
       "      <td>-0.124523</td>\n",
       "      <td>-1.934615</td>\n",
       "      <td>0.405041</td>\n",
       "    </tr>\n",
       "    <tr>\n",
       "      <th>ZEC</th>\n",
       "      <td>-0.182654</td>\n",
       "      <td>-2.043968</td>\n",
       "      <td>0.343139</td>\n",
       "    </tr>\n",
       "  </tbody>\n",
       "</table>\n",
       "</div>"
      ],
      "text/plain": [
       "          PC 1      PC 2      PC 3\n",
       "42   -0.359454  0.854102 -0.571388\n",
       "404  -0.342792  0.854301 -0.571812\n",
       "1337  2.306307  1.621843 -0.660508\n",
       "BTC  -0.134822 -1.274252  0.149364\n",
       "ETH  -0.126082 -1.934525  0.405062\n",
       "LTC  -0.174479 -1.210371 -0.004818\n",
       "DASH -0.394359  1.242484 -0.493488\n",
       "XMR  -0.135254 -2.113412  0.388225\n",
       "ETC  -0.124523 -1.934615  0.405041\n",
       "ZEC  -0.182654 -2.043968  0.343139"
      ]
     },
     "execution_count": 29,
     "metadata": {},
     "output_type": "execute_result"
    }
   ],
   "source": [
    "# Create a DataFrame with the three principal components.\n",
    "crypto_pca_df = pd.DataFrame(data = crypto_pca, columns= (\"PC 1\", \"PC 2\", \"PC 3\"), index=X.index)\n",
    "print(crypto_pca_df.shape)\n",
    "crypto_pca_df.head(10)"
   ]
  },
  {
   "cell_type": "markdown",
   "metadata": {},
   "source": [
    "### Deliverable 3: Clustering Crytocurrencies Using K-Means\n",
    "\n",
    "#### Finding the Best Value for `k` Using the Elbow Curve"
   ]
  },
  {
   "cell_type": "code",
   "execution_count": 30,
   "metadata": {},
   "outputs": [
    {
     "name": "stderr",
     "output_type": "stream",
     "text": [
      "C:\\Users\\jerry\\anaconda3\\envs\\PythonData\\lib\\site-packages\\sklearn\\cluster\\_kmeans.py:1037: UserWarning: KMeans is known to have a memory leak on Windows with MKL, when there are less chunks than available threads. You can avoid it by setting the environment variable OMP_NUM_THREADS=3.\n",
      "  \"KMeans is known to have a memory leak on Windows \"\n"
     ]
    },
    {
     "data": {},
     "metadata": {},
     "output_type": "display_data"
    },
    {
     "data": {
      "application/vnd.holoviews_exec.v0+json": "",
      "text/html": [
       "<div id='1120'>\n",
       "\n",
       "\n",
       "\n",
       "\n",
       "\n",
       "  <div class=\"bk-root\" id=\"7417967e-7ba4-4124-a9ed-8e58c3877b18\" data-root-id=\"1120\"></div>\n",
       "</div>\n",
       "<script type=\"application/javascript\">(function(root) {\n",
       "  function embed_document(root) {\n",
       "    var docs_json = {\"737c919f-890b-4d3f-b495-45f77ce2e02b\":{\"defs\":[{\"extends\":null,\"module\":null,\"name\":\"ReactiveHTML1\",\"overrides\":[],\"properties\":[]},{\"extends\":null,\"module\":null,\"name\":\"FlexBox1\",\"overrides\":[],\"properties\":[{\"default\":\"flex-start\",\"kind\":null,\"name\":\"align_content\"},{\"default\":\"flex-start\",\"kind\":null,\"name\":\"align_items\"},{\"default\":\"row\",\"kind\":null,\"name\":\"flex_direction\"},{\"default\":\"wrap\",\"kind\":null,\"name\":\"flex_wrap\"},{\"default\":\"flex-start\",\"kind\":null,\"name\":\"justify_content\"}]},{\"extends\":null,\"module\":null,\"name\":\"GridStack1\",\"overrides\":[],\"properties\":[{\"default\":\"warn\",\"kind\":null,\"name\":\"mode\"},{\"default\":null,\"kind\":null,\"name\":\"ncols\"},{\"default\":null,\"kind\":null,\"name\":\"nrows\"},{\"default\":true,\"kind\":null,\"name\":\"allow_resize\"},{\"default\":true,\"kind\":null,\"name\":\"allow_drag\"},{\"default\":[],\"kind\":null,\"name\":\"state\"}]},{\"extends\":null,\"module\":null,\"name\":\"click1\",\"overrides\":[],\"properties\":[{\"default\":\"\",\"kind\":null,\"name\":\"terminal_output\"},{\"default\":\"\",\"kind\":null,\"name\":\"debug_name\"},{\"default\":0,\"kind\":null,\"name\":\"clears\"}]},{\"extends\":null,\"module\":null,\"name\":\"TemplateActions1\",\"overrides\":[],\"properties\":[{\"default\":0,\"kind\":null,\"name\":\"open_modal\"},{\"default\":0,\"kind\":null,\"name\":\"close_modal\"}]},{\"extends\":null,\"module\":null,\"name\":\"MaterialTemplateActions1\",\"overrides\":[],\"properties\":[{\"default\":0,\"kind\":null,\"name\":\"open_modal\"},{\"default\":0,\"kind\":null,\"name\":\"close_modal\"}]}],\"roots\":{\"references\":[{\"attributes\":{},\"id\":\"1132\",\"type\":\"LinearScale\"},{\"attributes\":{\"axis_label\":\"inertia\",\"coordinates\":null,\"formatter\":{\"id\":\"1171\"},\"group\":null,\"major_label_policy\":{\"id\":\"1172\"},\"ticker\":{\"id\":\"1139\"}},\"id\":\"1138\",\"type\":\"LinearAxis\"},{\"attributes\":{\"tools\":[{\"id\":\"1124\"},{\"id\":\"1142\"},{\"id\":\"1143\"},{\"id\":\"1144\"},{\"id\":\"1145\"},{\"id\":\"1146\"}]},\"id\":\"1148\",\"type\":\"Toolbar\"},{\"attributes\":{\"axis_label\":\"k\",\"coordinates\":null,\"formatter\":{\"id\":\"1166\"},\"group\":null,\"major_label_policy\":{\"id\":\"1167\"},\"ticker\":{\"id\":\"1164\"}},\"id\":\"1134\",\"type\":\"LinearAxis\"},{\"attributes\":{},\"id\":\"1171\",\"type\":\"BasicTickFormatter\"},{\"attributes\":{\"axis\":{\"id\":\"1138\"},\"coordinates\":null,\"dimension\":1,\"grid_line_color\":null,\"group\":null,\"ticker\":null},\"id\":\"1141\",\"type\":\"Grid\"},{\"attributes\":{\"margin\":[5,5,5,5],\"name\":\"HSpacer01810\",\"sizing_mode\":\"stretch_width\"},\"id\":\"1191\",\"type\":\"Spacer\"},{\"attributes\":{\"below\":[{\"id\":\"1134\"}],\"center\":[{\"id\":\"1137\"},{\"id\":\"1141\"}],\"height\":300,\"left\":[{\"id\":\"1138\"}],\"margin\":[5,5,5,5],\"min_border_bottom\":10,\"min_border_left\":10,\"min_border_right\":10,\"min_border_top\":10,\"renderers\":[{\"id\":\"1161\"}],\"sizing_mode\":\"fixed\",\"title\":{\"id\":\"1126\"},\"toolbar\":{\"id\":\"1148\"},\"width\":700,\"x_range\":{\"id\":\"1122\"},\"x_scale\":{\"id\":\"1130\"},\"y_range\":{\"id\":\"1123\"},\"y_scale\":{\"id\":\"1132\"}},\"id\":\"1125\",\"subtype\":\"Figure\",\"type\":\"Plot\"},{\"attributes\":{},\"id\":\"1156\",\"type\":\"Selection\"},{\"attributes\":{\"ticks\":[1,2,3,4,5,6,7,8,9,10]},\"id\":\"1164\",\"type\":\"FixedTicker\"},{\"attributes\":{\"line_alpha\":0.1,\"line_color\":\"#30a2da\",\"line_width\":2,\"x\":{\"field\":\"k\"},\"y\":{\"field\":\"inertia\"}},\"id\":\"1159\",\"type\":\"Line\"},{\"attributes\":{},\"id\":\"1166\",\"type\":\"BasicTickFormatter\"},{\"attributes\":{\"margin\":[5,5,5,5],\"name\":\"HSpacer01809\",\"sizing_mode\":\"stretch_width\"},\"id\":\"1121\",\"type\":\"Spacer\"},{\"attributes\":{\"end\":10.0,\"reset_end\":10.0,\"reset_start\":1.0,\"start\":1.0,\"tags\":[[[\"k\",\"k\",null]]]},\"id\":\"1122\",\"type\":\"Range1d\"},{\"attributes\":{},\"id\":\"1139\",\"type\":\"BasicTicker\"},{\"attributes\":{},\"id\":\"1130\",\"type\":\"LinearScale\"},{\"attributes\":{},\"id\":\"1167\",\"type\":\"AllLabels\"},{\"attributes\":{\"callback\":null,\"renderers\":[{\"id\":\"1161\"}],\"tags\":[\"hv_created\"],\"tooltips\":[[\"k\",\"@{k}\"],[\"inertia\",\"@{inertia}\"]]},\"id\":\"1124\",\"type\":\"HoverTool\"},{\"attributes\":{\"axis\":{\"id\":\"1134\"},\"coordinates\":null,\"grid_line_color\":null,\"group\":null,\"ticker\":null},\"id\":\"1137\",\"type\":\"Grid\"},{\"attributes\":{},\"id\":\"1142\",\"type\":\"SaveTool\"},{\"attributes\":{\"coordinates\":null,\"data_source\":{\"id\":\"1155\"},\"glyph\":{\"id\":\"1158\"},\"group\":null,\"hover_glyph\":null,\"muted_glyph\":{\"id\":\"1160\"},\"nonselection_glyph\":{\"id\":\"1159\"},\"selection_glyph\":{\"id\":\"1163\"},\"view\":{\"id\":\"1162\"}},\"id\":\"1161\",\"type\":\"GlyphRenderer\"},{\"attributes\":{},\"id\":\"1143\",\"type\":\"PanTool\"},{\"attributes\":{},\"id\":\"1172\",\"type\":\"AllLabels\"},{\"attributes\":{\"end\":3989.344261612854,\"reset_end\":3989.344261612854,\"reset_start\":-230.12167978682726,\"start\":-230.12167978682726,\"tags\":[[[\"inertia\",\"inertia\",null]]]},\"id\":\"1123\",\"type\":\"Range1d\"},{\"attributes\":{\"data\":{\"inertia\":{\"__ndarray__\":\"taARt3FrrEBVlvif806jQNYb2JDOcZdA8YXiw31ugUCeTrv3q5B3QJKEznW0FXJAexVxHYijbkCuY0SAa8pnQD5H7O1Wb2JAc8ej5QdgXkA=\",\"dtype\":\"float64\",\"order\":\"little\",\"shape\":[10]},\"k\":[1,2,3,4,5,6,7,8,9,10]},\"selected\":{\"id\":\"1156\"},\"selection_policy\":{\"id\":\"1179\"}},\"id\":\"1155\",\"type\":\"ColumnDataSource\"},{\"attributes\":{},\"id\":\"1146\",\"type\":\"ResetTool\"},{\"attributes\":{},\"id\":\"1144\",\"type\":\"WheelZoomTool\"},{\"attributes\":{\"children\":[{\"id\":\"1121\"},{\"id\":\"1125\"},{\"id\":\"1191\"}],\"margin\":[0,0,0,0],\"name\":\"Row01805\",\"tags\":[\"embedded\"]},\"id\":\"1120\",\"type\":\"Row\"},{\"attributes\":{\"source\":{\"id\":\"1155\"}},\"id\":\"1162\",\"type\":\"CDSView\"},{\"attributes\":{\"line_color\":\"#30a2da\",\"line_width\":2,\"x\":{\"field\":\"k\"},\"y\":{\"field\":\"inertia\"}},\"id\":\"1158\",\"type\":\"Line\"},{\"attributes\":{\"overlay\":{\"id\":\"1147\"}},\"id\":\"1145\",\"type\":\"BoxZoomTool\"},{\"attributes\":{\"line_alpha\":0.2,\"line_color\":\"#30a2da\",\"line_width\":2,\"x\":{\"field\":\"k\"},\"y\":{\"field\":\"inertia\"}},\"id\":\"1160\",\"type\":\"Line\"},{\"attributes\":{\"line_color\":\"#30a2da\",\"line_width\":2,\"x\":{\"field\":\"k\"},\"y\":{\"field\":\"inertia\"}},\"id\":\"1163\",\"type\":\"Line\"},{\"attributes\":{},\"id\":\"1179\",\"type\":\"UnionRenderers\"},{\"attributes\":{\"coordinates\":null,\"group\":null,\"text\":\"Elbow Curve\",\"text_color\":\"black\",\"text_font_size\":\"12pt\"},\"id\":\"1126\",\"type\":\"Title\"},{\"attributes\":{\"bottom_units\":\"screen\",\"coordinates\":null,\"fill_alpha\":0.5,\"fill_color\":\"lightgrey\",\"group\":null,\"left_units\":\"screen\",\"level\":\"overlay\",\"line_alpha\":1.0,\"line_color\":\"black\",\"line_dash\":[4,4],\"line_width\":2,\"right_units\":\"screen\",\"syncable\":false,\"top_units\":\"screen\"},\"id\":\"1147\",\"type\":\"BoxAnnotation\"}],\"root_ids\":[\"1120\"]},\"title\":\"Bokeh Application\",\"version\":\"2.4.2\"}};\n",
       "    var render_items = [{\"docid\":\"737c919f-890b-4d3f-b495-45f77ce2e02b\",\"root_ids\":[\"1120\"],\"roots\":{\"1120\":\"7417967e-7ba4-4124-a9ed-8e58c3877b18\"}}];\n",
       "    root.Bokeh.embed.embed_items_notebook(docs_json, render_items);\n",
       "  }\n",
       "  if (root.Bokeh !== undefined && root.Bokeh.Panel !== undefined) {\n",
       "    embed_document(root);\n",
       "  } else {\n",
       "    var attempts = 0;\n",
       "    var timer = setInterval(function(root) {\n",
       "      if (root.Bokeh !== undefined && root.Bokeh.Panel !== undefined) {\n",
       "        clearInterval(timer);\n",
       "        embed_document(root);\n",
       "      } else if (document.readyState == \"complete\") {\n",
       "        attempts++;\n",
       "        if (attempts > 200) {\n",
       "          clearInterval(timer);\n",
       "          console.log(\"Bokeh: ERROR: Unable to run BokehJS code because BokehJS library is missing\");\n",
       "        }\n",
       "      }\n",
       "    }, 25, root)\n",
       "  }\n",
       "})(window);</script>"
      ],
      "text/plain": [
       ":Curve   [k]   (inertia)"
      ]
     },
     "execution_count": 30,
     "metadata": {
      "application/vnd.holoviews_exec.v0+json": {
       "id": "1120"
      }
     },
     "output_type": "execute_result"
    }
   ],
   "source": [
    "# Create an elbow curve to find the best value for K.\n",
    "inertia = []\n",
    "k = list(range(1,11))\n",
    "\n",
    "for i in k:\n",
    "    km = KMeans(n_clusters=i, random_state=42)\n",
    "    km.fit(crypto_pca_df)\n",
    "    inertia.append(km.inertia_)\n",
    "\n",
    "elbow_data = {\"k\": k, \"inertia\": inertia}\n",
    "df_elbow = pd.DataFrame(elbow_data)\n",
    "df_elbow.hvplot.line(x=\"k\", y=\"inertia\", title=\"Elbow Curve\", xticks=k)\n"
   ]
  },
  {
   "cell_type": "markdown",
   "metadata": {},
   "source": [
    "Running K-Means with `k=4`"
   ]
  },
  {
   "cell_type": "code",
   "execution_count": 31,
   "metadata": {},
   "outputs": [
    {
     "data": {
      "text/plain": [
       "array([1, 1, 1, 0, 0, 0, 1, 0, 0, 0, 1, 0, 1, 1, 0, 1, 0, 0, 1, 1, 0, 0,\n",
       "       0, 0, 0, 1, 0, 0, 0, 1, 0, 1, 0, 0, 1, 1, 0, 0, 0, 0, 0, 0, 1, 1,\n",
       "       0, 0, 0, 0, 0, 1, 1, 0, 1, 0, 0, 0, 0, 1, 0, 0, 1, 0, 1, 1, 1, 0,\n",
       "       0, 0, 1, 1, 1, 1, 1, 0, 0, 0, 1, 1, 0, 1, 0, 1, 1, 0, 0, 0, 0, 1,\n",
       "       1, 0, 1, 0, 0, 1, 1, 0, 1, 1, 0, 0, 1, 1, 0, 1, 1, 0, 1, 0, 1, 0,\n",
       "       1, 0, 1, 1, 0, 0, 1, 0, 0, 0, 1, 0, 0, 0, 0, 0, 1, 1, 0, 0, 0, 1,\n",
       "       0, 1, 0, 0, 1, 0, 1, 0, 1, 1, 0, 0, 1, 0, 0, 1, 1, 0, 1, 0, 1, 1,\n",
       "       1, 0, 0, 0, 0, 1, 1, 1, 1, 1, 0, 0, 1, 1, 1, 1, 1, 0, 1, 1, 1, 1,\n",
       "       1, 0, 1, 0, 1, 1, 0, 1, 0, 1, 1, 0, 1, 0, 1, 0, 1, 0, 1, 1, 1, 1,\n",
       "       0, 1, 1, 1, 1, 1, 0, 0, 1, 1, 0, 0, 1, 1, 1, 1, 1, 0, 1, 1, 1, 1,\n",
       "       1, 1, 1, 1, 0, 1, 1, 1, 1, 1, 1, 0, 0, 0, 1, 1, 1, 1, 0, 1, 0, 1,\n",
       "       1, 0, 1, 0, 0, 1, 0, 0, 1, 0, 1, 1, 1, 0, 1, 1, 0, 1, 1, 1, 1, 1,\n",
       "       1, 1, 0, 1, 0, 1, 1, 1, 1, 0, 1, 0, 1, 0, 0, 0, 0, 1, 0, 1, 1, 0,\n",
       "       1, 0, 0, 0, 1, 0, 1, 0, 0, 0, 1, 0, 1, 0, 1, 1, 3, 0, 1, 0, 0, 0,\n",
       "       0, 0, 1, 1, 0, 1, 1, 1, 0, 1, 0, 1, 0, 1, 0, 1, 1, 1, 1, 0, 1, 1,\n",
       "       0, 1, 1, 1, 0, 0, 0, 0, 1, 1, 1, 1, 0, 1, 0, 0, 0, 1, 1, 0, 0, 1,\n",
       "       1, 0, 1, 0, 0, 0, 1, 0, 0, 1, 1, 1, 0, 0, 0, 1, 1, 1, 0, 0, 1, 0,\n",
       "       0, 0, 0, 1, 3, 3, 0, 0, 0, 1, 3, 1, 1, 1, 1, 0, 0, 0, 0, 1, 1, 1,\n",
       "       0, 1, 0, 1, 1, 1, 1, 0, 1, 1, 0, 1, 1, 0, 0, 1, 0, 1, 0, 0, 0, 0,\n",
       "       1, 1, 0, 1, 0, 1, 1, 0, 1, 1, 1, 0, 0, 0, 1, 1, 1, 1, 1, 1, 0, 1,\n",
       "       0, 0, 0, 0, 1, 1, 1, 1, 0, 1, 1, 0, 1, 1, 0, 3, 0, 1, 0, 0, 1, 1,\n",
       "       0, 1, 0, 0, 1, 0, 0, 1, 0, 1, 0, 1, 1, 0, 1, 1, 1, 1, 1, 0, 0, 0,\n",
       "       1, 1, 1, 0, 1, 0, 1, 0, 1, 1, 1, 1, 0, 1, 1, 1, 0, 1, 0, 1, 0, 1,\n",
       "       1, 1, 0, 0, 1, 1, 1, 1, 1, 1, 0, 1, 0, 1, 0, 1, 1, 3, 1, 2, 1, 1,\n",
       "       1, 0, 0, 1])"
      ]
     },
     "execution_count": 31,
     "metadata": {},
     "output_type": "execute_result"
    }
   ],
   "source": [
    "# Initialize the K-Means model.\n",
    "model= KMeans(n_clusters=4, random_state=42)\n",
    "\n",
    "# Fit the model\n",
    "model.fit_transform(crypto_pca_df)\n",
    "\n",
    "# Predict clusters\n",
    "predictions = model.predict(crypto_pca_df)\n",
    "predictions"
   ]
  },
  {
   "cell_type": "code",
   "execution_count": 32,
   "metadata": {},
   "outputs": [
    {
     "name": "stdout",
     "output_type": "stream",
     "text": [
      "(532, 9)\n"
     ]
    },
    {
     "data": {
      "text/html": [
       "<div>\n",
       "<style scoped>\n",
       "    .dataframe tbody tr th:only-of-type {\n",
       "        vertical-align: middle;\n",
       "    }\n",
       "\n",
       "    .dataframe tbody tr th {\n",
       "        vertical-align: top;\n",
       "    }\n",
       "\n",
       "    .dataframe thead th {\n",
       "        text-align: right;\n",
       "    }\n",
       "</style>\n",
       "<table border=\"1\" class=\"dataframe\">\n",
       "  <thead>\n",
       "    <tr style=\"text-align: right;\">\n",
       "      <th></th>\n",
       "      <th>Algorithm</th>\n",
       "      <th>ProofType</th>\n",
       "      <th>TotalCoinsMined</th>\n",
       "      <th>TotalCoinSupply</th>\n",
       "      <th>PC 1</th>\n",
       "      <th>PC 2</th>\n",
       "      <th>PC 3</th>\n",
       "      <th>CoinName</th>\n",
       "      <th>Class</th>\n",
       "    </tr>\n",
       "  </thead>\n",
       "  <tbody>\n",
       "    <tr>\n",
       "      <th>42</th>\n",
       "      <td>Scrypt</td>\n",
       "      <td>PoW/PoS</td>\n",
       "      <td>4.199995e+01</td>\n",
       "      <td>42</td>\n",
       "      <td>-0.359454</td>\n",
       "      <td>0.854102</td>\n",
       "      <td>-0.571388</td>\n",
       "      <td>42 Coin</td>\n",
       "      <td>1</td>\n",
       "    </tr>\n",
       "    <tr>\n",
       "      <th>404</th>\n",
       "      <td>Scrypt</td>\n",
       "      <td>PoW/PoS</td>\n",
       "      <td>1.055185e+09</td>\n",
       "      <td>532000000</td>\n",
       "      <td>-0.342792</td>\n",
       "      <td>0.854301</td>\n",
       "      <td>-0.571812</td>\n",
       "      <td>404Coin</td>\n",
       "      <td>1</td>\n",
       "    </tr>\n",
       "    <tr>\n",
       "      <th>1337</th>\n",
       "      <td>X13</td>\n",
       "      <td>PoW/PoS</td>\n",
       "      <td>2.927942e+10</td>\n",
       "      <td>314159265359</td>\n",
       "      <td>2.306307</td>\n",
       "      <td>1.621843</td>\n",
       "      <td>-0.660508</td>\n",
       "      <td>EliteCoin</td>\n",
       "      <td>1</td>\n",
       "    </tr>\n",
       "    <tr>\n",
       "      <th>BTC</th>\n",
       "      <td>SHA-256</td>\n",
       "      <td>PoW</td>\n",
       "      <td>1.792718e+07</td>\n",
       "      <td>21000000</td>\n",
       "      <td>-0.134822</td>\n",
       "      <td>-1.274252</td>\n",
       "      <td>0.149364</td>\n",
       "      <td>Bitcoin</td>\n",
       "      <td>0</td>\n",
       "    </tr>\n",
       "    <tr>\n",
       "      <th>ETH</th>\n",
       "      <td>Ethash</td>\n",
       "      <td>PoW</td>\n",
       "      <td>1.076842e+08</td>\n",
       "      <td>0</td>\n",
       "      <td>-0.126082</td>\n",
       "      <td>-1.934525</td>\n",
       "      <td>0.405062</td>\n",
       "      <td>Ethereum</td>\n",
       "      <td>0</td>\n",
       "    </tr>\n",
       "    <tr>\n",
       "      <th>LTC</th>\n",
       "      <td>Scrypt</td>\n",
       "      <td>PoW</td>\n",
       "      <td>6.303924e+07</td>\n",
       "      <td>84000000</td>\n",
       "      <td>-0.174479</td>\n",
       "      <td>-1.210371</td>\n",
       "      <td>-0.004818</td>\n",
       "      <td>Litecoin</td>\n",
       "      <td>0</td>\n",
       "    </tr>\n",
       "    <tr>\n",
       "      <th>DASH</th>\n",
       "      <td>X11</td>\n",
       "      <td>PoW/PoS</td>\n",
       "      <td>9.031294e+06</td>\n",
       "      <td>22000000</td>\n",
       "      <td>-0.394359</td>\n",
       "      <td>1.242484</td>\n",
       "      <td>-0.493488</td>\n",
       "      <td>Dash</td>\n",
       "      <td>1</td>\n",
       "    </tr>\n",
       "    <tr>\n",
       "      <th>XMR</th>\n",
       "      <td>CryptoNight-V7</td>\n",
       "      <td>PoW</td>\n",
       "      <td>1.720114e+07</td>\n",
       "      <td>0</td>\n",
       "      <td>-0.135254</td>\n",
       "      <td>-2.113412</td>\n",
       "      <td>0.388225</td>\n",
       "      <td>Monero</td>\n",
       "      <td>0</td>\n",
       "    </tr>\n",
       "    <tr>\n",
       "      <th>ETC</th>\n",
       "      <td>Ethash</td>\n",
       "      <td>PoW</td>\n",
       "      <td>1.133597e+08</td>\n",
       "      <td>210000000</td>\n",
       "      <td>-0.124523</td>\n",
       "      <td>-1.934615</td>\n",
       "      <td>0.405041</td>\n",
       "      <td>Ethereum Classic</td>\n",
       "      <td>0</td>\n",
       "    </tr>\n",
       "    <tr>\n",
       "      <th>ZEC</th>\n",
       "      <td>Equihash</td>\n",
       "      <td>PoW</td>\n",
       "      <td>7.383056e+06</td>\n",
       "      <td>21000000</td>\n",
       "      <td>-0.182654</td>\n",
       "      <td>-2.043968</td>\n",
       "      <td>0.343139</td>\n",
       "      <td>ZCash</td>\n",
       "      <td>0</td>\n",
       "    </tr>\n",
       "  </tbody>\n",
       "</table>\n",
       "</div>"
      ],
      "text/plain": [
       "           Algorithm ProofType  TotalCoinsMined TotalCoinSupply      PC 1  \\\n",
       "42            Scrypt   PoW/PoS     4.199995e+01              42 -0.359454   \n",
       "404           Scrypt   PoW/PoS     1.055185e+09       532000000 -0.342792   \n",
       "1337             X13   PoW/PoS     2.927942e+10    314159265359  2.306307   \n",
       "BTC          SHA-256       PoW     1.792718e+07        21000000 -0.134822   \n",
       "ETH           Ethash       PoW     1.076842e+08               0 -0.126082   \n",
       "LTC           Scrypt       PoW     6.303924e+07        84000000 -0.174479   \n",
       "DASH             X11   PoW/PoS     9.031294e+06        22000000 -0.394359   \n",
       "XMR   CryptoNight-V7       PoW     1.720114e+07               0 -0.135254   \n",
       "ETC           Ethash       PoW     1.133597e+08       210000000 -0.124523   \n",
       "ZEC         Equihash       PoW     7.383056e+06        21000000 -0.182654   \n",
       "\n",
       "          PC 2      PC 3          CoinName  Class  \n",
       "42    0.854102 -0.571388           42 Coin      1  \n",
       "404   0.854301 -0.571812           404Coin      1  \n",
       "1337  1.621843 -0.660508         EliteCoin      1  \n",
       "BTC  -1.274252  0.149364           Bitcoin      0  \n",
       "ETH  -1.934525  0.405062          Ethereum      0  \n",
       "LTC  -1.210371 -0.004818          Litecoin      0  \n",
       "DASH  1.242484 -0.493488              Dash      1  \n",
       "XMR  -2.113412  0.388225            Monero      0  \n",
       "ETC  -1.934615  0.405041  Ethereum Classic      0  \n",
       "ZEC  -2.043968  0.343139             ZCash      0  "
      ]
     },
     "execution_count": 32,
     "metadata": {},
     "output_type": "execute_result"
    }
   ],
   "source": [
    "# Create a new DataFrame including predicted clusters and cryptocurrencies features.\n",
    "# Concatentate the crypto_df and pcs_df DataFrames on the same columns.\n",
    "clustered_df = pd.concat([crypto_trading_mined_df, crypto_pca_df], axis=1)\n",
    "\n",
    "#  Add a new column, \"CoinName\" to the clustered_df DataFrame that holds the names of the cryptocurrencies. \n",
    "clustered_df[\"CoinName\"] = crypto_names_df\n",
    "\n",
    "#  Add a new column, \"Class\" to the clustered_df DataFrame that holds the predictions.\n",
    "clustered_df[\"Class\"] = predictions\n",
    "\n",
    "# Print the shape of the clustered_df\n",
    "print(clustered_df.shape)\n",
    "clustered_df.head(10)"
   ]
  },
  {
   "cell_type": "markdown",
   "metadata": {},
   "source": [
    "### Deliverable 4: Visualizing Cryptocurrencies Results\n",
    "\n",
    "#### 3D-Scatter with Clusters"
   ]
  },
  {
   "cell_type": "code",
   "execution_count": 40,
   "metadata": {},
   "outputs": [
    {
     "data": {
      "application/vnd.plotly.v1+json": {
       "config": {
        "plotlyServerURL": "https://plot.ly"
       },
       "data": [
        {
         "customdata": [
          [
           "Scrypt"
          ],
          [
           "Scrypt"
          ],
          [
           "X13"
          ],
          [
           "X11"
          ],
          [
           "SHA-512"
          ],
          [
           "SHA-256"
          ],
          [
           "SHA-256"
          ],
          [
           "X15"
          ],
          [
           "Scrypt"
          ],
          [
           "Scrypt"
          ],
          [
           "Scrypt"
          ],
          [
           "Scrypt"
          ],
          [
           "Scrypt"
          ],
          [
           "Scrypt"
          ],
          [
           "Groestl"
          ],
          [
           "PoS"
          ],
          [
           "Scrypt"
          ],
          [
           "Scrypt"
          ],
          [
           "X11"
          ],
          [
           "X11"
          ],
          [
           "SHA3"
          ],
          [
           "Scrypt"
          ],
          [
           "SHA-256"
          ],
          [
           "Scrypt"
          ],
          [
           "X13"
          ],
          [
           "X13"
          ],
          [
           "NeoScrypt"
          ],
          [
           "Scrypt"
          ],
          [
           "Scrypt"
          ],
          [
           "Scrypt"
          ],
          [
           "X11"
          ],
          [
           "X11"
          ],
          [
           "Multiple"
          ],
          [
           "PHI1612"
          ],
          [
           "X11"
          ],
          [
           "Scrypt"
          ],
          [
           "Scrypt"
          ],
          [
           "Scrypt"
          ],
          [
           "X11"
          ],
          [
           "Multiple"
          ],
          [
           "X13"
          ],
          [
           "Scrypt"
          ],
          [
           "Shabal256"
          ],
          [
           "Counterparty"
          ],
          [
           "SHA-256"
          ],
          [
           "Groestl"
          ],
          [
           "Scrypt"
          ],
          [
           "X13"
          ],
          [
           "Scrypt"
          ],
          [
           "Scrypt"
          ],
          [
           "X13"
          ],
          [
           "X11"
          ],
          [
           "Scrypt"
          ],
          [
           "X11"
          ],
          [
           "SHA3"
          ],
          [
           "QUAIT"
          ],
          [
           "X11"
          ],
          [
           "Scrypt"
          ],
          [
           "X13"
          ],
          [
           "SHA-256"
          ],
          [
           "X15"
          ],
          [
           "BLAKE256"
          ],
          [
           "SHA-256"
          ],
          [
           "X11"
          ],
          [
           "SHA-256"
          ],
          [
           "NIST5"
          ],
          [
           "Scrypt"
          ],
          [
           "Scrypt"
          ],
          [
           "X11"
          ],
          [
           "Scrypt"
          ],
          [
           "SHA-256"
          ],
          [
           "Scrypt"
          ],
          [
           "PoS"
          ],
          [
           "X11"
          ],
          [
           "SHA-256"
          ],
          [
           "SHA-256"
          ],
          [
           "NIST5"
          ],
          [
           "X11"
          ],
          [
           "POS 3.0"
          ],
          [
           "Scrypt"
          ],
          [
           "Scrypt"
          ],
          [
           "Scrypt"
          ],
          [
           "X13"
          ],
          [
           "X11"
          ],
          [
           "X11"
          ],
          [
           "Scrypt"
          ],
          [
           "SHA-256"
          ],
          [
           "X11"
          ],
          [
           "Scrypt"
          ],
          [
           "Scrypt"
          ],
          [
           "Scrypt"
          ],
          [
           "Scrypt"
          ],
          [
           "SHA-256D"
          ],
          [
           "PoS"
          ],
          [
           "Scrypt"
          ],
          [
           "X11"
          ],
          [
           "PoS"
          ],
          [
           "X13"
          ],
          [
           "X14"
          ],
          [
           "PoS"
          ],
          [
           "SHA-256D"
          ],
          [
           "DPoS"
          ],
          [
           "X11"
          ],
          [
           "X13"
          ],
          [
           "X11"
          ],
          [
           "PoS"
          ],
          [
           "Scrypt"
          ],
          [
           "Scrypt"
          ],
          [
           "PoS"
          ],
          [
           "X11"
          ],
          [
           "SHA-256"
          ],
          [
           "Scrypt"
          ],
          [
           "X11"
          ],
          [
           "Scrypt"
          ],
          [
           "Scrypt"
          ],
          [
           "X11"
          ],
          [
           "Scrypt"
          ],
          [
           "Scrypt"
          ],
          [
           "Scrypt"
          ],
          [
           "Scrypt"
          ],
          [
           "Quark"
          ],
          [
           "QuBit"
          ],
          [
           "Scrypt"
          ],
          [
           "SHA-256"
          ],
          [
           "X11"
          ],
          [
           "Scrypt"
          ],
          [
           "Scrypt"
          ],
          [
           "Scrypt"
          ],
          [
           "Scrypt"
          ],
          [
           "X13"
          ],
          [
           "Scrypt"
          ],
          [
           "Scrypt"
          ],
          [
           "X11"
          ],
          [
           "Blake2S"
          ],
          [
           "X11"
          ],
          [
           "PoS"
          ],
          [
           "X11"
          ],
          [
           "PoS"
          ],
          [
           "X11"
          ],
          [
           "Scrypt"
          ],
          [
           "Scrypt"
          ],
          [
           "Scrypt"
          ],
          [
           "SHA-256"
          ],
          [
           "X11"
          ],
          [
           "Scrypt"
          ],
          [
           "PoS"
          ],
          [
           "Scrypt"
          ],
          [
           "X15"
          ],
          [
           "SHA-256"
          ],
          [
           "POS 3.0"
          ],
          [
           "536"
          ],
          [
           "NIST5"
          ],
          [
           "NIST5"
          ],
          [
           "Skein"
          ],
          [
           "X13"
          ],
          [
           "Scrypt"
          ],
          [
           "X13"
          ],
          [
           "SkunkHash v2 Raptor"
          ],
          [
           "Skein"
          ],
          [
           "X11"
          ],
          [
           "Scrypt"
          ],
          [
           "PoS"
          ],
          [
           "Scrypt"
          ],
          [
           "Scrypt"
          ],
          [
           "SHA-512"
          ],
          [
           "Ouroboros"
          ],
          [
           "X11"
          ],
          [
           "NeoScrypt"
          ],
          [
           "Scrypt"
          ],
          [
           "Lyra2REv2"
          ],
          [
           "Scrypt"
          ],
          [
           "SHA-256"
          ],
          [
           "NIST5"
          ],
          [
           "PHI1612"
          ],
          [
           "Scrypt"
          ],
          [
           "Quark"
          ],
          [
           "POS 2.0"
          ],
          [
           "Scrypt"
          ],
          [
           "SHA-256"
          ],
          [
           "X11"
          ],
          [
           "DPoS"
          ],
          [
           "NIST5"
          ],
          [
           "X13"
          ],
          [
           "Scrypt"
          ],
          [
           "NIST5"
          ],
          [
           "Quark"
          ],
          [
           "Scrypt"
          ],
          [
           "Scrypt"
          ],
          [
           "X11"
          ],
          [
           "Quark"
          ],
          [
           "Scrypt"
          ],
          [
           "Scrypt"
          ],
          [
           "X11"
          ],
          [
           "POS 3.0"
          ],
          [
           "Ethash"
          ],
          [
           "Scrypt"
          ],
          [
           "Scrypt"
          ],
          [
           "X13"
          ],
          [
           "C11"
          ],
          [
           "X11"
          ],
          [
           "XEVAN"
          ],
          [
           "Scrypt"
          ],
          [
           "VBFT"
          ],
          [
           "NIST5"
          ],
          [
           "Scrypt"
          ],
          [
           "Scrypt"
          ],
          [
           "Scrypt"
          ],
          [
           "Green Protocol"
          ],
          [
           "PoS"
          ],
          [
           "Scrypt"
          ],
          [
           "Semux BFT consensus"
          ],
          [
           "Quark"
          ],
          [
           "PoS"
          ],
          [
           "X16R"
          ],
          [
           "Scrypt"
          ],
          [
           "XEVAN"
          ],
          [
           "Scrypt"
          ],
          [
           "Scrypt"
          ],
          [
           "Scrypt"
          ],
          [
           "SHA-256D"
          ],
          [
           "Scrypt"
          ],
          [
           "X15"
          ],
          [
           "Quark"
          ],
          [
           "SHA-256"
          ],
          [
           "DPoS"
          ],
          [
           "X16R"
          ],
          [
           "Quark"
          ],
          [
           "Quark"
          ],
          [
           "Scrypt"
          ],
          [
           "Lyra2REv2"
          ],
          [
           "Quark"
          ],
          [
           "Scrypt"
          ],
          [
           "X11"
          ],
          [
           "X11"
          ],
          [
           "Scrypt"
          ],
          [
           "PoS"
          ],
          [
           "Keccak"
          ],
          [
           "X11"
          ],
          [
           "Scrypt"
          ],
          [
           "SHA-512"
          ],
          [
           "XEVAN"
          ],
          [
           "XEVAN"
          ],
          [
           "X11"
          ],
          [
           "Quark"
          ],
          [
           "Equihash"
          ],
          [
           "Scrypt"
          ],
          [
           "Quark"
          ],
          [
           "Quark"
          ],
          [
           "Scrypt"
          ],
          [
           "X11"
          ],
          [
           "Scrypt"
          ],
          [
           "XEVAN"
          ],
          [
           "SHA-256D"
          ],
          [
           "X11"
          ],
          [
           "X11"
          ],
          [
           "DPoS"
          ],
          [
           "Scrypt"
          ],
          [
           "X11"
          ],
          [
           "Scrypt"
          ],
          [
           "Scrypt"
          ],
          [
           "SHA-256"
          ],
          [
           "Scrypt"
          ],
          [
           "X11"
          ],
          [
           "Scrypt"
          ],
          [
           "SHA-256"
          ],
          [
           "X11"
          ],
          [
           "Scrypt"
          ],
          [
           "Scrypt"
          ],
          [
           "X11"
          ],
          [
           "Scrypt"
          ],
          [
           "PoS"
          ],
          [
           "X11"
          ],
          [
           "SHA-256"
          ],
          [
           "DPoS"
          ],
          [
           "Scrypt"
          ],
          [
           "Scrypt"
          ],
          [
           "NeoScrypt"
          ],
          [
           "X13"
          ],
          [
           "DPoS"
          ],
          [
           "DPoS"
          ],
          [
           "SHA-256"
          ],
          [
           "PoS"
          ],
          [
           "PoS"
          ],
          [
           "SHA-256"
          ],
          [
           "Scrypt"
          ],
          [
           "Scrypt"
          ]
         ],
         "hovertemplate": "<b>%{hovertext}</b><br><br>Class=%{marker.color}<br>PC 3=%{x}<br>PC 2=%{y}<br>PC 1=%{z}<br>Algorithm=%{customdata[0]}<extra></extra>",
         "hovertext": [
          "42 Coin",
          "404Coin",
          "EliteCoin",
          "Dash",
          "Bitshares",
          "BitcoinDark",
          "PayCoin",
          "KoboCoin",
          "Aurora Coin",
          "BlueCoin",
          "EnergyCoin",
          "BitBar",
          "CryptoBullion",
          "CasinoCoin",
          "Diamond",
          "Exclusive Coin",
          "FlutterCoin",
          "HoboNickels",
          "HyperStake",
          "IOCoin",
          "MaxCoin",
          "MintCoin",
          "MazaCoin",
          "Nautilus Coin",
          "NavCoin",
          "OpalCoin",
          "Orbitcoin",
          "PotCoin",
          "PhoenixCoin",
          "Reddcoin",
          "SuperCoin",
          "SyncCoin",
          "TeslaCoin",
          "TittieCoin",
          "TorCoin",
          "UnitaryStatus Dollar",
          "UltraCoin",
          "VeriCoin",
          "X11 Coin",
          "Crypti",
          "StealthCoin",
          "ZCC Coin",
          "BurstCoin",
          "StorjCoin",
          "Neutron",
          "FairCoin",
          "RubyCoin",
          "Kore",
          "Dnotes",
          "8BIT Coin",
          "Sativa Coin",
          "Ucoin",
          "Vtorrent",
          "IslaCoin",
          "Nexus",
          "Droidz",
          "Squall Coin",
          "Diggits",
          "Paycon",
          "Emercoin",
          "EverGreenCoin",
          "Decred",
          "EDRCoin",
          "Hitcoin",
          "DubaiCoin",
          "PWR Coin",
          "BillaryCoin",
          "GPU Coin",
          "EuropeCoin",
          "ZeitCoin",
          "SwingCoin",
          "SafeExchangeCoin",
          "Nebuchadnezzar",
          "Ratecoin",
          "Revenu",
          "Clockcoin",
          "VIP Tokens",
          "BitSend",
          "Let it Ride",
          "PutinCoin",
          "iBankCoin",
          "Frankywillcoin",
          "MudraCoin",
          "Lutetium Coin",
          "GoldBlocks",
          "CarterCoin",
          "BitTokens",
          "MustangCoin",
          "ZoneCoin",
          "RootCoin",
          "BitCurrency",
          "Swiscoin",
          "BuzzCoin",
          "Opair",
          "PesoBit",
          "Halloween Coin",
          "CoffeeCoin",
          "RoyalCoin",
          "GanjaCoin V2",
          "TeamUP",
          "LanaCoin",
          "ARK",
          "InsaneCoin",
          "EmberCoin",
          "XenixCoin",
          "FreeCoin",
          "PLNCoin",
          "AquariusCoin",
          "Creatio",
          "Eternity",
          "Eurocoin",
          "BitcoinFast",
          "Stakenet",
          "BitConnect Coin",
          "MoneyCoin",
          "Enigma",
          "Russiacoin",
          "PandaCoin",
          "GameUnits",
          "GAKHcoin",
          "Allsafe",
          "LiteCreed",
          "Klingon Empire Darsek",
          "Internet of People",
          "KushCoin",
          "Printerium",
          "Impeach",
          "Zilbercoin",
          "FirstCoin",
          "FindCoin",
          "OpenChat",
          "RenosCoin",
          "VirtacoinPlus",
          "TajCoin",
          "Impact",
          "Atmos",
          "HappyCoin",
          "MacronCoin",
          "Condensate",
          "Independent Money System",
          "ArgusCoin",
          "LomoCoin",
          "ProCurrency",
          "GoldReserve",
          "GrowthCoin",
          "Phreak",
          "Degas Coin",
          "HTML5 Coin",
          "Ultimate Secure Cash",
          "QTUM",
          "Espers",
          "Denarius",
          "Virta Unique Coin",
          "Bitcoin Planet",
          "BritCoin",
          "Linda",
          "DeepOnion",
          "Signatum",
          "Cream",
          "Monoeci",
          "Draftcoin",
          "Stakecoin",
          "CoinonatX",
          "Ethereum Dark",
          "Obsidian",
          "Cardano",
          "Regalcoin",
          "TrezarCoin",
          "TerraNovaCoin",
          "Rupee",
          "WomenCoin",
          "Theresa May Coin",
          "NamoCoin",
          "LUXCoin",
          "Xios",
          "Bitcloud 2.0",
          "KekCoin",
          "BlackholeCoin",
          "Infinity Economics",
          "Magnet",
          "Lamden Tau",
          "Electra",
          "Bitcoin Diamond",
          "Cash & Back Coin",
          "Bulwark",
          "Kalkulus",
          "GermanCoin",
          "LiteCoin Ultra",
          "PhantomX",
          "Digiwage",
          "Trollcoin",
          "Litecoin Plus",
          "Monkey Project",
          "TokenPay",
          "1717 Masonic Commemorative Token",
          "My Big Coin",
          "Unified Society USDEX",
          "Tokyo Coin",
          "Stipend",
          "Pushi",
          "Ellerium",
          "Velox",
          "Ontology",
          "Bitspace",
          "Briacoin",
          "Ignition",
          "MedicCoin",
          "Bitcoin Green",
          "Deviant Coin",
          "Abjcoin",
          "Semux",
          "Carebit",
          "Zealium",
          "Proton",
          "iDealCash",
          "Bitcoin Incognito",
          "HollyWoodCoin",
          "Swisscoin",
          "Xt3ch",
          "TheVig",
          "EmaratCoin",
          "Dekado",
          "Poseidon Quark",
          "BitcoinWSpectrum",
          "Muse",
          "Trivechain",
          "Dystem",
          "Giant",
          "Peony Coin",
          "Absolute Coin",
          "Vitae",
          "TPCash",
          "ARENON",
          "EUNO",
          "MMOCoin",
          "Ketan",
          "XDNA",
          "PAXEX",
          "ThunderStake",
          "Kcash",
          "Bettex coin",
          "BitMoney",
          "Junson Ming Chan Coin",
          "HerbCoin",
          "PirateCash",
          "Oduwa",
          "Galilel",
          "Crypto Sports",
          "Credit",
          "Dash Platinum",
          "Nasdacoin",
          "Beetle Coin",
          "Titan Coin",
          "Award",
          "Insane Coin",
          "ALAX",
          "LiteDoge",
          "TruckCoin",
          "OrangeCoin",
          "BitstarCoin",
          "NeosCoin",
          "HyperCoin",
          "PinkCoin",
          "AudioCoin",
          "IncaKoin",
          "Piggy Coin",
          "Genstake",
          "XiaoMiCoin",
          "CapriCoin",
          " ClubCoin",
          "Radium",
          "Creditbit ",
          "OKCash",
          "Lisk",
          "HiCoin",
          "WhiteCoin",
          "FriendshipCoin",
          "Triangles Coin",
          "EOS",
          "Oxycoin",
          "TigerCash",
          "Particl",
          "Nxt",
          "ZEPHYR",
          "Gapcoin",
          "BitcoinPlus"
         ],
         "legendgroup": "1",
         "marker": {
          "color": [
           1,
           1,
           1,
           1,
           1,
           1,
           1,
           1,
           1,
           1,
           1,
           1,
           1,
           1,
           1,
           1,
           1,
           1,
           1,
           1,
           1,
           1,
           1,
           1,
           1,
           1,
           1,
           1,
           1,
           1,
           1,
           1,
           1,
           1,
           1,
           1,
           1,
           1,
           1,
           1,
           1,
           1,
           1,
           1,
           1,
           1,
           1,
           1,
           1,
           1,
           1,
           1,
           1,
           1,
           1,
           1,
           1,
           1,
           1,
           1,
           1,
           1,
           1,
           1,
           1,
           1,
           1,
           1,
           1,
           1,
           1,
           1,
           1,
           1,
           1,
           1,
           1,
           1,
           1,
           1,
           1,
           1,
           1,
           1,
           1,
           1,
           1,
           1,
           1,
           1,
           1,
           1,
           1,
           1,
           1,
           1,
           1,
           1,
           1,
           1,
           1,
           1,
           1,
           1,
           1,
           1,
           1,
           1,
           1,
           1,
           1,
           1,
           1,
           1,
           1,
           1,
           1,
           1,
           1,
           1,
           1,
           1,
           1,
           1,
           1,
           1,
           1,
           1,
           1,
           1,
           1,
           1,
           1,
           1,
           1,
           1,
           1,
           1,
           1,
           1,
           1,
           1,
           1,
           1,
           1,
           1,
           1,
           1,
           1,
           1,
           1,
           1,
           1,
           1,
           1,
           1,
           1,
           1,
           1,
           1,
           1,
           1,
           1,
           1,
           1,
           1,
           1,
           1,
           1,
           1,
           1,
           1,
           1,
           1,
           1,
           1,
           1,
           1,
           1,
           1,
           1,
           1,
           1,
           1,
           1,
           1,
           1,
           1,
           1,
           1,
           1,
           1,
           1,
           1,
           1,
           1,
           1,
           1,
           1,
           1,
           1,
           1,
           1,
           1,
           1,
           1,
           1,
           1,
           1,
           1,
           1,
           1,
           1,
           1,
           1,
           1,
           1,
           1,
           1,
           1,
           1,
           1,
           1,
           1,
           1,
           1,
           1,
           1,
           1,
           1,
           1,
           1,
           1,
           1,
           1,
           1,
           1,
           1,
           1,
           1,
           1,
           1,
           1,
           1,
           1,
           1,
           1,
           1,
           1,
           1,
           1,
           1,
           1,
           1,
           1,
           1,
           1,
           1,
           1,
           1,
           1,
           1,
           1,
           1,
           1,
           1,
           1,
           1,
           1,
           1,
           1,
           1,
           1,
           1,
           1,
           1,
           1,
           1,
           1,
           1,
           1,
           1,
           1,
           1,
           1,
           1
          ],
          "coloraxis": "coloraxis",
          "symbol": "circle"
         },
         "mode": "markers",
         "name": "1",
         "scene": "scene",
         "showlegend": true,
         "type": "scatter3d",
         "x": [
          -0.5713884778242941,
          -0.5718115043169874,
          -0.6605079642654311,
          -0.49348783149911474,
          -0.08014712911502242,
          -0.4172305651337701,
          -0.10171301119986899,
          -0.6979124354123983,
          -0.5713964488265345,
          -0.5716137857918997,
          -0.571432113293472,
          -0.5713885388432568,
          -0.5713889381343592,
          -0.14500757838770997,
          -0.4364623816137637,
          -0.11866924943969827,
          -0.26044164390778246,
          -0.5714311555694199,
          -0.17855729848460408,
          -0.4934908878354234,
          -0.5586245588064859,
          -0.2634183797433415,
          -0.418022594929077,
          -0.25587522414401764,
          -0.6212846223061733,
          -0.6212665633369674,
          -0.2693232971398345,
          -0.5715060240147927,
          -0.5714237064379741,
          -0.5817831630034852,
          -0.17798011034209318,
          -0.49348260834415625,
          0.08551618934304653,
          -0.3013603058242162,
          -0.4934840343377373,
          -0.571925151098636,
          -0.5714154781423908,
          -0.3719942228907791,
          -0.49348557779300267,
          0.08551837810224516,
          -0.6212729235489548,
          -0.5715328318867463,
          0.2745551153006698,
          -0.06621258572949032,
          -0.4172482063353838,
          -0.43647966889467776,
          -0.2558776394895564,
          -0.6212630088898847,
          -0.2559758662116471,
          -0.5713889982711732,
          -0.6212646243950384,
          -0.17796492181673043,
          -0.5713944301934865,
          -0.49348314456262377,
          -0.26344943763891343,
          -0.6726559123780538,
          -0.1891793894113718,
          -0.25591264632659744,
          -0.6212739536244856,
          -0.41733523472076794,
          -0.6978784345262992,
          -0.5167079732912524,
          -0.4172314093260931,
          -0.49982108151423243,
          -0.41723087015287774,
          -0.6170938043774846,
          -0.5713955275247162,
          -0.25590266303155,
          -0.4935215798957663,
          -0.2780733300942133,
          -0.41723331398891234,
          -0.12810798762400294,
          -0.11867616471286561,
          -0.49353720918318705,
          -0.4172489746207255,
          -0.417282231979857,
          -0.6135612479151459,
          -0.4935040265092295,
          -0.051432710347979485,
          -0.5718605429875498,
          -0.5713941560849456,
          -0.5714331236926588,
          -0.30576086070656194,
          -0.17825545394722062,
          -0.4934927204501886,
          -0.5714120525726427,
          -0.41723022737712684,
          -0.49348311665853145,
          -0.5713913227947345,
          -0.5713891656494924,
          -0.2559281365512334,
          -0.3318295475446887,
          -0.7303556935764696,
          -0.11870028547908824,
          -0.571400364342922,
          -0.49371427703494314,
          -0.11872364258343805,
          -0.3057418280445718,
          -0.7697616070459666,
          -0.1187012095003353,
          -0.7226495862382898,
          -0.11389175862118152,
          -0.49349186820708085,
          -0.6540289281888173,
          -0.4934843281868596,
          -0.11868955847899994,
          -0.5713980784685394,
          -0.571393205327889,
          -0.11867616471286561,
          -0.4934902727367909,
          -0.41723432702024604,
          -0.5713986879466427,
          -0.05117609579466996,
          -0.5713949794329881,
          -0.57145213035516,
          -0.49348335609942,
          -0.5714046791215504,
          -0.27084489756899865,
          -0.5713909036904785,
          -0.5713899581689575,
          -0.17929671382951984,
          -0.39662151943873714,
          -0.5714429153472813,
          -0.41723091194493367,
          -0.49348547387610214,
          -0.5713945071392623,
          -0.5713906023106343,
          -0.25587409012867707,
          -0.04809040817326413,
          -0.30574719659082955,
          -0.5718349366766932,
          -0.25588394623720223,
          -0.4934964630543664,
          -0.7928912451265927,
          -0.49353194183307203,
          -0.1187167754031174,
          -0.49349942682899695,
          -0.11884632308288234,
          -0.49357168777556965,
          -0.571392330483355,
          -0.5713915127407724,
          -0.5714805349420988,
          -0.10863424934800033,
          -0.4934923716406905,
          -0.2561564089792101,
          -0.11867403066606502,
          -0.5714056985591786,
          -0.7205572424851743,
          -0.10172966056424919,
          -0.051460595123521316,
          -0.6804487286708357,
          -0.6135257868494843,
          -0.6135567324876291,
          -0.818814213251965,
          -0.6212714868228112,
          -0.579189612944653,
          -0.6212706968855533,
          -0.06487366514871096,
          -0.8188285834322591,
          -0.49348793815838565,
          -0.25587621730386384,
          -0.11867431364690155,
          -0.5713998395199679,
          -0.5713903529328025,
          -0.07886146731089491,
          -0.10848875649547557,
          -0.4934876636862359,
          -0.26942332047428735,
          -0.5713903278624469,
          -0.10495204523247015,
          -0.5908681864330668,
          -0.4172699140412416,
          -0.6138324087424044,
          -0.6161026744428374,
          -0.571391169516605,
          -0.4948413492573061,
          -0.12013141421538313,
          -0.571395638365315,
          -0.10572573924444176,
          -0.49350938295338964,
          -0.11398999824674821,
          -0.6263495273439462,
          -0.6213455612914088,
          -0.5714471226817296,
          -0.2980101553251116,
          -0.17929945600573385,
          -0.5777239851301139,
          -0.571405245126059,
          -0.49350321965604216,
          -0.17931231172575882,
          -0.5716807339370931,
          -0.5713897333632146,
          -0.17796562266477636,
          -0.05142549590621224,
          0.15401940574508177,
          -0.2843740338878113,
          -0.571493065489794,
          -0.30589587488774655,
          -0.48165872261206216,
          -0.4934856734971303,
          -0.49518697427587155,
          -0.2558884601308195,
          -0.06162580945522118,
          -0.6135328718428458,
          -0.5713890532905157,
          -0.5713893563716136,
          -0.2560087185122169,
          0.018018856570222497,
          -0.11868307794079917,
          -0.5713947376198437,
          -0.1769919921098662,
          -0.49488000831544887,
          -0.1186785129759948,
          -0.05739786123049156,
          -0.5723569667066863,
          -0.19088377381576765,
          -0.2558841139382326,
          -0.5759423582912668,
          -0.2558747485907117,
          -0.7215971974826044,
          -0.571403854385478,
          -0.3823697505795582,
          -0.17935229128137517,
          -0.10173732005202094,
          -0.0968964983965172,
          -0.3729333190380804,
          -0.17929604699474044,
          -0.49481465581627937,
          -0.25741930173332483,
          -0.42047135874425196,
          -0.17932421555439246,
          -0.5714822737276023,
          -0.17797401642449234,
          -0.49349811262310805,
          -0.25593010000683386,
          -0.118689837508541,
          -0.3990128599943076,
          -0.17797291570408044,
          -0.5734181525357538,
          0.006216887656484989,
          -0.17966783611658912,
          -0.19077428097635835,
          -0.18406440842941138,
          -0.4948295660883824,
          0.09204879402733684,
          -0.5713956470913745,
          -0.49482030903082247,
          -0.17929352068840806,
          -0.5891912405335498,
          -0.177964194259689,
          -0.5714034810806157,
          -0.4952977920354014,
          -0.7223534540385634,
          -0.493526665062409,
          -0.49349379468715593,
          -0.11428836632209982,
          -0.5800360284836276,
          -0.4935686195244403,
          -0.5714081079741475,
          -0.5714007588560949,
          -0.10171109628707412,
          -0.5713918928270382,
          -0.49368326960079517,
          -0.5727009633825293,
          -0.423606594143955,
          -0.49374973505501374,
          -0.5714111307446957,
          -0.5715685918856898,
          -0.4935731184098309,
          -0.5714399207247982,
          -0.11866941738765224,
          -0.05763552588051396,
          -0.4172642127238782,
          -0.1138991545165655,
          -0.2603334877253479,
          -0.5715053976466774,
          -0.26932773429481505,
          -0.6212612501505139,
          -0.11420377113199832,
          -0.11423988066566268,
          -0.10215406827879299,
          -0.11867132044476067,
          -0.11386212933623768,
          -0.11955404909893161,
          -0.5714167420030789,
          -0.25586813782139056
         ],
         "y": [
          0.8541018189626676,
          0.8543014662676256,
          1.6218433439706188,
          1.2424838364077453,
          1.5344462476167273,
          0.7902020319524711,
          0.7201192040428036,
          1.8076316601816733,
          0.8541019023066598,
          0.8543627036693527,
          0.8541523446092317,
          0.8541016169176014,
          0.8541018065358205,
          0.15404361932620414,
          0.9269607436635108,
          1.8292874131538845,
          -0.008842953264769693,
          0.8540857823803089,
          1.1730875396026128,
          1.2424873753475332,
          3.016827562725834,
          0.7927530281901554,
          0.789811587008046,
          0.7840099633493675,
          1.747782814364296,
          1.747761903836716,
          0.5232343734752491,
          0.8540088395542645,
          0.8540891567791505,
          0.8661378520861767,
          1.1724192119458559,
          1.2424897877251273,
          0.29176172185819016,
          1.7022861759148893,
          1.2424859849924481,
          0.8538505240008178,
          0.8540785383262552,
          -0.03459393920120552,
          1.2424902266612445,
          0.29181373188632065,
          1.747769268342777,
          0.8537235229500788,
          0.4430966612424615,
          1.799863019813238,
          0.7901973683227304,
          0.9269831496958411,
          0.7840215853678869,
          1.7477512428053863,
          0.7838626003551838,
          0.8541024216123755,
          1.747754204290983,
          1.17239071623307,
          0.8540978023697764,
          1.2424904091593345,
          4.7989719788836815,
          1.8245108283454121,
          1.0682330589643318,
          0.7840075754777501,
          1.7477431888708628,
          0.7897897849268493,
          1.8077688517745127,
          0.8893168425360528,
          0.7902030094449652,
          1.235347585197786,
          0.7902086577406755,
          1.4620196550262374,
          0.8540870732048852,
          0.7839299883648246,
          1.2423254630431226,
          0.7557230793146028,
          0.7901953968673533,
          0.15512196628840252,
          1.8292845114871112,
          1.2425121024260106,
          0.7901138641023424,
          0.7899874988058717,
          1.4578802087197105,
          1.2424387717064274,
          1.702541684851641,
          0.8535575365078767,
          0.8540842125087541,
          0.8540989701549678,
          1.6775785280682391,
          1.1723796763292735,
          1.2424742249054799,
          0.8540800262899148,
          0.7902021863071531,
          1.2424887405171694,
          0.8540936588606696,
          0.8541026154201683,
          0.7840800560474077,
          0.007904855471892827,
          1.8553514493115795,
          1.8292829870102945,
          0.8541155824165206,
          1.2419398720805281,
          1.829328577413382,
          1.677664215217894,
          1.6816741964347306,
          1.8291602411531773,
          1.8532433046117138,
          1.8065524569723794,
          1.242484146970585,
          1.785233904229115,
          1.2424896779070285,
          1.8292836568444413,
          0.8540919141855711,
          0.8540843843271176,
          1.8292845114871112,
          1.2424659362519361,
          0.7902074787386029,
          0.8540956416615137,
          1.02908160089442,
          0.8540940747837791,
          0.8538206239274921,
          1.2424879268784368,
          0.8540420345766643,
          0.7836171468436751,
          0.8540975371306069,
          0.8541017245033725,
          1.577137587613962,
          0.47742522511354973,
          0.8538921303449348,
          0.7902029789700037,
          1.2424880041944903,
          0.854097891465491,
          0.8540923155293823,
          0.7839874761346949,
          -0.07942850550734193,
          1.677663872656387,
          0.8540733308748949,
          0.7840101102822282,
          1.242451286277566,
          1.8617541161778688,
          1.242486912808222,
          1.829282286557928,
          1.242454718039947,
          1.829274269595037,
          1.2423202115861172,
          0.8540947099658306,
          0.8540897334254255,
          0.8536629681813684,
          0.6872318432200569,
          1.242479275457864,
          0.7832534853251946,
          1.8292765860289384,
          0.8540644873014218,
          1.7849530884832587,
          0.7200361657124191,
          1.7025377006812743,
          1.8029448793400058,
          1.4578827837777177,
          1.4578586169749665,
          1.795596802409394,
          1.7477512414343892,
          0.8358625746437485,
          1.7477563821807185,
          1.7628088925181395,
          1.7956134416786644,
          1.2424907739926347,
          0.7840104446767708,
          1.829259677682472,
          0.8540886559596718,
          0.8541016993138911,
          1.5348716384166115,
          1.5850303275818902,
          1.2424809148768678,
          0.5231340694866182,
          0.8540953794977928,
          0.7658554850019269,
          0.863021324898615,
          0.7902050495246051,
          1.4575887437302346,
          1.772698390960349,
          0.8540934813795232,
          1.647156047837385,
          1.7890988502345386,
          0.8541020440185826,
          0.7198633745384148,
          1.2424422467271958,
          1.8064616673982954,
          1.4563735613720021,
          1.747738832538308,
          0.8540551807830211,
          1.3877873369616704,
          1.5771380355670517,
          0.8341655203717954,
          0.854039417290875,
          1.2424863819633425,
          1.5770983768407039,
          0.8539493235183403,
          0.8541010910014444,
          1.1723909823028702,
          1.7025379675045282,
          0.0598009222249,
          0.04696052324113698,
          0.8540963783128094,
          1.6774075949523217,
          0.8981772166384409,
          1.2424797013196704,
          1.564826365769964,
          0.7839664795629808,
          1.6563365305284645,
          1.4578691697507757,
          0.8541008489874722,
          0.8541001090379043,
          0.7839006401197626,
          1.8036493624964312,
          1.829255426141059,
          0.8540927038997459,
          1.7830507425902964,
          1.6472008112617147,
          1.829254503908246,
          0.7841597268825908,
          0.8524294973254671,
          1.390590930168557,
          0.7840149006053971,
          0.8538112404563699,
          0.7839942384533964,
          1.8560642990493537,
          0.8540738062514854,
          1.7376563668558185,
          1.5768555839624712,
          0.7200994819596663,
          1.7251699371068043,
          0.8542479879048058,
          1.577133542820343,
          1.6472314186466395,
          0.7765995857013274,
          0.8359299868957726,
          1.5771230691945735,
          0.853664981525642,
          1.1723821563637942,
          1.242480468516578,
          0.7839405141026614,
          1.829196708896484,
          0.8201779393707095,
          1.172356336857602,
          0.8466339929701995,
          1.3676627495474687,
          1.4947419762035834,
          1.6278617783824287,
          1.1794642365820498,
          1.6472220388965875,
          -0.04963274194075109,
          0.8540986659750359,
          1.64723039102938,
          1.577134779341223,
          0.8339164746009649,
          1.1723900374260667,
          0.8540733740008108,
          1.564714686591248,
          1.8542672949815793,
          1.242311715187528,
          1.2424863776468922,
          1.8065344265809296,
          0.8450243011235236,
          1.2425893808407233,
          0.8540154599910896,
          0.8540864455508016,
          0.7201123504864397,
          0.8541057732261669,
          1.24244941247279,
          0.8498943876366796,
          0.7974932179968708,
          1.2422536510051163,
          0.8541198672015183,
          0.8540921959349114,
          1.2424811377637712,
          0.8540741138173517,
          1.8292826986254274,
          1.0108530721783968,
          0.7901957207344429,
          1.8065419746678366,
          0.7837217645146266,
          0.8540735675587325,
          0.5232087492398418,
          1.747755686230975,
          1.8069819175707011,
          1.807023728893982,
          0.720091279254281,
          1.829285101736356,
          2.333526215876837,
          0.8014553000579396,
          0.8539981851566657,
          0.7840100379175361
         ],
         "z": [
          -0.3594542532684154,
          -0.3427923965442273,
          2.3063072585713624,
          -0.3943590257353347,
          -0.27885309307058403,
          -0.3186278660372393,
          -0.25964041049371883,
          -0.23990003250979894,
          -0.35911378732752164,
          -0.35169377237147886,
          -0.3579512784798065,
          -0.3594501863067212,
          -0.3594344677742168,
          0.6138140535976849,
          -0.37030133342279964,
          -0.33899733434333584,
          -0.31307028509168167,
          -0.35751257096540207,
          -0.31520142580286603,
          -0.3942537536481111,
          -0.27879511671816876,
          -0.04046577614179786,
          -0.28192438643296763,
          -0.3002177376781481,
          -0.27959217899547306,
          -0.28021420000082325,
          -0.3517011695543332,
          -0.3537545729416749,
          -0.3578556254325832,
          -0.0014209431316807466,
          -0.33508202610655263,
          -0.39462540500025306,
          -0.21225357182730373,
          -0.3134940003313682,
          -0.39453698423893085,
          -0.33467987248795444,
          -0.3581311782876922,
          -0.2989158658784073,
          -0.39450151021964713,
          -0.21272204056489083,
          -0.2799951296092904,
          -0.35055134539330246,
          -0.07333155257713446,
          -0.30310658104152866,
          -0.31783941805756477,
          -0.36972310923454593,
          -0.30019814404398926,
          -0.28028945943204653,
          -0.29484943754419385,
          -0.3594363272226246,
          -0.2802416767505437,
          -0.33552656200794834,
          -0.3591706148563554,
          -0.39460693948538833,
          -0.06311626216775391,
          -0.4138933417368347,
          -0.3392728125611717,
          -0.29859929330395235,
          -0.2797631101222533,
          -0.3111783228511901,
          -0.24234356081526978,
          -0.04886676048263725,
          -0.31859878877643555,
          -0.07194121288456583,
          -0.31866256412307314,
          -0.2351987596021668,
          -0.3590463410466415,
          -0.29846732381310465,
          -0.3917736526081038,
          0.853456185423655,
          -0.31846243050763556,
          -0.11706389172002891,
          -0.338680529615222,
          -0.3924499345409763,
          -0.31720476326659275,
          -0.31487107003374726,
          -0.3565199463039818,
          -0.39334130384970895,
          -0.32538489163570045,
          -0.3353329091502869,
          -0.3590844069056035,
          -0.3575233970354757,
          -0.2199950382691724,
          -0.32301559196060103,
          -0.3940805690565915,
          -0.3582884761454463,
          -0.318643430480969,
          -0.3945961082294378,
          -0.3592737149387208,
          -0.35943056206354074,
          -0.29845882920750283,
          -0.3077331159665043,
          0.021103577482224918,
          -0.3376374539264901,
          -0.35904483558788686,
          -0.3807496492612969,
          -0.3369665919672014,
          -0.2214269283099975,
          -0.42713782236149406,
          -0.3367133368688476,
          -0.2934360117468183,
          3.7099455750505665,
          -0.3941885394924536,
          0.8515900054488595,
          -0.3945510242390387,
          -0.3381012725020525,
          -0.35897207718481433,
          -0.35912632652026577,
          -0.338680529615222,
          -0.3941255698707651,
          -0.3185061536506431,
          -0.3589728609902164,
          -0.3711513946820643,
          -0.3591202505658379,
          -0.3547042035701117,
          -0.3945799993682326,
          -0.35833018356329077,
          0.3431417596880377,
          -0.3593195968662074,
          -0.35939023093390704,
          -0.35246865651622744,
          -0.34693670084630457,
          -0.3556138169428993,
          -0.3186198513081726,
          -0.3944899402420298,
          -0.35916796454513233,
          -0.3592948624685883,
          -0.3001042041558337,
          -0.36880460891625294,
          -0.22119474801238825,
          -0.3401456836403883,
          -0.2998455920039413,
          -0.39375511955275805,
          -0.4339289562313998,
          -0.39249378474620816,
          -0.3369268283054486,
          -0.3936530356489552,
          -0.331325913167004,
          -0.38959177063244355,
          -0.3592381724268347,
          -0.3592372984273765,
          -0.35235265518653497,
          0.2735142954598319,
          -0.3941318913471899,
          -0.282734653143871,
          -0.33871472653415613,
          -0.3584483711296907,
          0.8924706901537255,
          -0.258329586951818,
          -0.324163033932182,
          0.5258589779716286,
          -0.3580558265662758,
          -0.3565575513446286,
          -0.4483012044888984,
          -0.27992669222294836,
          0.10578681149543023,
          -0.27999753966328067,
          -0.2979843006486113,
          -0.44780623969375466,
          -0.3944044583170278,
          -0.3001787106721009,
          -0.33858076663100917,
          -0.35887324386832253,
          -0.35937315808353054,
          -0.33693014550314915,
          0.637463654069224,
          -0.39434515189375297,
          -0.3466984792165349,
          -0.3593286864507596,
          -0.2915459977820163,
          0.40977237581332737,
          -0.3169659349976862,
          -0.3428169337018018,
          -0.4080241679605824,
          -0.35927899443254163,
          -0.40983346597731135,
          -0.2989425331218369,
          -0.3591494869404947,
          -0.08609847028100255,
          -0.39313715315013703,
          3.714803376778777,
          0.20152808275332487,
          -0.2766677370903157,
          -0.35660883019573464,
          -0.2988951748176683,
          -0.3523545513534611,
          0.05530489991619834,
          -0.35828710340832787,
          -0.39371893564851224,
          -0.3515186710752838,
          -0.3458501039895101,
          -0.35939528462409664,
          -0.33549849128676806,
          -0.325666796763797,
          -0.25205156246003335,
          -0.30697649847983055,
          -0.3549399040712809,
          -0.21298614949336037,
          -0.35416117858688795,
          -0.3944215633200461,
          -0.30041459714974694,
          -0.2993380207289254,
          -0.31467357555619246,
          -0.35765456014101693,
          -0.3594226397616651,
          -0.35940433888460116,
          -0.2937178767781583,
          -0.323317381898485,
          -0.3381751172333939,
          -0.35912071796177286,
          3.8690858286915866,
          -0.40850189793831493,
          -0.338363798692647,
          -0.3133698519866867,
          -0.3059624028101395,
          -0.24521466546487625,
          -0.2998729382602088,
          -0.1625068356017161,
          -0.3001247628983057,
          -0.3587958243545092,
          -0.35859443829964294,
          -0.1827628465168914,
          -0.3480582992953409,
          -0.2584581441313875,
          1.020509945306056,
          -0.3716303833584202,
          -0.35246804013230226,
          -0.4115188029409264,
          -0.18074551323631555,
          -0.35039816155150294,
          -0.3511872728806294,
          -0.35229276466373804,
          -0.33507573062999546,
          -0.39389484168853345,
          -0.2973691938022231,
          -0.3374627346431983,
          -0.37276945682641743,
          -0.33493675799578254,
          -0.21879008975997172,
          -0.3600729968596736,
          -0.24148367387525568,
          0.6037493904585843,
          -0.12551518040481005,
          -0.4108132199438517,
          -0.30666919937642206,
          -0.359124769375287,
          -0.41126950521884603,
          -0.3525850478858785,
          0.5477653772463884,
          -0.3355528011349931,
          -0.35860729636829597,
          -0.29486805406579863,
          -0.3134865234168031,
          -0.39145699115342786,
          -0.3941221840399767,
          3.727045728444457,
          0.0759787424021426,
          -0.3916628499819948,
          -0.3579919561194661,
          -0.35881797740982485,
          -0.25967295577738225,
          -0.3593366274818045,
          -0.38574845940498453,
          -0.2729738214073932,
          -0.09835230148855822,
          -0.38149373426965894,
          -0.358615037008956,
          -0.3516781084508904,
          -0.39069028580650517,
          -0.35705343323780464,
          -0.33895617242019394,
          -0.3185442748415377,
          -0.3171426565318062,
          3.710337575426893,
          -0.10737876450954824,
          -0.3542478427398492,
          -0.3513266472362663,
          -0.28039673507310436,
          3.7202011479551627,
          3.7214449004737005,
          -0.2405670336707605,
          -0.33889206186580484,
          -0.35743451664328746,
          2.466319264900646,
          -0.3574980269583447,
          -0.3005214875878705
         ]
        },
        {
         "customdata": [
          [
           "SHA-256"
          ],
          [
           "Ethash"
          ],
          [
           "Scrypt"
          ],
          [
           "CryptoNight-V7"
          ],
          [
           "Ethash"
          ],
          [
           "Equihash"
          ],
          [
           "Multiple"
          ],
          [
           "Scrypt"
          ],
          [
           "X11"
          ],
          [
           "Scrypt"
          ],
          [
           "Multiple"
          ],
          [
           "Scrypt"
          ],
          [
           "SHA-256"
          ],
          [
           "Scrypt"
          ],
          [
           "Scrypt"
          ],
          [
           "Quark"
          ],
          [
           "Groestl"
          ],
          [
           "Scrypt"
          ],
          [
           "Scrypt"
          ],
          [
           "Scrypt"
          ],
          [
           "X11"
          ],
          [
           "Multiple"
          ],
          [
           "SHA-256"
          ],
          [
           "Scrypt"
          ],
          [
           "Scrypt"
          ],
          [
           "Scrypt"
          ],
          [
           "Scrypt"
          ],
          [
           "Scrypt"
          ],
          [
           "NeoScrypt"
          ],
          [
           "Scrypt"
          ],
          [
           "Scrypt"
          ],
          [
           "Scrypt"
          ],
          [
           "Scrypt"
          ],
          [
           "SHA-256"
          ],
          [
           "Scrypt"
          ],
          [
           "Scrypt"
          ],
          [
           "Scrypt"
          ],
          [
           "Scrypt"
          ],
          [
           "HybridScryptHash256"
          ],
          [
           "Scrypt"
          ],
          [
           "Scrypt"
          ],
          [
           "SHA-256"
          ],
          [
           "Scrypt"
          ],
          [
           "Scrypt"
          ],
          [
           "Scrypt"
          ],
          [
           "Scrypt"
          ],
          [
           "SHA-256"
          ],
          [
           "SHA-256"
          ],
          [
           "SHA-256"
          ],
          [
           "SHA-256"
          ],
          [
           "SHA-256"
          ],
          [
           "X11"
          ],
          [
           "Scrypt"
          ],
          [
           "Lyra2REv2"
          ],
          [
           "Scrypt"
          ],
          [
           "SHA-256"
          ],
          [
           "CryptoNight"
          ],
          [
           "CryptoNight"
          ],
          [
           "Scrypt"
          ],
          [
           "Scrypt"
          ],
          [
           "Scrypt"
          ],
          [
           "Scrypt"
          ],
          [
           "Scrypt"
          ],
          [
           "Scrypt"
          ],
          [
           "Stanford Folding"
          ],
          [
           "Multiple"
          ],
          [
           "QuBit"
          ],
          [
           "Scrypt"
          ],
          [
           "Scrypt"
          ],
          [
           "M7 POW"
          ],
          [
           "Scrypt"
          ],
          [
           "SHA-256"
          ],
          [
           "Scrypt"
          ],
          [
           "X11"
          ],
          [
           "Lyra2RE"
          ],
          [
           "SHA-256"
          ],
          [
           "X11"
          ],
          [
           "Scrypt"
          ],
          [
           "Scrypt"
          ],
          [
           "Ethash"
          ],
          [
           "Blake2b"
          ],
          [
           "X11"
          ],
          [
           "SHA-256"
          ],
          [
           "Scrypt"
          ],
          [
           "1GB AES Pattern Search"
          ],
          [
           "Scrypt"
          ],
          [
           "SHA-256"
          ],
          [
           "X11"
          ],
          [
           "Dagger"
          ],
          [
           "Scrypt"
          ],
          [
           "X11GOST"
          ],
          [
           "Scrypt"
          ],
          [
           "X11"
          ],
          [
           "Scrypt"
          ],
          [
           "X11"
          ],
          [
           "Equihash"
          ],
          [
           "CryptoNight"
          ],
          [
           "SHA-256"
          ],
          [
           "Multiple"
          ],
          [
           "Scrypt"
          ],
          [
           "SHA-256"
          ],
          [
           "Scrypt"
          ],
          [
           "Lyra2Z"
          ],
          [
           "Ethash"
          ],
          [
           "Equihash"
          ],
          [
           "Scrypt"
          ],
          [
           "X11"
          ],
          [
           "X11"
          ],
          [
           "CryptoNight"
          ],
          [
           "Scrypt"
          ],
          [
           "CryptoNight"
          ],
          [
           "Lyra2RE"
          ],
          [
           "X11"
          ],
          [
           "CryptoNight-V7"
          ],
          [
           "Scrypt"
          ],
          [
           "X11"
          ],
          [
           "Equihash"
          ],
          [
           "Scrypt"
          ],
          [
           "Lyra2RE"
          ],
          [
           "Dagger-Hashimoto"
          ],
          [
           "Scrypt"
          ],
          [
           "NIST5"
          ],
          [
           "Scrypt"
          ],
          [
           "SHA-256"
          ],
          [
           "Scrypt"
          ],
          [
           "CryptoNight-V7"
          ],
          [
           "Argon2d"
          ],
          [
           "Blake2b"
          ],
          [
           "Cloverhash"
          ],
          [
           "CryptoNight"
          ],
          [
           "X11"
          ],
          [
           "Scrypt"
          ],
          [
           "Scrypt"
          ],
          [
           "X11"
          ],
          [
           "X11"
          ],
          [
           "CryptoNight"
          ],
          [
           "Time Travel"
          ],
          [
           "Scrypt"
          ],
          [
           "Keccak"
          ],
          [
           "X11"
          ],
          [
           "SHA-256"
          ],
          [
           "Scrypt"
          ],
          [
           "Scrypt"
          ],
          [
           "Scrypt"
          ],
          [
           "Scrypt"
          ],
          [
           "Scrypt"
          ],
          [
           "Scrypt"
          ],
          [
           "CryptoNight"
          ],
          [
           "Equihash"
          ],
          [
           "X11"
          ],
          [
           "NeoScrypt"
          ],
          [
           "Equihash"
          ],
          [
           "Dagger"
          ],
          [
           "Scrypt"
          ],
          [
           "X11"
          ],
          [
           "NeoScrypt"
          ],
          [
           "Ethash"
          ],
          [
           "NeoScrypt"
          ],
          [
           "Multiple"
          ],
          [
           "CryptoNight"
          ],
          [
           "CryptoNight"
          ],
          [
           "Ethash"
          ],
          [
           "X11"
          ],
          [
           "CryptoNight-V7"
          ],
          [
           "Scrypt"
          ],
          [
           "BLAKE256"
          ],
          [
           "X11"
          ],
          [
           "NeoScrypt"
          ],
          [
           "NeoScrypt"
          ],
          [
           "Scrypt"
          ],
          [
           "X11"
          ],
          [
           "SHA-256"
          ],
          [
           "C11"
          ],
          [
           "CryptoNight"
          ],
          [
           "SkunkHash"
          ],
          [
           "CryptoNight"
          ],
          [
           "Scrypt"
          ],
          [
           "Dagger"
          ],
          [
           "Lyra2REv2"
          ],
          [
           "Scrypt"
          ],
          [
           "Scrypt"
          ],
          [
           "X11"
          ],
          [
           "Ethash"
          ],
          [
           "CryptoNight"
          ],
          [
           "Scrypt"
          ],
          [
           "IMesh"
          ],
          [
           "Equihash"
          ],
          [
           "Lyra2Z"
          ],
          [
           "X11"
          ],
          [
           "CryptoNight"
          ],
          [
           "NIST5"
          ],
          [
           "Lyra2RE"
          ],
          [
           "Tribus"
          ],
          [
           "Lyra2Z"
          ],
          [
           "CryptoNight"
          ],
          [
           "CryptoNight Heavy"
          ],
          [
           "CryptoNight"
          ],
          [
           "Jump Consistent Hash"
          ],
          [
           "CryptoNight"
          ],
          [
           "Scrypt"
          ],
          [
           "X16R"
          ],
          [
           "HMQ1725"
          ],
          [
           "X11"
          ],
          [
           "Scrypt"
          ],
          [
           "CryptoNight-V7"
          ],
          [
           "Cryptonight-GPU"
          ],
          [
           "XEVAN"
          ],
          [
           "CryptoNight Heavy"
          ],
          [
           "SHA-256"
          ],
          [
           "X11"
          ],
          [
           "X16R"
          ],
          [
           "Equihash"
          ],
          [
           "Lyra2Z"
          ],
          [
           "SHA-256"
          ],
          [
           "CryptoNight"
          ],
          [
           "Blake"
          ],
          [
           "Blake"
          ],
          [
           "Exosis"
          ],
          [
           "Scrypt"
          ],
          [
           "Equihash"
          ],
          [
           "Equihash"
          ],
          [
           "QuBit"
          ],
          [
           "SHA-256"
          ],
          [
           "X13"
          ],
          [
           "SHA-256"
          ],
          [
           "Scrypt"
          ],
          [
           "NeoScrypt"
          ],
          [
           "Blake"
          ],
          [
           "Scrypt"
          ],
          [
           "SHA-256"
          ],
          [
           "Scrypt"
          ],
          [
           "Groestl"
          ],
          [
           "Scrypt"
          ],
          [
           "Scrypt"
          ],
          [
           "Multiple"
          ],
          [
           "Equihash+Scrypt"
          ],
          [
           "Ethash"
          ],
          [
           "CryptoNight"
          ],
          [
           "Equihash"
          ]
         ],
         "hovertemplate": "<b>%{hovertext}</b><br><br>Class=%{marker.color}<br>PC 3=%{x}<br>PC 2=%{y}<br>PC 1=%{z}<br>Algorithm=%{customdata[0]}<extra></extra>",
         "hovertext": [
          "Bitcoin",
          "Ethereum",
          "Litecoin",
          "Monero",
          "Ethereum Classic",
          "ZCash",
          "DigiByte",
          "ProsperCoin",
          "Spreadcoin",
          "Argentum",
          "MyriadCoin",
          "MoonCoin",
          "ZetaCoin",
          "SexCoin",
          "Quatloo",
          "QuarkCoin",
          "Riecoin",
          "Digitalcoin ",
          "Catcoin",
          "CannaCoin",
          "CryptCoin",
          "Verge",
          "DevCoin",
          "EarthCoin",
          "E-Gulden",
          "Einsteinium",
          "Emerald",
          "Franko",
          "FeatherCoin",
          "GrandCoin",
          "GlobalCoin",
          "GoldCoin",
          "Infinite Coin",
          "IXcoin",
          "KrugerCoin",
          "LuckyCoin",
          "Litebar ",
          "MegaCoin",
          "MediterraneanCoin",
          "MinCoin",
          "NobleCoin",
          "Namecoin",
          "NyanCoin",
          "RonPaulCoin",
          "StableCoin",
          "SmartCoin",
          "SysCoin",
          "TigerCoin",
          "TerraCoin",
          "UnbreakableCoin",
          "Unobtanium",
          "UroCoin",
          "ViaCoin",
          "Vertcoin",
          "WorldCoin",
          "JouleCoin",
          "ByteCoin",
          "DigitalNote ",
          "MonaCoin",
          "Gulden",
          "PesetaCoin",
          "Wild Beast Coin",
          "Flo",
          "ArtByte",
          "Folding Coin",
          "Unitus",
          "CypherPunkCoin",
          "OmniCron",
          "GreenCoin",
          "Cryptonite",
          "MasterCoin",
          "SoonCoin",
          "1Credit",
          "MarsCoin ",
          "Crypto",
          "Anarchists Prime",
          "BowsCoin",
          "Song Coin",
          "BitZeny",
          "Expanse",
          "Siacoin",
          "MindCoin",
          "I0coin",
          "Revolution VR",
          "HOdlcoin",
          "Gamecredits",
          "CarpeDiemCoin",
          "Adzcoin",
          "SoilCoin",
          "YoCoin",
          "SibCoin",
          "Francs",
          "BolivarCoin",
          "Omni",
          "PizzaCoin",
          "Komodo",
          "Karbo",
          "ZayedCoin",
          "Circuits of Value",
          "DopeCoin",
          "DollarCoin",
          "Shilling",
          "ZCoin",
          "Elementrem",
          "ZClassic",
          "KiloCoin",
          "ArtexCoin",
          "Kurrent",
          "Cannabis Industry Coin",
          "OsmiumCoin",
          "Bikercoins",
          "HexxCoin",
          "PacCoin",
          "Citadel",
          "BeaverCoin",
          "VaultCoin",
          "Zero",
          "Canada eCoin",
          "Zoin",
          "DubaiCoin",
          "EB3coin",
          "Coinonat",
          "BenjiRolls",
          "ILCoin",
          "EquiTrader",
          "Quantum Resistant Ledger",
          "Dynamic",
          "Nano",
          "ChanCoin",
          "Dinastycoin",
          "DigitalPrice",
          "Unify",
          "SocialCoin",
          "ArcticCoin",
          "DAS",
          "LeviarCoin",
          "Bitcore",
          "gCn Coin",
          "SmartCash",
          "Onix",
          "Bitcoin Cash",
          "Sojourn Coin",
          "NewYorkCoin",
          "FrazCoin",
          "Kronecoin",
          "AdCoin",
          "Linx",
          "Sumokoin",
          "BitcoinZ",
          "Elements",
          "VIVO Coin",
          "Bitcoin Gold",
          "Pirl",
          "eBoost",
          "Pura",
          "Innova",
          "Ellaism",
          "GoByte",
          "SHIELD",
          "UltraNote",
          "BitCoal",
          "DaxxCoin",
          "AC3",
          "Lethean",
          "PopularCoin",
          "Photon",
          "Sucre",
          "SparksPay",
          "GunCoin",
          "IrishCoin",
          "Pioneer Coin",
          "UnitedBitcoin",
          "Interzone",
          "TurtleCoin",
          "MUNcoin",
          "Niobio Cash",
          "ShareChain",
          "Travelflex",
          "KREDS",
          "BitFlip",
          "LottoCoin",
          "Crypto Improvement Fund",
          "Callisto Network",
          "BitTube",
          "Poseidon",
          "Aidos Kuneen",
          "Bitrolium",
          "Alpenschillling",
          "FuturoCoin",
          "Monero Classic",
          "Jumpcoin",
          "Infinex",
          "KEYCO",
          "GINcoin",
          "PlatinCoin",
          "Loki",
          "Newton Coin",
          "MassGrid",
          "PluraCoin",
          "Lynx",
          "Motion",
          "PlusOneCoin",
          "Axe",
          "HexCoin",
          "Webchain",
          "Ryo",
          "Urals Coin",
          "Qwertycoin",
          "Project Pai",
          "Azart",
          "Xchange",
          "CrypticCoin",
          "Actinium",
          "Bitcoin SV",
          "FREDEnergy",
          "Universal Molecule",
          "Lithium",
          "Exosis",
          "Block-Logic",
          "Beam",
          "Bithereum",
          "SLICE",
          "BLAST",
          "Bitcoin Rhodium",
          "GlobalToken",
          "SolarCoin",
          "UFO Coin",
          "BlakeCoin",
          "Crypto Escudo",
          "Crown Coin",
          "SmileyCoin",
          "Groestlcoin",
          "Bata",
          "Pakcoin",
          "JoinCoin",
          "Vollar",
          "Reality Clash",
          "Beldex",
          "Horizen"
         ],
         "legendgroup": "0",
         "marker": {
          "color": [
           0,
           0,
           0,
           0,
           0,
           0,
           0,
           0,
           0,
           0,
           0,
           0,
           0,
           0,
           0,
           0,
           0,
           0,
           0,
           0,
           0,
           0,
           0,
           0,
           0,
           0,
           0,
           0,
           0,
           0,
           0,
           0,
           0,
           0,
           0,
           0,
           0,
           0,
           0,
           0,
           0,
           0,
           0,
           0,
           0,
           0,
           0,
           0,
           0,
           0,
           0,
           0,
           0,
           0,
           0,
           0,
           0,
           0,
           0,
           0,
           0,
           0,
           0,
           0,
           0,
           0,
           0,
           0,
           0,
           0,
           0,
           0,
           0,
           0,
           0,
           0,
           0,
           0,
           0,
           0,
           0,
           0,
           0,
           0,
           0,
           0,
           0,
           0,
           0,
           0,
           0,
           0,
           0,
           0,
           0,
           0,
           0,
           0,
           0,
           0,
           0,
           0,
           0,
           0,
           0,
           0,
           0,
           0,
           0,
           0,
           0,
           0,
           0,
           0,
           0,
           0,
           0,
           0,
           0,
           0,
           0,
           0,
           0,
           0,
           0,
           0,
           0,
           0,
           0,
           0,
           0,
           0,
           0,
           0,
           0,
           0,
           0,
           0,
           0,
           0,
           0,
           0,
           0,
           0,
           0,
           0,
           0,
           0,
           0,
           0,
           0,
           0,
           0,
           0,
           0,
           0,
           0,
           0,
           0,
           0,
           0,
           0,
           0,
           0,
           0,
           0,
           0,
           0,
           0,
           0,
           0,
           0,
           0,
           0,
           0,
           0,
           0,
           0,
           0,
           0,
           0,
           0,
           0,
           0,
           0,
           0,
           0,
           0,
           0,
           0,
           0,
           0,
           0,
           0,
           0,
           0,
           0,
           0,
           0,
           0,
           0,
           0,
           0,
           0,
           0,
           0,
           0,
           0,
           0,
           0,
           0,
           0,
           0,
           0,
           0,
           0,
           0,
           0,
           0,
           0,
           0,
           0,
           0,
           0,
           0,
           0,
           0,
           0,
           0,
           0,
           0,
           0,
           0,
           0,
           0,
           0,
           0,
           0,
           0
          ],
          "coloraxis": "coloraxis",
          "symbol": "diamond"
         },
         "mode": "markers",
         "name": "0",
         "scene": "scene",
         "showlegend": true,
         "type": "scatter3d",
         "x": [
          0.1493639935214311,
          0.40506183456975303,
          -0.00481818173391796,
          0.3882245066467208,
          0.40504052739560703,
          0.3431385613422515,
          0.3306598421710758,
          -0.0047920862319203,
          0.07311196747846452,
          -0.00479831966264985,
          0.3358513457722418,
          -0.0400699727290741,
          0.14929632789936498,
          -0.004856801151800354,
          -0.004799908337803204,
          0.0716735549074051,
          0.13011427209803192,
          -0.004804395100284664,
          -0.004792600955371429,
          -0.004790986631601016,
          0.07311433287346623,
          0.3294643767038112,
          0.14078598673947337,
          -0.010474561136679768,
          -0.004797455327358436,
          -0.00489326370205291,
          -0.004797964739970322,
          -0.004789548967031946,
          0.29717369627034185,
          -0.005232129291504417,
          -0.00481782919182982,
          -0.004809520640020891,
          -0.045235779269019914,
          0.14936287228086195,
          -0.00486619841577717,
          -0.00479680173772432,
          -0.004788627048494613,
          -0.004805498285902961,
          0.4652255983980936,
          -0.004791088281177191,
          -0.007005266620714479,
          0.14936512490331827,
          -0.00493775581167734,
          -0.004790432421250866,
          -0.0048196675906672475,
          -0.00480189068390731,
          0.14909094297320527,
          0.14935252290995124,
          0.14936028823452993,
          0.1493641214264698,
          0.14937218538936825,
          0.07311733045040363,
          -0.004798433490635955,
          0.1461126957503157,
          -0.004854908368323897,
          0.14935424701830782,
          0.33344758753788223,
          0.41229493474301365,
          -0.004821950244188032,
          -0.00508963136689009,
          -0.0048521598293313735,
          -0.004788417398387745,
          -0.004856804192675016,
          -0.005161008365117676,
          0.303150557283903,
          0.3366106371996567,
          0.1699945514290748,
          -0.004792016638392734,
          -0.0073416399890757185,
          0.3309631734960083,
          -0.004788388004850328,
          0.14936593113801172,
          -0.013241088639826988,
          0.07310330140769769,
          0.48929675937492895,
          0.14936211109007547,
          0.07311020407639801,
          -0.004818975224737896,
          -0.004837892710780899,
          0.40509474237374726,
          0.4702661099592012,
          0.07311066210784474,
          0.14936290485679357,
          -0.004881867796343352,
          0.2715717489574013,
          -0.00482059175673887,
          0.13967672226924463,
          0.07309404545539264,
          0.3685901149649212,
          -0.00480380520136864,
          0.47160638105283625,
          -0.004792278900909201,
          0.07311062008978174,
          -0.004788386652080063,
          0.07311497296056405,
          0.24206296418783296,
          0.4156589718392056,
          0.14936917112155224,
          0.3361688901701785,
          -0.004847918269726087,
          0.14936807310348102,
          -0.004794810463898086,
          0.3896605752800175,
          0.4050883174409888,
          0.34313918877205063,
          -0.005776513046821948,
          0.07277964549782014,
          0.07307505125657152,
          0.41566038800175015,
          -0.00478867782445102,
          0.41565704948493026,
          0.48930609291344906,
          0.06373937125315492,
          0.38820971854930914,
          -0.004789524754829522,
          0.07301510461504232,
          0.34313909246523433,
          -0.004832701796390078,
          0.4892991715406191,
          0.4993966240972809,
          -0.00517835793714069,
          -0.04693104545506956,
          -0.004798564521768793,
          0.14867533435826108,
          -0.0047995750854979286,
          0.38819647970385246,
          0.45425540143293175,
          0.48192355949944815,
          0.2556784929375534,
          0.4148373055204346,
          0.07309611100903748,
          -0.004796312233424566,
          -0.0047968348065463694,
          0.07310301167023778,
          0.07311509198773791,
          0.41565268131821,
          0.40163403166951894,
          -0.08097999818910595,
          0.16636877710489179,
          0.072973263413121,
          0.14936396926303389,
          -0.005753021874058747,
          -0.05549527683111769,
          -0.004793389880084929,
          -0.00480201807398425,
          -0.00480887526414671,
          -0.004809254590991509,
          0.4156513249153145,
          0.33936572443971297,
          0.07199399888716565,
          0.29727459966172076,
          0.34313507962272405,
          0.3685684806780538,
          -0.004832753775256102,
          0.07302347272244805,
          0.2972721624560623,
          0.4050697676390147,
          0.297273567789492,
          0.33640227275751233,
          0.401015947889802,
          0.4156599202045414,
          0.40399652136690245,
          0.07303874617903358,
          0.38798231552531937,
          -0.0066531332787106955,
          0.03095964518506685,
          0.07311443978717898,
          0.29727384557594017,
          0.2971263155931827,
          -0.004810119078860951,
          0.07311263914276024,
          0.14936327630884141,
          0.08494107165217175,
          0.30494054635407486,
          0.427465181772089,
          0.4155843030359122,
          -0.00925270014489479,
          0.3685476499141533,
          0.1458092144287333,
          -0.004796199753276436,
          -0.011617551677332805,
          0.07299689690322833,
          0.4044149999486287,
          0.41554240073549775,
          -0.004791484122041452,
          0.44563364537628786,
          0.34311137595122687,
          0.38962796674001715,
          0.07309729442142815,
          0.415655294475046,
          -0.04693242281933382,
          0.48930345481777915,
          0.4283810855363535,
          0.3896617830933409,
          0.41560750646140626,
          0.30522409966165054,
          0.3841146018437758,
          0.47507957257133826,
          0.4153721897307756,
          -0.43928807905767026,
          0.1936828142905839,
          0.3833531013244828,
          0.0731140586364653,
          -0.004790644780592697,
          0.3880642916670779,
          0.4033381274078655,
          0.07139453010889471,
          0.25299615295278755,
          0.1484347159690234,
          0.0731136830147068,
          0.19367507740266998,
          0.34094314015432303,
          0.3896526725235656,
          0.1493639703533644,
          0.414258256649209,
          0.39124354996127153,
          0.3912458310631323,
          0.45947803871899273,
          -0.004811648235628504,
          0.3431063086261019,
          0.34313135295327607,
          0.16998303722676017,
          0.14934785699066794,
          -0.0546614307448034,
          0.1493268417537092,
          -0.013821226638868665,
          0.29555488511506706,
          0.3906023272392153,
          -0.005156637629048063,
          0.14936026996197876,
          -0.01987196584884242,
          0.13010392150460612,
          -0.004790362362984413,
          -0.0048295422117686235,
          0.33663228596275707,
          0.45241687484182685,
          0.4050890842764797,
          0.41518644569786256,
          0.343138592019985
         ],
         "y": [
          -1.2742520727269133,
          -1.9345248002036606,
          -1.2103705547450614,
          -2.1134121868838935,
          -1.9346146718071522,
          -2.043968342982664,
          -1.707134454200553,
          -1.2103664078241294,
          -0.8219757906106168,
          -1.210382644209609,
          -1.702782274128198,
          -1.3789570854241706,
          -1.2742548821844075,
          -1.2104163809211785,
          -1.2104004406618254,
          -0.41723200601064653,
          -1.137516602528932,
          -1.2103669728845152,
          -1.210365811824502,
          -1.210363393864517,
          -0.821977438619701,
          -1.7033257231192585,
          -1.2757624455657564,
          -1.2111386947223686,
          -1.2103601909345074,
          -1.2104013198355938,
          -1.2103656009681079,
          -1.210364019912736,
          -1.5412885184501135,
          -1.2106202894568414,
          -1.2103633267387361,
          -1.2103741721361108,
          -1.2129423204653464,
          -1.2742507744395304,
          -1.210413910987237,
          -1.2103604022836698,
          -1.2103596952474163,
          -1.2103623322954207,
          -2.08119340572176,
          -1.2103615634701066,
          -1.2159739658695534,
          -1.2742533827569518,
          -1.2103700969355682,
          -1.2103683227758204,
          -1.2104593779685386,
          -1.2103715276318148,
          -1.2744088067161168,
          -1.2742529789473236,
          -1.2742592366891425,
          -1.2742844020233803,
          -1.2742502401495686,
          -0.821971091530199,
          -1.2103601492046574,
          -1.2285296819179843,
          -1.210426983762652,
          -1.2742538778810544,
          -2.208119382218572,
          -2.204254715886778,
          -1.2103777109540732,
          -1.2109267711005156,
          -1.2103761483675366,
          -1.2103606350792306,
          -1.210367287441835,
          -1.210473221580751,
          -2.1411963780770944,
          -1.7025705716914699,
          -1.5870113338715994,
          -1.2103568729585268,
          -1.212857258362368,
          -2.1572130688360214,
          -1.2103595735778483,
          -1.274254316298208,
          -1.2507526778292801,
          -0.8219728469164116,
          -2.13764296560265,
          -1.274267761799556,
          -0.8219742942067423,
          -1.2104384928081628,
          -1.210438275054389,
          -1.934572125728286,
          -2.0336892092437417,
          -0.8219720973426442,
          -1.2742508121592866,
          -1.2103655384287872,
          -2.0277942970407286,
          -1.2103677641733541,
          -1.2748196259968827,
          -0.8219899470681191,
          -2.1301600298272465,
          -1.2104332102785231,
          -2.2572769352279947,
          -1.2103656392882232,
          -0.82197695768565,
          -1.2103595734915291,
          -0.8219819978860904,
          -1.676026014416116,
          -2.2027009578489354,
          -1.2742519240026022,
          -1.7027136044304494,
          -1.2103993942344582,
          -1.2742511447576248,
          -1.2103681624246427,
          -2.1279890772334102,
          -1.934569758442909,
          -2.0439690694852666,
          -1.2146695229340088,
          -0.8218528072327944,
          -0.8220464975690189,
          -2.2027085975110343,
          -1.2103603805953913,
          -2.20270691360962,
          -2.1376233431019065,
          -0.865656726217429,
          -2.113495970843823,
          -1.2103597521333096,
          -0.8223981679498056,
          -2.043966776195428,
          -1.2103624690305324,
          -2.1376213287105803,
          -2.141977577097689,
          -1.2120894644096067,
          -0.6065929422630271,
          -1.2103668266601892,
          -1.274806828113762,
          -1.210385554104066,
          -2.1134370060316177,
          -2.0808657793226155,
          -2.0473730054629926,
          -2.074102293996142,
          -2.202834981796342,
          -0.8220010658817747,
          -1.2103605746168886,
          -1.2103903634121602,
          -0.8219872384161427,
          -0.8219788084996804,
          -2.2027176735734275,
          -2.079052694912315,
          -1.2312255676230297,
          -1.245399853125921,
          -0.8224042643110092,
          -1.2742520446380503,
          -1.2149694454148643,
          -1.151645596763134,
          -1.2103643528825359,
          -1.2103892706890953,
          -1.2103900578344073,
          -1.2103896186108634,
          -2.202735132924945,
          -2.0510426345670694,
          -0.8216521821472217,
          -1.541236812560174,
          -2.0439643114905355,
          -2.1302038726771557,
          -1.2103624088440674,
          -0.8220533188154359,
          -1.5412438085050424,
          -1.9346867102399983,
          -1.5412382358837378,
          -1.7026892989876392,
          -2.2321030461593296,
          -2.2027034195735853,
          -1.9387457110774136,
          -0.8221800927869214,
          -2.1136769143294885,
          -1.210927262172878,
          -1.2023007581361427,
          -0.8219785442145339,
          -1.5412326667383938,
          -1.5413231090532769,
          -1.2103689816347798,
          -0.8219782046644015,
          -1.274250787364302,
          -1.1662854918112653,
          -2.6199383307443536,
          -2.0827215279383307,
          -2.202792313384575,
          -1.2106444368198046,
          -2.130149040512807,
          -1.2287324511884887,
          -1.210372008202657,
          -1.212491705611553,
          -0.822104363202174,
          -1.9373212145852983,
          -2.203105969405068,
          -1.2103671050087297,
          -2.1899790484021464,
          -2.043963591702518,
          -2.128103280412992,
          -0.8220024361580708,
          -2.202701281548818,
          -0.6065764829699751,
          -2.1376291682726043,
          -2.0175839617085,
          -2.1279845304242144,
          -2.2029631781850942,
          -2.1527804146786043,
          -2.2665318875960496,
          -2.052684414048375,
          -2.2029088816384252,
          -0.10546423638305429,
          -1.2101986601204675,
          -2.1377046113624503,
          -0.8219787574119052,
          -1.210368679743435,
          -2.114181200507874,
          -2.16165505587597,
          -0.49969498537676876,
          -2.1928417734759353,
          -1.2743100378603371,
          -0.8219805042544157,
          -1.210232204898181,
          -2.0455601789922784,
          -2.1280140714043108,
          -1.2742520459005469,
          -2.2054807990026184,
          -2.1715826476497866,
          -2.17154171276861,
          -2.207918638701264,
          -1.2103977558831143,
          -2.0440628858331036,
          -2.043965388629453,
          -1.5870525459448055,
          -1.2742568422870137,
          -0.3167061353082174,
          -1.2742892348633315,
          -1.2534081428112391,
          -1.5414125995351926,
          -2.1746009449825143,
          -1.2104782824674543,
          -1.274259215531308,
          -1.2201661205912167,
          -1.1375160718733928,
          -1.2103596767927707,
          -1.2104108539282703,
          -1.7025971660939176,
          -2.016930556874908,
          -1.9345697095118701,
          -2.2029121071516586,
          -2.043968378504492
         ],
         "z": [
          -0.13482238571469002,
          -0.12608238147646894,
          -0.17447895872177197,
          -0.1352536498861477,
          -0.12452301299793145,
          -0.18265436628737722,
          0.19905230314964192,
          -0.1756254291204666,
          -0.21073797325249202,
          -0.1752417014368419,
          -0.05444831561540849,
          2.5488241816523747,
          -0.1319068342433612,
          -0.17249624428671964,
          -0.17504547272263069,
          -0.22309569767971313,
          -0.18556223675011088,
          -0.17509467996758513,
          -0.17560770004662374,
          -0.17569419966295727,
          -0.21082730822642023,
          0.2227563965335891,
          0.24310158999520795,
          0.07308423508394245,
          -0.1754404966304568,
          -0.17104460862427304,
          -0.17537971175140712,
          -0.17575120337814787,
          -0.16322530504183455,
          -0.15496706116952225,
          -0.17454613275240258,
          -0.17482348414745413,
          1.5734597297767143,
          -0.13478376583672125,
          -0.17211195005058152,
          -0.17546693958846812,
          -0.17582181692336188,
          -0.17508091924646457,
          -0.12845211519106506,
          -0.17570304114928895,
          -0.04051554542635288,
          -0.1348613548989172,
          -0.1693658724748838,
          -0.1756823927801066,
          -0.17377526828664222,
          -0.17516901576170377,
          -0.1220094666649331,
          -0.13432504564478134,
          -0.13461221458111933,
          -0.13459487443009802,
          -0.1351861094177551,
          -0.21100131070020695,
          -0.1753989433024194,
          -0.16610312636244562,
          -0.1725008231134438,
          -0.13439233926088479,
          3.879435086117966,
          0.47783083498553125,
          -0.17426613823491915,
          -0.15885563277262224,
          -0.17298477883811725,
          -0.17582401453251284,
          -0.17284991098371164,
          -0.159070071606878,
          -0.06645460050079154,
          -0.0884628474641942,
          -0.16417813875443626,
          -0.17569712082987038,
          -0.04858350949586675,
          -0.10763259135505693,
          -0.1758329220457475,
          -0.13488912475160575,
          0.47694149062121655,
          -0.21038837981451813,
          -0.12593354749321414,
          -0.13462877466816112,
          -0.210673304045962,
          -0.1739554044161161,
          -0.1731475243990242,
          -0.12714939843629805,
          0.3866419646483698,
          -0.21070873439578225,
          -0.13478488787826734,
          -0.17179008348815886,
          -0.10820951114543757,
          -0.17439594818016196,
          0.2837707420775275,
          -0.2098690984043309,
          -0.13660548217711832,
          -0.17464257475150263,
          -0.1562032275532362,
          -0.17562272364627501,
          -0.21067190998692573,
          -0.17583298055071597,
          -0.2108218397547492,
          -0.45782418373976924,
          0.3226917085649725,
          -0.13504499882321352,
          -0.06853041239615935,
          -0.1729987449161408,
          -0.13500363207094365,
          -0.17549621885188718,
          -0.14760170058546918,
          -0.12689154580100848,
          -0.1826759774053807,
          -0.10249255729459078,
          -0.19740473315241575,
          -0.2086488301619924,
          0.32268616916044907,
          -0.1758147052754387,
          0.32281688381499457,
          -0.12647432624206828,
          0.5050913837082783,
          -0.13401709356141694,
          -0.17578299553682764,
          -0.20354946234503263,
          -0.18268838339972399,
          -0.17391593870291341,
          -0.1261926885575993,
          -0.17868942160823492,
          -0.1466801037771304,
          -0.17410234897574725,
          -0.17534521497160263,
          -0.1013578530436867,
          -0.1751670134504216,
          -0.13387555982909854,
          -0.11891842906537294,
          -0.013548272570110426,
          -0.11115081412306481,
          0.3588153658773925,
          -0.20987735139062186,
          -0.17548664276687126,
          -0.17524960691420952,
          -0.21027226870066504,
          -0.21084991735449665,
          0.3230813334527266,
          -0.0986994925871159,
          3.234658225434668,
          -0.12896702050725084,
          -0.20171520954714636,
          -0.1348215501612651,
          -0.10133628760900959,
          1.5707067409777558,
          -0.175584457210582,
          -0.17503569791827348,
          -0.17473661696926723,
          -0.17472355148016688,
          0.32326519425658723,
          0.02976090484569888,
          -0.16523398209797927,
          -0.16791542481873287,
          -0.1825344423506363,
          -0.13536382763779117,
          -0.17391414834898844,
          -0.20639270837995072,
          -0.16776072370718964,
          -0.1252550049313641,
          -0.1678610153234474,
          -0.0786916433269037,
          1.1611324582801414,
          0.3226688701655613,
          -0.05008092177564035,
          -0.20613262676932467,
          -0.12298289178065093,
          -0.09195232212058804,
          1.1405488356511553,
          -0.21082391532100483,
          -0.1679130359394877,
          -0.16094868041291197,
          -0.1748352837365632,
          -0.21074931559705753,
          -0.134800960410769,
          -0.1705177178003614,
          8.067018528356424,
          -0.10071998453867909,
          0.3265450307776986,
          0.01724082110951502,
          -0.134867665415311,
          -0.15165636507730573,
          -0.1754090583950041,
          0.13174159208814307,
          -0.20488771493638913,
          -0.07825272677364811,
          0.3305983557137276,
          -0.1756461681221135,
          -0.11543068051889115,
          -0.18152538699212287,
          -0.14538341674401523,
          -0.20991811270743294,
          0.3228513899297774,
          -0.17416202919446222,
          -0.12631946665997618,
          -0.07982673577381,
          -0.14768614801687407,
          0.3267835463099811,
          0.6305910920124643,
          2.1324290082163997,
          -0.14672516041726497,
          0.33646108348468784,
          2.151061911472818,
          -0.18880178624380864,
          -0.14949541777944336,
          -0.21080607005829166,
          -0.1756707337391053,
          -0.12285633498064653,
          -0.11847399196330825,
          -0.11556592722138298,
          3.154048230372802,
          -0.0946423391203709,
          -0.2107774090117888,
          -0.18822899343846902,
          -0.07724405208260444,
          -0.1470834312862633,
          -0.13482158771648003,
          0.40265928283518404,
          -0.13129046108664366,
          -0.13168306692451848,
          -0.13521961666481386,
          -0.17456248919183112,
          -0.18059299161029088,
          -0.1823672215608146,
          -0.16338846555405095,
          -0.1340975568214892,
          -0.09676074165522489,
          -0.1329649079294739,
          0.520901537243836,
          -0.09306473628158297,
          -0.08210191014752169,
          -0.15922061672454896,
          -0.13461158520352307,
          0.5402413060817384,
          -0.18512317546244184,
          -0.17574769855859845,
          -0.1737024419763582,
          -0.08919750868456969,
          -0.11046405600377797,
          -0.1269247101038812,
          0.3444320215762258,
          -0.18265542294762685
         ]
        },
        {
         "customdata": [
          [
           "VeChainThor Authority"
          ],
          [
           "Proof-of-BibleHash"
          ],
          [
           "SHA-256 + Hive"
          ],
          [
           "Proof-of-Authority"
          ],
          [
           "ECC 256K1"
          ],
          [
           "Leased POS"
          ]
         ],
         "hovertemplate": "<b>%{hovertext}</b><br><br>Class=%{marker.color}<br>PC 3=%{x}<br>PC 2=%{y}<br>PC 1=%{z}<br>Algorithm=%{customdata[0]}<extra></extra>",
         "hovertext": [
          "Vechain",
          "BiblePay",
          "LitecoinCash",
          "Poa Network",
          "Acute Angle Cloud",
          "Waves"
         ],
         "legendgroup": "3",
         "marker": {
          "color": [
           3,
           3,
           3,
           3,
           3,
           3
          ],
          "coloraxis": "coloraxis",
          "symbol": "square"
         },
         "mode": "markers",
         "name": "3",
         "scene": "scene",
         "showlegend": true,
         "type": "scatter3d",
         "x": [
          6.702887890568586,
          10.788774471446827,
          15.400721728006666,
          16.94659788247108,
          15.973677240113961,
          7.372434556363015
         ],
         "y": [
          2.2535444859866933,
          3.054958317516004,
          4.9581841626235965,
          3.560758541510772,
          0.361987429958707,
          3.172205111133132
         ],
         "z": [
          4.3985282823644045,
          -0.16268468366909655,
          -0.32735433330920427,
          -0.4728105766580033,
          -0.45426141412918314,
          -0.3862821861796725
         ]
        },
        {
         "customdata": [
          [
           "TRC10"
          ]
         ],
         "hovertemplate": "<b>%{hovertext}</b><br><br>Class=%{marker.color}<br>PC 3=%{x}<br>PC 2=%{y}<br>PC 1=%{z}<br>Algorithm=%{customdata[0]}<extra></extra>",
         "hovertext": [
          "BitTorrent"
         ],
         "legendgroup": "2",
         "marker": {
          "color": [
           2
          ],
          "coloraxis": "coloraxis",
          "symbol": "x"
         },
         "mode": "markers",
         "name": "2",
         "scene": "scene",
         "showlegend": true,
         "type": "scatter3d",
         "x": [
          -1.0096544963904692
         ],
         "y": [
          1.8170544882837816
         ],
         "z": [
          34.054852642759684
         ]
        }
       ],
       "layout": {
        "coloraxis": {
         "colorbar": {
          "title": {
           "text": "Class"
          }
         },
         "colorscale": [
          [
           0,
           "#0d0887"
          ],
          [
           0.1111111111111111,
           "#46039f"
          ],
          [
           0.2222222222222222,
           "#7201a8"
          ],
          [
           0.3333333333333333,
           "#9c179e"
          ],
          [
           0.4444444444444444,
           "#bd3786"
          ],
          [
           0.5555555555555556,
           "#d8576b"
          ],
          [
           0.6666666666666666,
           "#ed7953"
          ],
          [
           0.7777777777777778,
           "#fb9f3a"
          ],
          [
           0.8888888888888888,
           "#fdca26"
          ],
          [
           1,
           "#f0f921"
          ]
         ]
        },
        "legend": {
         "title": {
          "text": "Class"
         },
         "tracegroupgap": 0,
         "x": 0,
         "y": 1
        },
        "margin": {
         "t": 60
        },
        "scene": {
         "domain": {
          "x": [
           0,
           1
          ],
          "y": [
           0,
           1
          ]
         },
         "xaxis": {
          "title": {
           "text": "PC 3"
          }
         },
         "yaxis": {
          "title": {
           "text": "PC 2"
          }
         },
         "zaxis": {
          "title": {
           "text": "PC 1"
          }
         }
        },
        "template": {
         "data": {
          "bar": [
           {
            "error_x": {
             "color": "#2a3f5f"
            },
            "error_y": {
             "color": "#2a3f5f"
            },
            "marker": {
             "line": {
              "color": "#E5ECF6",
              "width": 0.5
             },
             "pattern": {
              "fillmode": "overlay",
              "size": 10,
              "solidity": 0.2
             }
            },
            "type": "bar"
           }
          ],
          "barpolar": [
           {
            "marker": {
             "line": {
              "color": "#E5ECF6",
              "width": 0.5
             },
             "pattern": {
              "fillmode": "overlay",
              "size": 10,
              "solidity": 0.2
             }
            },
            "type": "barpolar"
           }
          ],
          "carpet": [
           {
            "aaxis": {
             "endlinecolor": "#2a3f5f",
             "gridcolor": "white",
             "linecolor": "white",
             "minorgridcolor": "white",
             "startlinecolor": "#2a3f5f"
            },
            "baxis": {
             "endlinecolor": "#2a3f5f",
             "gridcolor": "white",
             "linecolor": "white",
             "minorgridcolor": "white",
             "startlinecolor": "#2a3f5f"
            },
            "type": "carpet"
           }
          ],
          "choropleth": [
           {
            "colorbar": {
             "outlinewidth": 0,
             "ticks": ""
            },
            "type": "choropleth"
           }
          ],
          "contour": [
           {
            "colorbar": {
             "outlinewidth": 0,
             "ticks": ""
            },
            "colorscale": [
             [
              0,
              "#0d0887"
             ],
             [
              0.1111111111111111,
              "#46039f"
             ],
             [
              0.2222222222222222,
              "#7201a8"
             ],
             [
              0.3333333333333333,
              "#9c179e"
             ],
             [
              0.4444444444444444,
              "#bd3786"
             ],
             [
              0.5555555555555556,
              "#d8576b"
             ],
             [
              0.6666666666666666,
              "#ed7953"
             ],
             [
              0.7777777777777778,
              "#fb9f3a"
             ],
             [
              0.8888888888888888,
              "#fdca26"
             ],
             [
              1,
              "#f0f921"
             ]
            ],
            "type": "contour"
           }
          ],
          "contourcarpet": [
           {
            "colorbar": {
             "outlinewidth": 0,
             "ticks": ""
            },
            "type": "contourcarpet"
           }
          ],
          "heatmap": [
           {
            "colorbar": {
             "outlinewidth": 0,
             "ticks": ""
            },
            "colorscale": [
             [
              0,
              "#0d0887"
             ],
             [
              0.1111111111111111,
              "#46039f"
             ],
             [
              0.2222222222222222,
              "#7201a8"
             ],
             [
              0.3333333333333333,
              "#9c179e"
             ],
             [
              0.4444444444444444,
              "#bd3786"
             ],
             [
              0.5555555555555556,
              "#d8576b"
             ],
             [
              0.6666666666666666,
              "#ed7953"
             ],
             [
              0.7777777777777778,
              "#fb9f3a"
             ],
             [
              0.8888888888888888,
              "#fdca26"
             ],
             [
              1,
              "#f0f921"
             ]
            ],
            "type": "heatmap"
           }
          ],
          "heatmapgl": [
           {
            "colorbar": {
             "outlinewidth": 0,
             "ticks": ""
            },
            "colorscale": [
             [
              0,
              "#0d0887"
             ],
             [
              0.1111111111111111,
              "#46039f"
             ],
             [
              0.2222222222222222,
              "#7201a8"
             ],
             [
              0.3333333333333333,
              "#9c179e"
             ],
             [
              0.4444444444444444,
              "#bd3786"
             ],
             [
              0.5555555555555556,
              "#d8576b"
             ],
             [
              0.6666666666666666,
              "#ed7953"
             ],
             [
              0.7777777777777778,
              "#fb9f3a"
             ],
             [
              0.8888888888888888,
              "#fdca26"
             ],
             [
              1,
              "#f0f921"
             ]
            ],
            "type": "heatmapgl"
           }
          ],
          "histogram": [
           {
            "marker": {
             "pattern": {
              "fillmode": "overlay",
              "size": 10,
              "solidity": 0.2
             }
            },
            "type": "histogram"
           }
          ],
          "histogram2d": [
           {
            "colorbar": {
             "outlinewidth": 0,
             "ticks": ""
            },
            "colorscale": [
             [
              0,
              "#0d0887"
             ],
             [
              0.1111111111111111,
              "#46039f"
             ],
             [
              0.2222222222222222,
              "#7201a8"
             ],
             [
              0.3333333333333333,
              "#9c179e"
             ],
             [
              0.4444444444444444,
              "#bd3786"
             ],
             [
              0.5555555555555556,
              "#d8576b"
             ],
             [
              0.6666666666666666,
              "#ed7953"
             ],
             [
              0.7777777777777778,
              "#fb9f3a"
             ],
             [
              0.8888888888888888,
              "#fdca26"
             ],
             [
              1,
              "#f0f921"
             ]
            ],
            "type": "histogram2d"
           }
          ],
          "histogram2dcontour": [
           {
            "colorbar": {
             "outlinewidth": 0,
             "ticks": ""
            },
            "colorscale": [
             [
              0,
              "#0d0887"
             ],
             [
              0.1111111111111111,
              "#46039f"
             ],
             [
              0.2222222222222222,
              "#7201a8"
             ],
             [
              0.3333333333333333,
              "#9c179e"
             ],
             [
              0.4444444444444444,
              "#bd3786"
             ],
             [
              0.5555555555555556,
              "#d8576b"
             ],
             [
              0.6666666666666666,
              "#ed7953"
             ],
             [
              0.7777777777777778,
              "#fb9f3a"
             ],
             [
              0.8888888888888888,
              "#fdca26"
             ],
             [
              1,
              "#f0f921"
             ]
            ],
            "type": "histogram2dcontour"
           }
          ],
          "mesh3d": [
           {
            "colorbar": {
             "outlinewidth": 0,
             "ticks": ""
            },
            "type": "mesh3d"
           }
          ],
          "parcoords": [
           {
            "line": {
             "colorbar": {
              "outlinewidth": 0,
              "ticks": ""
             }
            },
            "type": "parcoords"
           }
          ],
          "pie": [
           {
            "automargin": true,
            "type": "pie"
           }
          ],
          "scatter": [
           {
            "marker": {
             "colorbar": {
              "outlinewidth": 0,
              "ticks": ""
             }
            },
            "type": "scatter"
           }
          ],
          "scatter3d": [
           {
            "line": {
             "colorbar": {
              "outlinewidth": 0,
              "ticks": ""
             }
            },
            "marker": {
             "colorbar": {
              "outlinewidth": 0,
              "ticks": ""
             }
            },
            "type": "scatter3d"
           }
          ],
          "scattercarpet": [
           {
            "marker": {
             "colorbar": {
              "outlinewidth": 0,
              "ticks": ""
             }
            },
            "type": "scattercarpet"
           }
          ],
          "scattergeo": [
           {
            "marker": {
             "colorbar": {
              "outlinewidth": 0,
              "ticks": ""
             }
            },
            "type": "scattergeo"
           }
          ],
          "scattergl": [
           {
            "marker": {
             "colorbar": {
              "outlinewidth": 0,
              "ticks": ""
             }
            },
            "type": "scattergl"
           }
          ],
          "scattermapbox": [
           {
            "marker": {
             "colorbar": {
              "outlinewidth": 0,
              "ticks": ""
             }
            },
            "type": "scattermapbox"
           }
          ],
          "scatterpolar": [
           {
            "marker": {
             "colorbar": {
              "outlinewidth": 0,
              "ticks": ""
             }
            },
            "type": "scatterpolar"
           }
          ],
          "scatterpolargl": [
           {
            "marker": {
             "colorbar": {
              "outlinewidth": 0,
              "ticks": ""
             }
            },
            "type": "scatterpolargl"
           }
          ],
          "scatterternary": [
           {
            "marker": {
             "colorbar": {
              "outlinewidth": 0,
              "ticks": ""
             }
            },
            "type": "scatterternary"
           }
          ],
          "surface": [
           {
            "colorbar": {
             "outlinewidth": 0,
             "ticks": ""
            },
            "colorscale": [
             [
              0,
              "#0d0887"
             ],
             [
              0.1111111111111111,
              "#46039f"
             ],
             [
              0.2222222222222222,
              "#7201a8"
             ],
             [
              0.3333333333333333,
              "#9c179e"
             ],
             [
              0.4444444444444444,
              "#bd3786"
             ],
             [
              0.5555555555555556,
              "#d8576b"
             ],
             [
              0.6666666666666666,
              "#ed7953"
             ],
             [
              0.7777777777777778,
              "#fb9f3a"
             ],
             [
              0.8888888888888888,
              "#fdca26"
             ],
             [
              1,
              "#f0f921"
             ]
            ],
            "type": "surface"
           }
          ],
          "table": [
           {
            "cells": {
             "fill": {
              "color": "#EBF0F8"
             },
             "line": {
              "color": "white"
             }
            },
            "header": {
             "fill": {
              "color": "#C8D4E3"
             },
             "line": {
              "color": "white"
             }
            },
            "type": "table"
           }
          ]
         },
         "layout": {
          "annotationdefaults": {
           "arrowcolor": "#2a3f5f",
           "arrowhead": 0,
           "arrowwidth": 1
          },
          "autotypenumbers": "strict",
          "coloraxis": {
           "colorbar": {
            "outlinewidth": 0,
            "ticks": ""
           }
          },
          "colorscale": {
           "diverging": [
            [
             0,
             "#8e0152"
            ],
            [
             0.1,
             "#c51b7d"
            ],
            [
             0.2,
             "#de77ae"
            ],
            [
             0.3,
             "#f1b6da"
            ],
            [
             0.4,
             "#fde0ef"
            ],
            [
             0.5,
             "#f7f7f7"
            ],
            [
             0.6,
             "#e6f5d0"
            ],
            [
             0.7,
             "#b8e186"
            ],
            [
             0.8,
             "#7fbc41"
            ],
            [
             0.9,
             "#4d9221"
            ],
            [
             1,
             "#276419"
            ]
           ],
           "sequential": [
            [
             0,
             "#0d0887"
            ],
            [
             0.1111111111111111,
             "#46039f"
            ],
            [
             0.2222222222222222,
             "#7201a8"
            ],
            [
             0.3333333333333333,
             "#9c179e"
            ],
            [
             0.4444444444444444,
             "#bd3786"
            ],
            [
             0.5555555555555556,
             "#d8576b"
            ],
            [
             0.6666666666666666,
             "#ed7953"
            ],
            [
             0.7777777777777778,
             "#fb9f3a"
            ],
            [
             0.8888888888888888,
             "#fdca26"
            ],
            [
             1,
             "#f0f921"
            ]
           ],
           "sequentialminus": [
            [
             0,
             "#0d0887"
            ],
            [
             0.1111111111111111,
             "#46039f"
            ],
            [
             0.2222222222222222,
             "#7201a8"
            ],
            [
             0.3333333333333333,
             "#9c179e"
            ],
            [
             0.4444444444444444,
             "#bd3786"
            ],
            [
             0.5555555555555556,
             "#d8576b"
            ],
            [
             0.6666666666666666,
             "#ed7953"
            ],
            [
             0.7777777777777778,
             "#fb9f3a"
            ],
            [
             0.8888888888888888,
             "#fdca26"
            ],
            [
             1,
             "#f0f921"
            ]
           ]
          },
          "colorway": [
           "#636efa",
           "#EF553B",
           "#00cc96",
           "#ab63fa",
           "#FFA15A",
           "#19d3f3",
           "#FF6692",
           "#B6E880",
           "#FF97FF",
           "#FECB52"
          ],
          "font": {
           "color": "#2a3f5f"
          },
          "geo": {
           "bgcolor": "white",
           "lakecolor": "white",
           "landcolor": "#E5ECF6",
           "showlakes": true,
           "showland": true,
           "subunitcolor": "white"
          },
          "hoverlabel": {
           "align": "left"
          },
          "hovermode": "closest",
          "mapbox": {
           "style": "light"
          },
          "paper_bgcolor": "white",
          "plot_bgcolor": "#E5ECF6",
          "polar": {
           "angularaxis": {
            "gridcolor": "white",
            "linecolor": "white",
            "ticks": ""
           },
           "bgcolor": "#E5ECF6",
           "radialaxis": {
            "gridcolor": "white",
            "linecolor": "white",
            "ticks": ""
           }
          },
          "scene": {
           "xaxis": {
            "backgroundcolor": "#E5ECF6",
            "gridcolor": "white",
            "gridwidth": 2,
            "linecolor": "white",
            "showbackground": true,
            "ticks": "",
            "zerolinecolor": "white"
           },
           "yaxis": {
            "backgroundcolor": "#E5ECF6",
            "gridcolor": "white",
            "gridwidth": 2,
            "linecolor": "white",
            "showbackground": true,
            "ticks": "",
            "zerolinecolor": "white"
           },
           "zaxis": {
            "backgroundcolor": "#E5ECF6",
            "gridcolor": "white",
            "gridwidth": 2,
            "linecolor": "white",
            "showbackground": true,
            "ticks": "",
            "zerolinecolor": "white"
           }
          },
          "shapedefaults": {
           "line": {
            "color": "#2a3f5f"
           }
          },
          "ternary": {
           "aaxis": {
            "gridcolor": "white",
            "linecolor": "white",
            "ticks": ""
           },
           "baxis": {
            "gridcolor": "white",
            "linecolor": "white",
            "ticks": ""
           },
           "bgcolor": "#E5ECF6",
           "caxis": {
            "gridcolor": "white",
            "linecolor": "white",
            "ticks": ""
           }
          },
          "title": {
           "x": 0.05
          },
          "xaxis": {
           "automargin": true,
           "gridcolor": "white",
           "linecolor": "white",
           "ticks": "",
           "title": {
            "standoff": 15
           },
           "zerolinecolor": "white",
           "zerolinewidth": 2
          },
          "yaxis": {
           "automargin": true,
           "gridcolor": "white",
           "linecolor": "white",
           "ticks": "",
           "title": {
            "standoff": 15
           },
           "zerolinecolor": "white",
           "zerolinewidth": 2
          }
         }
        },
        "width": 800
       }
      },
      "text/html": [
       "<div>                            <div id=\"44715155-c4c1-4968-9cad-b1f804dd4d92\" class=\"plotly-graph-div\" style=\"height:525px; width:800px;\"></div>            <script type=\"text/javascript\">                require([\"plotly\"], function(Plotly) {                    window.PLOTLYENV=window.PLOTLYENV || {};                                    if (document.getElementById(\"44715155-c4c1-4968-9cad-b1f804dd4d92\")) {                    Plotly.newPlot(                        \"44715155-c4c1-4968-9cad-b1f804dd4d92\",                        [{\"customdata\":[[\"Scrypt\"],[\"Scrypt\"],[\"X13\"],[\"X11\"],[\"SHA-512\"],[\"SHA-256\"],[\"SHA-256\"],[\"X15\"],[\"Scrypt\"],[\"Scrypt\"],[\"Scrypt\"],[\"Scrypt\"],[\"Scrypt\"],[\"Scrypt\"],[\"Groestl\"],[\"PoS\"],[\"Scrypt\"],[\"Scrypt\"],[\"X11\"],[\"X11\"],[\"SHA3\"],[\"Scrypt\"],[\"SHA-256\"],[\"Scrypt\"],[\"X13\"],[\"X13\"],[\"NeoScrypt\"],[\"Scrypt\"],[\"Scrypt\"],[\"Scrypt\"],[\"X11\"],[\"X11\"],[\"Multiple\"],[\"PHI1612\"],[\"X11\"],[\"Scrypt\"],[\"Scrypt\"],[\"Scrypt\"],[\"X11\"],[\"Multiple\"],[\"X13\"],[\"Scrypt\"],[\"Shabal256\"],[\"Counterparty\"],[\"SHA-256\"],[\"Groestl\"],[\"Scrypt\"],[\"X13\"],[\"Scrypt\"],[\"Scrypt\"],[\"X13\"],[\"X11\"],[\"Scrypt\"],[\"X11\"],[\"SHA3\"],[\"QUAIT\"],[\"X11\"],[\"Scrypt\"],[\"X13\"],[\"SHA-256\"],[\"X15\"],[\"BLAKE256\"],[\"SHA-256\"],[\"X11\"],[\"SHA-256\"],[\"NIST5\"],[\"Scrypt\"],[\"Scrypt\"],[\"X11\"],[\"Scrypt\"],[\"SHA-256\"],[\"Scrypt\"],[\"PoS\"],[\"X11\"],[\"SHA-256\"],[\"SHA-256\"],[\"NIST5\"],[\"X11\"],[\"POS 3.0\"],[\"Scrypt\"],[\"Scrypt\"],[\"Scrypt\"],[\"X13\"],[\"X11\"],[\"X11\"],[\"Scrypt\"],[\"SHA-256\"],[\"X11\"],[\"Scrypt\"],[\"Scrypt\"],[\"Scrypt\"],[\"Scrypt\"],[\"SHA-256D\"],[\"PoS\"],[\"Scrypt\"],[\"X11\"],[\"PoS\"],[\"X13\"],[\"X14\"],[\"PoS\"],[\"SHA-256D\"],[\"DPoS\"],[\"X11\"],[\"X13\"],[\"X11\"],[\"PoS\"],[\"Scrypt\"],[\"Scrypt\"],[\"PoS\"],[\"X11\"],[\"SHA-256\"],[\"Scrypt\"],[\"X11\"],[\"Scrypt\"],[\"Scrypt\"],[\"X11\"],[\"Scrypt\"],[\"Scrypt\"],[\"Scrypt\"],[\"Scrypt\"],[\"Quark\"],[\"QuBit\"],[\"Scrypt\"],[\"SHA-256\"],[\"X11\"],[\"Scrypt\"],[\"Scrypt\"],[\"Scrypt\"],[\"Scrypt\"],[\"X13\"],[\"Scrypt\"],[\"Scrypt\"],[\"X11\"],[\"Blake2S\"],[\"X11\"],[\"PoS\"],[\"X11\"],[\"PoS\"],[\"X11\"],[\"Scrypt\"],[\"Scrypt\"],[\"Scrypt\"],[\"SHA-256\"],[\"X11\"],[\"Scrypt\"],[\"PoS\"],[\"Scrypt\"],[\"X15\"],[\"SHA-256\"],[\"POS 3.0\"],[\"536\"],[\"NIST5\"],[\"NIST5\"],[\"Skein\"],[\"X13\"],[\"Scrypt\"],[\"X13\"],[\"SkunkHash v2 Raptor\"],[\"Skein\"],[\"X11\"],[\"Scrypt\"],[\"PoS\"],[\"Scrypt\"],[\"Scrypt\"],[\"SHA-512\"],[\"Ouroboros\"],[\"X11\"],[\"NeoScrypt\"],[\"Scrypt\"],[\"Lyra2REv2\"],[\"Scrypt\"],[\"SHA-256\"],[\"NIST5\"],[\"PHI1612\"],[\"Scrypt\"],[\"Quark\"],[\"POS 2.0\"],[\"Scrypt\"],[\"SHA-256\"],[\"X11\"],[\"DPoS\"],[\"NIST5\"],[\"X13\"],[\"Scrypt\"],[\"NIST5\"],[\"Quark\"],[\"Scrypt\"],[\"Scrypt\"],[\"X11\"],[\"Quark\"],[\"Scrypt\"],[\"Scrypt\"],[\"X11\"],[\"POS 3.0\"],[\"Ethash\"],[\"Scrypt\"],[\"Scrypt\"],[\"X13\"],[\"C11\"],[\"X11\"],[\"XEVAN\"],[\"Scrypt\"],[\"VBFT\"],[\"NIST5\"],[\"Scrypt\"],[\"Scrypt\"],[\"Scrypt\"],[\"Green Protocol\"],[\"PoS\"],[\"Scrypt\"],[\"Semux BFT consensus\"],[\"Quark\"],[\"PoS\"],[\"X16R\"],[\"Scrypt\"],[\"XEVAN\"],[\"Scrypt\"],[\"Scrypt\"],[\"Scrypt\"],[\"SHA-256D\"],[\"Scrypt\"],[\"X15\"],[\"Quark\"],[\"SHA-256\"],[\"DPoS\"],[\"X16R\"],[\"Quark\"],[\"Quark\"],[\"Scrypt\"],[\"Lyra2REv2\"],[\"Quark\"],[\"Scrypt\"],[\"X11\"],[\"X11\"],[\"Scrypt\"],[\"PoS\"],[\"Keccak\"],[\"X11\"],[\"Scrypt\"],[\"SHA-512\"],[\"XEVAN\"],[\"XEVAN\"],[\"X11\"],[\"Quark\"],[\"Equihash\"],[\"Scrypt\"],[\"Quark\"],[\"Quark\"],[\"Scrypt\"],[\"X11\"],[\"Scrypt\"],[\"XEVAN\"],[\"SHA-256D\"],[\"X11\"],[\"X11\"],[\"DPoS\"],[\"Scrypt\"],[\"X11\"],[\"Scrypt\"],[\"Scrypt\"],[\"SHA-256\"],[\"Scrypt\"],[\"X11\"],[\"Scrypt\"],[\"SHA-256\"],[\"X11\"],[\"Scrypt\"],[\"Scrypt\"],[\"X11\"],[\"Scrypt\"],[\"PoS\"],[\"X11\"],[\"SHA-256\"],[\"DPoS\"],[\"Scrypt\"],[\"Scrypt\"],[\"NeoScrypt\"],[\"X13\"],[\"DPoS\"],[\"DPoS\"],[\"SHA-256\"],[\"PoS\"],[\"PoS\"],[\"SHA-256\"],[\"Scrypt\"],[\"Scrypt\"]],\"hovertemplate\":\"<b>%{hovertext}</b><br><br>Class=%{marker.color}<br>PC 3=%{x}<br>PC 2=%{y}<br>PC 1=%{z}<br>Algorithm=%{customdata[0]}<extra></extra>\",\"hovertext\":[\"42 Coin\",\"404Coin\",\"EliteCoin\",\"Dash\",\"Bitshares\",\"BitcoinDark\",\"PayCoin\",\"KoboCoin\",\"Aurora Coin\",\"BlueCoin\",\"EnergyCoin\",\"BitBar\",\"CryptoBullion\",\"CasinoCoin\",\"Diamond\",\"Exclusive Coin\",\"FlutterCoin\",\"HoboNickels\",\"HyperStake\",\"IOCoin\",\"MaxCoin\",\"MintCoin\",\"MazaCoin\",\"Nautilus Coin\",\"NavCoin\",\"OpalCoin\",\"Orbitcoin\",\"PotCoin\",\"PhoenixCoin\",\"Reddcoin\",\"SuperCoin\",\"SyncCoin\",\"TeslaCoin\",\"TittieCoin\",\"TorCoin\",\"UnitaryStatus Dollar\",\"UltraCoin\",\"VeriCoin\",\"X11 Coin\",\"Crypti\",\"StealthCoin\",\"ZCC Coin\",\"BurstCoin\",\"StorjCoin\",\"Neutron\",\"FairCoin\",\"RubyCoin\",\"Kore\",\"Dnotes\",\"8BIT Coin\",\"Sativa Coin\",\"Ucoin\",\"Vtorrent\",\"IslaCoin\",\"Nexus\",\"Droidz\",\"Squall Coin\",\"Diggits\",\"Paycon\",\"Emercoin\",\"EverGreenCoin\",\"Decred\",\"EDRCoin\",\"Hitcoin\",\"DubaiCoin\",\"PWR Coin\",\"BillaryCoin\",\"GPU Coin\",\"EuropeCoin\",\"ZeitCoin\",\"SwingCoin\",\"SafeExchangeCoin\",\"Nebuchadnezzar\",\"Ratecoin\",\"Revenu\",\"Clockcoin\",\"VIP Tokens\",\"BitSend\",\"Let it Ride\",\"PutinCoin\",\"iBankCoin\",\"Frankywillcoin\",\"MudraCoin\",\"Lutetium Coin\",\"GoldBlocks\",\"CarterCoin\",\"BitTokens\",\"MustangCoin\",\"ZoneCoin\",\"RootCoin\",\"BitCurrency\",\"Swiscoin\",\"BuzzCoin\",\"Opair\",\"PesoBit\",\"Halloween Coin\",\"CoffeeCoin\",\"RoyalCoin\",\"GanjaCoin V2\",\"TeamUP\",\"LanaCoin\",\"ARK\",\"InsaneCoin\",\"EmberCoin\",\"XenixCoin\",\"FreeCoin\",\"PLNCoin\",\"AquariusCoin\",\"Creatio\",\"Eternity\",\"Eurocoin\",\"BitcoinFast\",\"Stakenet\",\"BitConnect Coin\",\"MoneyCoin\",\"Enigma\",\"Russiacoin\",\"PandaCoin\",\"GameUnits\",\"GAKHcoin\",\"Allsafe\",\"LiteCreed\",\"Klingon Empire Darsek\",\"Internet of People\",\"KushCoin\",\"Printerium\",\"Impeach\",\"Zilbercoin\",\"FirstCoin\",\"FindCoin\",\"OpenChat\",\"RenosCoin\",\"VirtacoinPlus\",\"TajCoin\",\"Impact\",\"Atmos\",\"HappyCoin\",\"MacronCoin\",\"Condensate\",\"Independent Money System\",\"ArgusCoin\",\"LomoCoin\",\"ProCurrency\",\"GoldReserve\",\"GrowthCoin\",\"Phreak\",\"Degas Coin\",\"HTML5 Coin\",\"Ultimate Secure Cash\",\"QTUM\",\"Espers\",\"Denarius\",\"Virta Unique Coin\",\"Bitcoin Planet\",\"BritCoin\",\"Linda\",\"DeepOnion\",\"Signatum\",\"Cream\",\"Monoeci\",\"Draftcoin\",\"Stakecoin\",\"CoinonatX\",\"Ethereum Dark\",\"Obsidian\",\"Cardano\",\"Regalcoin\",\"TrezarCoin\",\"TerraNovaCoin\",\"Rupee\",\"WomenCoin\",\"Theresa May Coin\",\"NamoCoin\",\"LUXCoin\",\"Xios\",\"Bitcloud 2.0\",\"KekCoin\",\"BlackholeCoin\",\"Infinity Economics\",\"Magnet\",\"Lamden Tau\",\"Electra\",\"Bitcoin Diamond\",\"Cash & Back Coin\",\"Bulwark\",\"Kalkulus\",\"GermanCoin\",\"LiteCoin Ultra\",\"PhantomX\",\"Digiwage\",\"Trollcoin\",\"Litecoin Plus\",\"Monkey Project\",\"TokenPay\",\"1717 Masonic Commemorative Token\",\"My Big Coin\",\"Unified Society USDEX\",\"Tokyo Coin\",\"Stipend\",\"Pushi\",\"Ellerium\",\"Velox\",\"Ontology\",\"Bitspace\",\"Briacoin\",\"Ignition\",\"MedicCoin\",\"Bitcoin Green\",\"Deviant Coin\",\"Abjcoin\",\"Semux\",\"Carebit\",\"Zealium\",\"Proton\",\"iDealCash\",\"Bitcoin Incognito\",\"HollyWoodCoin\",\"Swisscoin\",\"Xt3ch\",\"TheVig\",\"EmaratCoin\",\"Dekado\",\"Poseidon Quark\",\"BitcoinWSpectrum\",\"Muse\",\"Trivechain\",\"Dystem\",\"Giant\",\"Peony Coin\",\"Absolute Coin\",\"Vitae\",\"TPCash\",\"ARENON\",\"EUNO\",\"MMOCoin\",\"Ketan\",\"XDNA\",\"PAXEX\",\"ThunderStake\",\"Kcash\",\"Bettex coin\",\"BitMoney\",\"Junson Ming Chan Coin\",\"HerbCoin\",\"PirateCash\",\"Oduwa\",\"Galilel\",\"Crypto Sports\",\"Credit\",\"Dash Platinum\",\"Nasdacoin\",\"Beetle Coin\",\"Titan Coin\",\"Award\",\"Insane Coin\",\"ALAX\",\"LiteDoge\",\"TruckCoin\",\"OrangeCoin\",\"BitstarCoin\",\"NeosCoin\",\"HyperCoin\",\"PinkCoin\",\"AudioCoin\",\"IncaKoin\",\"Piggy Coin\",\"Genstake\",\"XiaoMiCoin\",\"CapriCoin\",\" ClubCoin\",\"Radium\",\"Creditbit \",\"OKCash\",\"Lisk\",\"HiCoin\",\"WhiteCoin\",\"FriendshipCoin\",\"Triangles Coin\",\"EOS\",\"Oxycoin\",\"TigerCash\",\"Particl\",\"Nxt\",\"ZEPHYR\",\"Gapcoin\",\"BitcoinPlus\"],\"legendgroup\":\"1\",\"marker\":{\"color\":[1,1,1,1,1,1,1,1,1,1,1,1,1,1,1,1,1,1,1,1,1,1,1,1,1,1,1,1,1,1,1,1,1,1,1,1,1,1,1,1,1,1,1,1,1,1,1,1,1,1,1,1,1,1,1,1,1,1,1,1,1,1,1,1,1,1,1,1,1,1,1,1,1,1,1,1,1,1,1,1,1,1,1,1,1,1,1,1,1,1,1,1,1,1,1,1,1,1,1,1,1,1,1,1,1,1,1,1,1,1,1,1,1,1,1,1,1,1,1,1,1,1,1,1,1,1,1,1,1,1,1,1,1,1,1,1,1,1,1,1,1,1,1,1,1,1,1,1,1,1,1,1,1,1,1,1,1,1,1,1,1,1,1,1,1,1,1,1,1,1,1,1,1,1,1,1,1,1,1,1,1,1,1,1,1,1,1,1,1,1,1,1,1,1,1,1,1,1,1,1,1,1,1,1,1,1,1,1,1,1,1,1,1,1,1,1,1,1,1,1,1,1,1,1,1,1,1,1,1,1,1,1,1,1,1,1,1,1,1,1,1,1,1,1,1,1,1,1,1,1,1,1,1,1,1,1,1,1,1,1,1,1,1,1,1,1,1,1,1,1,1,1,1,1,1,1,1,1,1,1,1,1,1,1,1,1],\"coloraxis\":\"coloraxis\",\"symbol\":\"circle\"},\"mode\":\"markers\",\"name\":\"1\",\"scene\":\"scene\",\"showlegend\":true,\"x\":[-0.5713884778242941,-0.5718115043169874,-0.6605079642654311,-0.49348783149911474,-0.08014712911502242,-0.4172305651337701,-0.10171301119986899,-0.6979124354123983,-0.5713964488265345,-0.5716137857918997,-0.571432113293472,-0.5713885388432568,-0.5713889381343592,-0.14500757838770997,-0.4364623816137637,-0.11866924943969827,-0.26044164390778246,-0.5714311555694199,-0.17855729848460408,-0.4934908878354234,-0.5586245588064859,-0.2634183797433415,-0.418022594929077,-0.25587522414401764,-0.6212846223061733,-0.6212665633369674,-0.2693232971398345,-0.5715060240147927,-0.5714237064379741,-0.5817831630034852,-0.17798011034209318,-0.49348260834415625,0.08551618934304653,-0.3013603058242162,-0.4934840343377373,-0.571925151098636,-0.5714154781423908,-0.3719942228907791,-0.49348557779300267,0.08551837810224516,-0.6212729235489548,-0.5715328318867463,0.2745551153006698,-0.06621258572949032,-0.4172482063353838,-0.43647966889467776,-0.2558776394895564,-0.6212630088898847,-0.2559758662116471,-0.5713889982711732,-0.6212646243950384,-0.17796492181673043,-0.5713944301934865,-0.49348314456262377,-0.26344943763891343,-0.6726559123780538,-0.1891793894113718,-0.25591264632659744,-0.6212739536244856,-0.41733523472076794,-0.6978784345262992,-0.5167079732912524,-0.4172314093260931,-0.49982108151423243,-0.41723087015287774,-0.6170938043774846,-0.5713955275247162,-0.25590266303155,-0.4935215798957663,-0.2780733300942133,-0.41723331398891234,-0.12810798762400294,-0.11867616471286561,-0.49353720918318705,-0.4172489746207255,-0.417282231979857,-0.6135612479151459,-0.4935040265092295,-0.051432710347979485,-0.5718605429875498,-0.5713941560849456,-0.5714331236926588,-0.30576086070656194,-0.17825545394722062,-0.4934927204501886,-0.5714120525726427,-0.41723022737712684,-0.49348311665853145,-0.5713913227947345,-0.5713891656494924,-0.2559281365512334,-0.3318295475446887,-0.7303556935764696,-0.11870028547908824,-0.571400364342922,-0.49371427703494314,-0.11872364258343805,-0.3057418280445718,-0.7697616070459666,-0.1187012095003353,-0.7226495862382898,-0.11389175862118152,-0.49349186820708085,-0.6540289281888173,-0.4934843281868596,-0.11868955847899994,-0.5713980784685394,-0.571393205327889,-0.11867616471286561,-0.4934902727367909,-0.41723432702024604,-0.5713986879466427,-0.05117609579466996,-0.5713949794329881,-0.57145213035516,-0.49348335609942,-0.5714046791215504,-0.27084489756899865,-0.5713909036904785,-0.5713899581689575,-0.17929671382951984,-0.39662151943873714,-0.5714429153472813,-0.41723091194493367,-0.49348547387610214,-0.5713945071392623,-0.5713906023106343,-0.25587409012867707,-0.04809040817326413,-0.30574719659082955,-0.5718349366766932,-0.25588394623720223,-0.4934964630543664,-0.7928912451265927,-0.49353194183307203,-0.1187167754031174,-0.49349942682899695,-0.11884632308288234,-0.49357168777556965,-0.571392330483355,-0.5713915127407724,-0.5714805349420988,-0.10863424934800033,-0.4934923716406905,-0.2561564089792101,-0.11867403066606502,-0.5714056985591786,-0.7205572424851743,-0.10172966056424919,-0.051460595123521316,-0.6804487286708357,-0.6135257868494843,-0.6135567324876291,-0.818814213251965,-0.6212714868228112,-0.579189612944653,-0.6212706968855533,-0.06487366514871096,-0.8188285834322591,-0.49348793815838565,-0.25587621730386384,-0.11867431364690155,-0.5713998395199679,-0.5713903529328025,-0.07886146731089491,-0.10848875649547557,-0.4934876636862359,-0.26942332047428735,-0.5713903278624469,-0.10495204523247015,-0.5908681864330668,-0.4172699140412416,-0.6138324087424044,-0.6161026744428374,-0.571391169516605,-0.4948413492573061,-0.12013141421538313,-0.571395638365315,-0.10572573924444176,-0.49350938295338964,-0.11398999824674821,-0.6263495273439462,-0.6213455612914088,-0.5714471226817296,-0.2980101553251116,-0.17929945600573385,-0.5777239851301139,-0.571405245126059,-0.49350321965604216,-0.17931231172575882,-0.5716807339370931,-0.5713897333632146,-0.17796562266477636,-0.05142549590621224,0.15401940574508177,-0.2843740338878113,-0.571493065489794,-0.30589587488774655,-0.48165872261206216,-0.4934856734971303,-0.49518697427587155,-0.2558884601308195,-0.06162580945522118,-0.6135328718428458,-0.5713890532905157,-0.5713893563716136,-0.2560087185122169,0.018018856570222497,-0.11868307794079917,-0.5713947376198437,-0.1769919921098662,-0.49488000831544887,-0.1186785129759948,-0.05739786123049156,-0.5723569667066863,-0.19088377381576765,-0.2558841139382326,-0.5759423582912668,-0.2558747485907117,-0.7215971974826044,-0.571403854385478,-0.3823697505795582,-0.17935229128137517,-0.10173732005202094,-0.0968964983965172,-0.3729333190380804,-0.17929604699474044,-0.49481465581627937,-0.25741930173332483,-0.42047135874425196,-0.17932421555439246,-0.5714822737276023,-0.17797401642449234,-0.49349811262310805,-0.25593010000683386,-0.118689837508541,-0.3990128599943076,-0.17797291570408044,-0.5734181525357538,0.006216887656484989,-0.17966783611658912,-0.19077428097635835,-0.18406440842941138,-0.4948295660883824,0.09204879402733684,-0.5713956470913745,-0.49482030903082247,-0.17929352068840806,-0.5891912405335498,-0.177964194259689,-0.5714034810806157,-0.4952977920354014,-0.7223534540385634,-0.493526665062409,-0.49349379468715593,-0.11428836632209982,-0.5800360284836276,-0.4935686195244403,-0.5714081079741475,-0.5714007588560949,-0.10171109628707412,-0.5713918928270382,-0.49368326960079517,-0.5727009633825293,-0.423606594143955,-0.49374973505501374,-0.5714111307446957,-0.5715685918856898,-0.4935731184098309,-0.5714399207247982,-0.11866941738765224,-0.05763552588051396,-0.4172642127238782,-0.1138991545165655,-0.2603334877253479,-0.5715053976466774,-0.26932773429481505,-0.6212612501505139,-0.11420377113199832,-0.11423988066566268,-0.10215406827879299,-0.11867132044476067,-0.11386212933623768,-0.11955404909893161,-0.5714167420030789,-0.25586813782139056],\"y\":[0.8541018189626676,0.8543014662676256,1.6218433439706188,1.2424838364077453,1.5344462476167273,0.7902020319524711,0.7201192040428036,1.8076316601816733,0.8541019023066598,0.8543627036693527,0.8541523446092317,0.8541016169176014,0.8541018065358205,0.15404361932620414,0.9269607436635108,1.8292874131538845,-0.008842953264769693,0.8540857823803089,1.1730875396026128,1.2424873753475332,3.016827562725834,0.7927530281901554,0.789811587008046,0.7840099633493675,1.747782814364296,1.747761903836716,0.5232343734752491,0.8540088395542645,0.8540891567791505,0.8661378520861767,1.1724192119458559,1.2424897877251273,0.29176172185819016,1.7022861759148893,1.2424859849924481,0.8538505240008178,0.8540785383262552,-0.03459393920120552,1.2424902266612445,0.29181373188632065,1.747769268342777,0.8537235229500788,0.4430966612424615,1.799863019813238,0.7901973683227304,0.9269831496958411,0.7840215853678869,1.7477512428053863,0.7838626003551838,0.8541024216123755,1.747754204290983,1.17239071623307,0.8540978023697764,1.2424904091593345,4.7989719788836815,1.8245108283454121,1.0682330589643318,0.7840075754777501,1.7477431888708628,0.7897897849268493,1.8077688517745127,0.8893168425360528,0.7902030094449652,1.235347585197786,0.7902086577406755,1.4620196550262374,0.8540870732048852,0.7839299883648246,1.2423254630431226,0.7557230793146028,0.7901953968673533,0.15512196628840252,1.8292845114871112,1.2425121024260106,0.7901138641023424,0.7899874988058717,1.4578802087197105,1.2424387717064274,1.702541684851641,0.8535575365078767,0.8540842125087541,0.8540989701549678,1.6775785280682391,1.1723796763292735,1.2424742249054799,0.8540800262899148,0.7902021863071531,1.2424887405171694,0.8540936588606696,0.8541026154201683,0.7840800560474077,0.007904855471892827,1.8553514493115795,1.8292829870102945,0.8541155824165206,1.2419398720805281,1.829328577413382,1.677664215217894,1.6816741964347306,1.8291602411531773,1.8532433046117138,1.8065524569723794,1.242484146970585,1.785233904229115,1.2424896779070285,1.8292836568444413,0.8540919141855711,0.8540843843271176,1.8292845114871112,1.2424659362519361,0.7902074787386029,0.8540956416615137,1.02908160089442,0.8540940747837791,0.8538206239274921,1.2424879268784368,0.8540420345766643,0.7836171468436751,0.8540975371306069,0.8541017245033725,1.577137587613962,0.47742522511354973,0.8538921303449348,0.7902029789700037,1.2424880041944903,0.854097891465491,0.8540923155293823,0.7839874761346949,-0.07942850550734193,1.677663872656387,0.8540733308748949,0.7840101102822282,1.242451286277566,1.8617541161778688,1.242486912808222,1.829282286557928,1.242454718039947,1.829274269595037,1.2423202115861172,0.8540947099658306,0.8540897334254255,0.8536629681813684,0.6872318432200569,1.242479275457864,0.7832534853251946,1.8292765860289384,0.8540644873014218,1.7849530884832587,0.7200361657124191,1.7025377006812743,1.8029448793400058,1.4578827837777177,1.4578586169749665,1.795596802409394,1.7477512414343892,0.8358625746437485,1.7477563821807185,1.7628088925181395,1.7956134416786644,1.2424907739926347,0.7840104446767708,1.829259677682472,0.8540886559596718,0.8541016993138911,1.5348716384166115,1.5850303275818902,1.2424809148768678,0.5231340694866182,0.8540953794977928,0.7658554850019269,0.863021324898615,0.7902050495246051,1.4575887437302346,1.772698390960349,0.8540934813795232,1.647156047837385,1.7890988502345386,0.8541020440185826,0.7198633745384148,1.2424422467271958,1.8064616673982954,1.4563735613720021,1.747738832538308,0.8540551807830211,1.3877873369616704,1.5771380355670517,0.8341655203717954,0.854039417290875,1.2424863819633425,1.5770983768407039,0.8539493235183403,0.8541010910014444,1.1723909823028702,1.7025379675045282,0.0598009222249,0.04696052324113698,0.8540963783128094,1.6774075949523217,0.8981772166384409,1.2424797013196704,1.564826365769964,0.7839664795629808,1.6563365305284645,1.4578691697507757,0.8541008489874722,0.8541001090379043,0.7839006401197626,1.8036493624964312,1.829255426141059,0.8540927038997459,1.7830507425902964,1.6472008112617147,1.829254503908246,0.7841597268825908,0.8524294973254671,1.390590930168557,0.7840149006053971,0.8538112404563699,0.7839942384533964,1.8560642990493537,0.8540738062514854,1.7376563668558185,1.5768555839624712,0.7200994819596663,1.7251699371068043,0.8542479879048058,1.577133542820343,1.6472314186466395,0.7765995857013274,0.8359299868957726,1.5771230691945735,0.853664981525642,1.1723821563637942,1.242480468516578,0.7839405141026614,1.829196708896484,0.8201779393707095,1.172356336857602,0.8466339929701995,1.3676627495474687,1.4947419762035834,1.6278617783824287,1.1794642365820498,1.6472220388965875,-0.04963274194075109,0.8540986659750359,1.64723039102938,1.577134779341223,0.8339164746009649,1.1723900374260667,0.8540733740008108,1.564714686591248,1.8542672949815793,1.242311715187528,1.2424863776468922,1.8065344265809296,0.8450243011235236,1.2425893808407233,0.8540154599910896,0.8540864455508016,0.7201123504864397,0.8541057732261669,1.24244941247279,0.8498943876366796,0.7974932179968708,1.2422536510051163,0.8541198672015183,0.8540921959349114,1.2424811377637712,0.8540741138173517,1.8292826986254274,1.0108530721783968,0.7901957207344429,1.8065419746678366,0.7837217645146266,0.8540735675587325,0.5232087492398418,1.747755686230975,1.8069819175707011,1.807023728893982,0.720091279254281,1.829285101736356,2.333526215876837,0.8014553000579396,0.8539981851566657,0.7840100379175361],\"z\":[-0.3594542532684154,-0.3427923965442273,2.3063072585713624,-0.3943590257353347,-0.27885309307058403,-0.3186278660372393,-0.25964041049371883,-0.23990003250979894,-0.35911378732752164,-0.35169377237147886,-0.3579512784798065,-0.3594501863067212,-0.3594344677742168,0.6138140535976849,-0.37030133342279964,-0.33899733434333584,-0.31307028509168167,-0.35751257096540207,-0.31520142580286603,-0.3942537536481111,-0.27879511671816876,-0.04046577614179786,-0.28192438643296763,-0.3002177376781481,-0.27959217899547306,-0.28021420000082325,-0.3517011695543332,-0.3537545729416749,-0.3578556254325832,-0.0014209431316807466,-0.33508202610655263,-0.39462540500025306,-0.21225357182730373,-0.3134940003313682,-0.39453698423893085,-0.33467987248795444,-0.3581311782876922,-0.2989158658784073,-0.39450151021964713,-0.21272204056489083,-0.2799951296092904,-0.35055134539330246,-0.07333155257713446,-0.30310658104152866,-0.31783941805756477,-0.36972310923454593,-0.30019814404398926,-0.28028945943204653,-0.29484943754419385,-0.3594363272226246,-0.2802416767505437,-0.33552656200794834,-0.3591706148563554,-0.39460693948538833,-0.06311626216775391,-0.4138933417368347,-0.3392728125611717,-0.29859929330395235,-0.2797631101222533,-0.3111783228511901,-0.24234356081526978,-0.04886676048263725,-0.31859878877643555,-0.07194121288456583,-0.31866256412307314,-0.2351987596021668,-0.3590463410466415,-0.29846732381310465,-0.3917736526081038,0.853456185423655,-0.31846243050763556,-0.11706389172002891,-0.338680529615222,-0.3924499345409763,-0.31720476326659275,-0.31487107003374726,-0.3565199463039818,-0.39334130384970895,-0.32538489163570045,-0.3353329091502869,-0.3590844069056035,-0.3575233970354757,-0.2199950382691724,-0.32301559196060103,-0.3940805690565915,-0.3582884761454463,-0.318643430480969,-0.3945961082294378,-0.3592737149387208,-0.35943056206354074,-0.29845882920750283,-0.3077331159665043,0.021103577482224918,-0.3376374539264901,-0.35904483558788686,-0.3807496492612969,-0.3369665919672014,-0.2214269283099975,-0.42713782236149406,-0.3367133368688476,-0.2934360117468183,3.7099455750505665,-0.3941885394924536,0.8515900054488595,-0.3945510242390387,-0.3381012725020525,-0.35897207718481433,-0.35912632652026577,-0.338680529615222,-0.3941255698707651,-0.3185061536506431,-0.3589728609902164,-0.3711513946820643,-0.3591202505658379,-0.3547042035701117,-0.3945799993682326,-0.35833018356329077,0.3431417596880377,-0.3593195968662074,-0.35939023093390704,-0.35246865651622744,-0.34693670084630457,-0.3556138169428993,-0.3186198513081726,-0.3944899402420298,-0.35916796454513233,-0.3592948624685883,-0.3001042041558337,-0.36880460891625294,-0.22119474801238825,-0.3401456836403883,-0.2998455920039413,-0.39375511955275805,-0.4339289562313998,-0.39249378474620816,-0.3369268283054486,-0.3936530356489552,-0.331325913167004,-0.38959177063244355,-0.3592381724268347,-0.3592372984273765,-0.35235265518653497,0.2735142954598319,-0.3941318913471899,-0.282734653143871,-0.33871472653415613,-0.3584483711296907,0.8924706901537255,-0.258329586951818,-0.324163033932182,0.5258589779716286,-0.3580558265662758,-0.3565575513446286,-0.4483012044888984,-0.27992669222294836,0.10578681149543023,-0.27999753966328067,-0.2979843006486113,-0.44780623969375466,-0.3944044583170278,-0.3001787106721009,-0.33858076663100917,-0.35887324386832253,-0.35937315808353054,-0.33693014550314915,0.637463654069224,-0.39434515189375297,-0.3466984792165349,-0.3593286864507596,-0.2915459977820163,0.40977237581332737,-0.3169659349976862,-0.3428169337018018,-0.4080241679605824,-0.35927899443254163,-0.40983346597731135,-0.2989425331218369,-0.3591494869404947,-0.08609847028100255,-0.39313715315013703,3.714803376778777,0.20152808275332487,-0.2766677370903157,-0.35660883019573464,-0.2988951748176683,-0.3523545513534611,0.05530489991619834,-0.35828710340832787,-0.39371893564851224,-0.3515186710752838,-0.3458501039895101,-0.35939528462409664,-0.33549849128676806,-0.325666796763797,-0.25205156246003335,-0.30697649847983055,-0.3549399040712809,-0.21298614949336037,-0.35416117858688795,-0.3944215633200461,-0.30041459714974694,-0.2993380207289254,-0.31467357555619246,-0.35765456014101693,-0.3594226397616651,-0.35940433888460116,-0.2937178767781583,-0.323317381898485,-0.3381751172333939,-0.35912071796177286,3.8690858286915866,-0.40850189793831493,-0.338363798692647,-0.3133698519866867,-0.3059624028101395,-0.24521466546487625,-0.2998729382602088,-0.1625068356017161,-0.3001247628983057,-0.3587958243545092,-0.35859443829964294,-0.1827628465168914,-0.3480582992953409,-0.2584581441313875,1.020509945306056,-0.3716303833584202,-0.35246804013230226,-0.4115188029409264,-0.18074551323631555,-0.35039816155150294,-0.3511872728806294,-0.35229276466373804,-0.33507573062999546,-0.39389484168853345,-0.2973691938022231,-0.3374627346431983,-0.37276945682641743,-0.33493675799578254,-0.21879008975997172,-0.3600729968596736,-0.24148367387525568,0.6037493904585843,-0.12551518040481005,-0.4108132199438517,-0.30666919937642206,-0.359124769375287,-0.41126950521884603,-0.3525850478858785,0.5477653772463884,-0.3355528011349931,-0.35860729636829597,-0.29486805406579863,-0.3134865234168031,-0.39145699115342786,-0.3941221840399767,3.727045728444457,0.0759787424021426,-0.3916628499819948,-0.3579919561194661,-0.35881797740982485,-0.25967295577738225,-0.3593366274818045,-0.38574845940498453,-0.2729738214073932,-0.09835230148855822,-0.38149373426965894,-0.358615037008956,-0.3516781084508904,-0.39069028580650517,-0.35705343323780464,-0.33895617242019394,-0.3185442748415377,-0.3171426565318062,3.710337575426893,-0.10737876450954824,-0.3542478427398492,-0.3513266472362663,-0.28039673507310436,3.7202011479551627,3.7214449004737005,-0.2405670336707605,-0.33889206186580484,-0.35743451664328746,2.466319264900646,-0.3574980269583447,-0.3005214875878705],\"type\":\"scatter3d\"},{\"customdata\":[[\"SHA-256\"],[\"Ethash\"],[\"Scrypt\"],[\"CryptoNight-V7\"],[\"Ethash\"],[\"Equihash\"],[\"Multiple\"],[\"Scrypt\"],[\"X11\"],[\"Scrypt\"],[\"Multiple\"],[\"Scrypt\"],[\"SHA-256\"],[\"Scrypt\"],[\"Scrypt\"],[\"Quark\"],[\"Groestl\"],[\"Scrypt\"],[\"Scrypt\"],[\"Scrypt\"],[\"X11\"],[\"Multiple\"],[\"SHA-256\"],[\"Scrypt\"],[\"Scrypt\"],[\"Scrypt\"],[\"Scrypt\"],[\"Scrypt\"],[\"NeoScrypt\"],[\"Scrypt\"],[\"Scrypt\"],[\"Scrypt\"],[\"Scrypt\"],[\"SHA-256\"],[\"Scrypt\"],[\"Scrypt\"],[\"Scrypt\"],[\"Scrypt\"],[\"HybridScryptHash256\"],[\"Scrypt\"],[\"Scrypt\"],[\"SHA-256\"],[\"Scrypt\"],[\"Scrypt\"],[\"Scrypt\"],[\"Scrypt\"],[\"SHA-256\"],[\"SHA-256\"],[\"SHA-256\"],[\"SHA-256\"],[\"SHA-256\"],[\"X11\"],[\"Scrypt\"],[\"Lyra2REv2\"],[\"Scrypt\"],[\"SHA-256\"],[\"CryptoNight\"],[\"CryptoNight\"],[\"Scrypt\"],[\"Scrypt\"],[\"Scrypt\"],[\"Scrypt\"],[\"Scrypt\"],[\"Scrypt\"],[\"Stanford Folding\"],[\"Multiple\"],[\"QuBit\"],[\"Scrypt\"],[\"Scrypt\"],[\"M7 POW\"],[\"Scrypt\"],[\"SHA-256\"],[\"Scrypt\"],[\"X11\"],[\"Lyra2RE\"],[\"SHA-256\"],[\"X11\"],[\"Scrypt\"],[\"Scrypt\"],[\"Ethash\"],[\"Blake2b\"],[\"X11\"],[\"SHA-256\"],[\"Scrypt\"],[\"1GB AES Pattern Search\"],[\"Scrypt\"],[\"SHA-256\"],[\"X11\"],[\"Dagger\"],[\"Scrypt\"],[\"X11GOST\"],[\"Scrypt\"],[\"X11\"],[\"Scrypt\"],[\"X11\"],[\"Equihash\"],[\"CryptoNight\"],[\"SHA-256\"],[\"Multiple\"],[\"Scrypt\"],[\"SHA-256\"],[\"Scrypt\"],[\"Lyra2Z\"],[\"Ethash\"],[\"Equihash\"],[\"Scrypt\"],[\"X11\"],[\"X11\"],[\"CryptoNight\"],[\"Scrypt\"],[\"CryptoNight\"],[\"Lyra2RE\"],[\"X11\"],[\"CryptoNight-V7\"],[\"Scrypt\"],[\"X11\"],[\"Equihash\"],[\"Scrypt\"],[\"Lyra2RE\"],[\"Dagger-Hashimoto\"],[\"Scrypt\"],[\"NIST5\"],[\"Scrypt\"],[\"SHA-256\"],[\"Scrypt\"],[\"CryptoNight-V7\"],[\"Argon2d\"],[\"Blake2b\"],[\"Cloverhash\"],[\"CryptoNight\"],[\"X11\"],[\"Scrypt\"],[\"Scrypt\"],[\"X11\"],[\"X11\"],[\"CryptoNight\"],[\"Time Travel\"],[\"Scrypt\"],[\"Keccak\"],[\"X11\"],[\"SHA-256\"],[\"Scrypt\"],[\"Scrypt\"],[\"Scrypt\"],[\"Scrypt\"],[\"Scrypt\"],[\"Scrypt\"],[\"CryptoNight\"],[\"Equihash\"],[\"X11\"],[\"NeoScrypt\"],[\"Equihash\"],[\"Dagger\"],[\"Scrypt\"],[\"X11\"],[\"NeoScrypt\"],[\"Ethash\"],[\"NeoScrypt\"],[\"Multiple\"],[\"CryptoNight\"],[\"CryptoNight\"],[\"Ethash\"],[\"X11\"],[\"CryptoNight-V7\"],[\"Scrypt\"],[\"BLAKE256\"],[\"X11\"],[\"NeoScrypt\"],[\"NeoScrypt\"],[\"Scrypt\"],[\"X11\"],[\"SHA-256\"],[\"C11\"],[\"CryptoNight\"],[\"SkunkHash\"],[\"CryptoNight\"],[\"Scrypt\"],[\"Dagger\"],[\"Lyra2REv2\"],[\"Scrypt\"],[\"Scrypt\"],[\"X11\"],[\"Ethash\"],[\"CryptoNight\"],[\"Scrypt\"],[\"IMesh\"],[\"Equihash\"],[\"Lyra2Z\"],[\"X11\"],[\"CryptoNight\"],[\"NIST5\"],[\"Lyra2RE\"],[\"Tribus\"],[\"Lyra2Z\"],[\"CryptoNight\"],[\"CryptoNight Heavy\"],[\"CryptoNight\"],[\"Jump Consistent Hash\"],[\"CryptoNight\"],[\"Scrypt\"],[\"X16R\"],[\"HMQ1725\"],[\"X11\"],[\"Scrypt\"],[\"CryptoNight-V7\"],[\"Cryptonight-GPU\"],[\"XEVAN\"],[\"CryptoNight Heavy\"],[\"SHA-256\"],[\"X11\"],[\"X16R\"],[\"Equihash\"],[\"Lyra2Z\"],[\"SHA-256\"],[\"CryptoNight\"],[\"Blake\"],[\"Blake\"],[\"Exosis\"],[\"Scrypt\"],[\"Equihash\"],[\"Equihash\"],[\"QuBit\"],[\"SHA-256\"],[\"X13\"],[\"SHA-256\"],[\"Scrypt\"],[\"NeoScrypt\"],[\"Blake\"],[\"Scrypt\"],[\"SHA-256\"],[\"Scrypt\"],[\"Groestl\"],[\"Scrypt\"],[\"Scrypt\"],[\"Multiple\"],[\"Equihash+Scrypt\"],[\"Ethash\"],[\"CryptoNight\"],[\"Equihash\"]],\"hovertemplate\":\"<b>%{hovertext}</b><br><br>Class=%{marker.color}<br>PC 3=%{x}<br>PC 2=%{y}<br>PC 1=%{z}<br>Algorithm=%{customdata[0]}<extra></extra>\",\"hovertext\":[\"Bitcoin\",\"Ethereum\",\"Litecoin\",\"Monero\",\"Ethereum Classic\",\"ZCash\",\"DigiByte\",\"ProsperCoin\",\"Spreadcoin\",\"Argentum\",\"MyriadCoin\",\"MoonCoin\",\"ZetaCoin\",\"SexCoin\",\"Quatloo\",\"QuarkCoin\",\"Riecoin\",\"Digitalcoin \",\"Catcoin\",\"CannaCoin\",\"CryptCoin\",\"Verge\",\"DevCoin\",\"EarthCoin\",\"E-Gulden\",\"Einsteinium\",\"Emerald\",\"Franko\",\"FeatherCoin\",\"GrandCoin\",\"GlobalCoin\",\"GoldCoin\",\"Infinite Coin\",\"IXcoin\",\"KrugerCoin\",\"LuckyCoin\",\"Litebar \",\"MegaCoin\",\"MediterraneanCoin\",\"MinCoin\",\"NobleCoin\",\"Namecoin\",\"NyanCoin\",\"RonPaulCoin\",\"StableCoin\",\"SmartCoin\",\"SysCoin\",\"TigerCoin\",\"TerraCoin\",\"UnbreakableCoin\",\"Unobtanium\",\"UroCoin\",\"ViaCoin\",\"Vertcoin\",\"WorldCoin\",\"JouleCoin\",\"ByteCoin\",\"DigitalNote \",\"MonaCoin\",\"Gulden\",\"PesetaCoin\",\"Wild Beast Coin\",\"Flo\",\"ArtByte\",\"Folding Coin\",\"Unitus\",\"CypherPunkCoin\",\"OmniCron\",\"GreenCoin\",\"Cryptonite\",\"MasterCoin\",\"SoonCoin\",\"1Credit\",\"MarsCoin \",\"Crypto\",\"Anarchists Prime\",\"BowsCoin\",\"Song Coin\",\"BitZeny\",\"Expanse\",\"Siacoin\",\"MindCoin\",\"I0coin\",\"Revolution VR\",\"HOdlcoin\",\"Gamecredits\",\"CarpeDiemCoin\",\"Adzcoin\",\"SoilCoin\",\"YoCoin\",\"SibCoin\",\"Francs\",\"BolivarCoin\",\"Omni\",\"PizzaCoin\",\"Komodo\",\"Karbo\",\"ZayedCoin\",\"Circuits of Value\",\"DopeCoin\",\"DollarCoin\",\"Shilling\",\"ZCoin\",\"Elementrem\",\"ZClassic\",\"KiloCoin\",\"ArtexCoin\",\"Kurrent\",\"Cannabis Industry Coin\",\"OsmiumCoin\",\"Bikercoins\",\"HexxCoin\",\"PacCoin\",\"Citadel\",\"BeaverCoin\",\"VaultCoin\",\"Zero\",\"Canada eCoin\",\"Zoin\",\"DubaiCoin\",\"EB3coin\",\"Coinonat\",\"BenjiRolls\",\"ILCoin\",\"EquiTrader\",\"Quantum Resistant Ledger\",\"Dynamic\",\"Nano\",\"ChanCoin\",\"Dinastycoin\",\"DigitalPrice\",\"Unify\",\"SocialCoin\",\"ArcticCoin\",\"DAS\",\"LeviarCoin\",\"Bitcore\",\"gCn Coin\",\"SmartCash\",\"Onix\",\"Bitcoin Cash\",\"Sojourn Coin\",\"NewYorkCoin\",\"FrazCoin\",\"Kronecoin\",\"AdCoin\",\"Linx\",\"Sumokoin\",\"BitcoinZ\",\"Elements\",\"VIVO Coin\",\"Bitcoin Gold\",\"Pirl\",\"eBoost\",\"Pura\",\"Innova\",\"Ellaism\",\"GoByte\",\"SHIELD\",\"UltraNote\",\"BitCoal\",\"DaxxCoin\",\"AC3\",\"Lethean\",\"PopularCoin\",\"Photon\",\"Sucre\",\"SparksPay\",\"GunCoin\",\"IrishCoin\",\"Pioneer Coin\",\"UnitedBitcoin\",\"Interzone\",\"TurtleCoin\",\"MUNcoin\",\"Niobio Cash\",\"ShareChain\",\"Travelflex\",\"KREDS\",\"BitFlip\",\"LottoCoin\",\"Crypto Improvement Fund\",\"Callisto Network\",\"BitTube\",\"Poseidon\",\"Aidos Kuneen\",\"Bitrolium\",\"Alpenschillling\",\"FuturoCoin\",\"Monero Classic\",\"Jumpcoin\",\"Infinex\",\"KEYCO\",\"GINcoin\",\"PlatinCoin\",\"Loki\",\"Newton Coin\",\"MassGrid\",\"PluraCoin\",\"Lynx\",\"Motion\",\"PlusOneCoin\",\"Axe\",\"HexCoin\",\"Webchain\",\"Ryo\",\"Urals Coin\",\"Qwertycoin\",\"Project Pai\",\"Azart\",\"Xchange\",\"CrypticCoin\",\"Actinium\",\"Bitcoin SV\",\"FREDEnergy\",\"Universal Molecule\",\"Lithium\",\"Exosis\",\"Block-Logic\",\"Beam\",\"Bithereum\",\"SLICE\",\"BLAST\",\"Bitcoin Rhodium\",\"GlobalToken\",\"SolarCoin\",\"UFO Coin\",\"BlakeCoin\",\"Crypto Escudo\",\"Crown Coin\",\"SmileyCoin\",\"Groestlcoin\",\"Bata\",\"Pakcoin\",\"JoinCoin\",\"Vollar\",\"Reality Clash\",\"Beldex\",\"Horizen\"],\"legendgroup\":\"0\",\"marker\":{\"color\":[0,0,0,0,0,0,0,0,0,0,0,0,0,0,0,0,0,0,0,0,0,0,0,0,0,0,0,0,0,0,0,0,0,0,0,0,0,0,0,0,0,0,0,0,0,0,0,0,0,0,0,0,0,0,0,0,0,0,0,0,0,0,0,0,0,0,0,0,0,0,0,0,0,0,0,0,0,0,0,0,0,0,0,0,0,0,0,0,0,0,0,0,0,0,0,0,0,0,0,0,0,0,0,0,0,0,0,0,0,0,0,0,0,0,0,0,0,0,0,0,0,0,0,0,0,0,0,0,0,0,0,0,0,0,0,0,0,0,0,0,0,0,0,0,0,0,0,0,0,0,0,0,0,0,0,0,0,0,0,0,0,0,0,0,0,0,0,0,0,0,0,0,0,0,0,0,0,0,0,0,0,0,0,0,0,0,0,0,0,0,0,0,0,0,0,0,0,0,0,0,0,0,0,0,0,0,0,0,0,0,0,0,0,0,0,0,0,0,0,0,0,0,0,0,0,0,0,0,0,0,0,0,0,0,0,0,0,0,0],\"coloraxis\":\"coloraxis\",\"symbol\":\"diamond\"},\"mode\":\"markers\",\"name\":\"0\",\"scene\":\"scene\",\"showlegend\":true,\"x\":[0.1493639935214311,0.40506183456975303,-0.00481818173391796,0.3882245066467208,0.40504052739560703,0.3431385613422515,0.3306598421710758,-0.0047920862319203,0.07311196747846452,-0.00479831966264985,0.3358513457722418,-0.0400699727290741,0.14929632789936498,-0.004856801151800354,-0.004799908337803204,0.0716735549074051,0.13011427209803192,-0.004804395100284664,-0.004792600955371429,-0.004790986631601016,0.07311433287346623,0.3294643767038112,0.14078598673947337,-0.010474561136679768,-0.004797455327358436,-0.00489326370205291,-0.004797964739970322,-0.004789548967031946,0.29717369627034185,-0.005232129291504417,-0.00481782919182982,-0.004809520640020891,-0.045235779269019914,0.14936287228086195,-0.00486619841577717,-0.00479680173772432,-0.004788627048494613,-0.004805498285902961,0.4652255983980936,-0.004791088281177191,-0.007005266620714479,0.14936512490331827,-0.00493775581167734,-0.004790432421250866,-0.0048196675906672475,-0.00480189068390731,0.14909094297320527,0.14935252290995124,0.14936028823452993,0.1493641214264698,0.14937218538936825,0.07311733045040363,-0.004798433490635955,0.1461126957503157,-0.004854908368323897,0.14935424701830782,0.33344758753788223,0.41229493474301365,-0.004821950244188032,-0.00508963136689009,-0.0048521598293313735,-0.004788417398387745,-0.004856804192675016,-0.005161008365117676,0.303150557283903,0.3366106371996567,0.1699945514290748,-0.004792016638392734,-0.0073416399890757185,0.3309631734960083,-0.004788388004850328,0.14936593113801172,-0.013241088639826988,0.07310330140769769,0.48929675937492895,0.14936211109007547,0.07311020407639801,-0.004818975224737896,-0.004837892710780899,0.40509474237374726,0.4702661099592012,0.07311066210784474,0.14936290485679357,-0.004881867796343352,0.2715717489574013,-0.00482059175673887,0.13967672226924463,0.07309404545539264,0.3685901149649212,-0.00480380520136864,0.47160638105283625,-0.004792278900909201,0.07311062008978174,-0.004788386652080063,0.07311497296056405,0.24206296418783296,0.4156589718392056,0.14936917112155224,0.3361688901701785,-0.004847918269726087,0.14936807310348102,-0.004794810463898086,0.3896605752800175,0.4050883174409888,0.34313918877205063,-0.005776513046821948,0.07277964549782014,0.07307505125657152,0.41566038800175015,-0.00478867782445102,0.41565704948493026,0.48930609291344906,0.06373937125315492,0.38820971854930914,-0.004789524754829522,0.07301510461504232,0.34313909246523433,-0.004832701796390078,0.4892991715406191,0.4993966240972809,-0.00517835793714069,-0.04693104545506956,-0.004798564521768793,0.14867533435826108,-0.0047995750854979286,0.38819647970385246,0.45425540143293175,0.48192355949944815,0.2556784929375534,0.4148373055204346,0.07309611100903748,-0.004796312233424566,-0.0047968348065463694,0.07310301167023778,0.07311509198773791,0.41565268131821,0.40163403166951894,-0.08097999818910595,0.16636877710489179,0.072973263413121,0.14936396926303389,-0.005753021874058747,-0.05549527683111769,-0.004793389880084929,-0.00480201807398425,-0.00480887526414671,-0.004809254590991509,0.4156513249153145,0.33936572443971297,0.07199399888716565,0.29727459966172076,0.34313507962272405,0.3685684806780538,-0.004832753775256102,0.07302347272244805,0.2972721624560623,0.4050697676390147,0.297273567789492,0.33640227275751233,0.401015947889802,0.4156599202045414,0.40399652136690245,0.07303874617903358,0.38798231552531937,-0.0066531332787106955,0.03095964518506685,0.07311443978717898,0.29727384557594017,0.2971263155931827,-0.004810119078860951,0.07311263914276024,0.14936327630884141,0.08494107165217175,0.30494054635407486,0.427465181772089,0.4155843030359122,-0.00925270014489479,0.3685476499141533,0.1458092144287333,-0.004796199753276436,-0.011617551677332805,0.07299689690322833,0.4044149999486287,0.41554240073549775,-0.004791484122041452,0.44563364537628786,0.34311137595122687,0.38962796674001715,0.07309729442142815,0.415655294475046,-0.04693242281933382,0.48930345481777915,0.4283810855363535,0.3896617830933409,0.41560750646140626,0.30522409966165054,0.3841146018437758,0.47507957257133826,0.4153721897307756,-0.43928807905767026,0.1936828142905839,0.3833531013244828,0.0731140586364653,-0.004790644780592697,0.3880642916670779,0.4033381274078655,0.07139453010889471,0.25299615295278755,0.1484347159690234,0.0731136830147068,0.19367507740266998,0.34094314015432303,0.3896526725235656,0.1493639703533644,0.414258256649209,0.39124354996127153,0.3912458310631323,0.45947803871899273,-0.004811648235628504,0.3431063086261019,0.34313135295327607,0.16998303722676017,0.14934785699066794,-0.0546614307448034,0.1493268417537092,-0.013821226638868665,0.29555488511506706,0.3906023272392153,-0.005156637629048063,0.14936026996197876,-0.01987196584884242,0.13010392150460612,-0.004790362362984413,-0.0048295422117686235,0.33663228596275707,0.45241687484182685,0.4050890842764797,0.41518644569786256,0.343138592019985],\"y\":[-1.2742520727269133,-1.9345248002036606,-1.2103705547450614,-2.1134121868838935,-1.9346146718071522,-2.043968342982664,-1.707134454200553,-1.2103664078241294,-0.8219757906106168,-1.210382644209609,-1.702782274128198,-1.3789570854241706,-1.2742548821844075,-1.2104163809211785,-1.2104004406618254,-0.41723200601064653,-1.137516602528932,-1.2103669728845152,-1.210365811824502,-1.210363393864517,-0.821977438619701,-1.7033257231192585,-1.2757624455657564,-1.2111386947223686,-1.2103601909345074,-1.2104013198355938,-1.2103656009681079,-1.210364019912736,-1.5412885184501135,-1.2106202894568414,-1.2103633267387361,-1.2103741721361108,-1.2129423204653464,-1.2742507744395304,-1.210413910987237,-1.2103604022836698,-1.2103596952474163,-1.2103623322954207,-2.08119340572176,-1.2103615634701066,-1.2159739658695534,-1.2742533827569518,-1.2103700969355682,-1.2103683227758204,-1.2104593779685386,-1.2103715276318148,-1.2744088067161168,-1.2742529789473236,-1.2742592366891425,-1.2742844020233803,-1.2742502401495686,-0.821971091530199,-1.2103601492046574,-1.2285296819179843,-1.210426983762652,-1.2742538778810544,-2.208119382218572,-2.204254715886778,-1.2103777109540732,-1.2109267711005156,-1.2103761483675366,-1.2103606350792306,-1.210367287441835,-1.210473221580751,-2.1411963780770944,-1.7025705716914699,-1.5870113338715994,-1.2103568729585268,-1.212857258362368,-2.1572130688360214,-1.2103595735778483,-1.274254316298208,-1.2507526778292801,-0.8219728469164116,-2.13764296560265,-1.274267761799556,-0.8219742942067423,-1.2104384928081628,-1.210438275054389,-1.934572125728286,-2.0336892092437417,-0.8219720973426442,-1.2742508121592866,-1.2103655384287872,-2.0277942970407286,-1.2103677641733541,-1.2748196259968827,-0.8219899470681191,-2.1301600298272465,-1.2104332102785231,-2.2572769352279947,-1.2103656392882232,-0.82197695768565,-1.2103595734915291,-0.8219819978860904,-1.676026014416116,-2.2027009578489354,-1.2742519240026022,-1.7027136044304494,-1.2103993942344582,-1.2742511447576248,-1.2103681624246427,-2.1279890772334102,-1.934569758442909,-2.0439690694852666,-1.2146695229340088,-0.8218528072327944,-0.8220464975690189,-2.2027085975110343,-1.2103603805953913,-2.20270691360962,-2.1376233431019065,-0.865656726217429,-2.113495970843823,-1.2103597521333096,-0.8223981679498056,-2.043966776195428,-1.2103624690305324,-2.1376213287105803,-2.141977577097689,-1.2120894644096067,-0.6065929422630271,-1.2103668266601892,-1.274806828113762,-1.210385554104066,-2.1134370060316177,-2.0808657793226155,-2.0473730054629926,-2.074102293996142,-2.202834981796342,-0.8220010658817747,-1.2103605746168886,-1.2103903634121602,-0.8219872384161427,-0.8219788084996804,-2.2027176735734275,-2.079052694912315,-1.2312255676230297,-1.245399853125921,-0.8224042643110092,-1.2742520446380503,-1.2149694454148643,-1.151645596763134,-1.2103643528825359,-1.2103892706890953,-1.2103900578344073,-1.2103896186108634,-2.202735132924945,-2.0510426345670694,-0.8216521821472217,-1.541236812560174,-2.0439643114905355,-2.1302038726771557,-1.2103624088440674,-0.8220533188154359,-1.5412438085050424,-1.9346867102399983,-1.5412382358837378,-1.7026892989876392,-2.2321030461593296,-2.2027034195735853,-1.9387457110774136,-0.8221800927869214,-2.1136769143294885,-1.210927262172878,-1.2023007581361427,-0.8219785442145339,-1.5412326667383938,-1.5413231090532769,-1.2103689816347798,-0.8219782046644015,-1.274250787364302,-1.1662854918112653,-2.6199383307443536,-2.0827215279383307,-2.202792313384575,-1.2106444368198046,-2.130149040512807,-1.2287324511884887,-1.210372008202657,-1.212491705611553,-0.822104363202174,-1.9373212145852983,-2.203105969405068,-1.2103671050087297,-2.1899790484021464,-2.043963591702518,-2.128103280412992,-0.8220024361580708,-2.202701281548818,-0.6065764829699751,-2.1376291682726043,-2.0175839617085,-2.1279845304242144,-2.2029631781850942,-2.1527804146786043,-2.2665318875960496,-2.052684414048375,-2.2029088816384252,-0.10546423638305429,-1.2101986601204675,-2.1377046113624503,-0.8219787574119052,-1.210368679743435,-2.114181200507874,-2.16165505587597,-0.49969498537676876,-2.1928417734759353,-1.2743100378603371,-0.8219805042544157,-1.210232204898181,-2.0455601789922784,-2.1280140714043108,-1.2742520459005469,-2.2054807990026184,-2.1715826476497866,-2.17154171276861,-2.207918638701264,-1.2103977558831143,-2.0440628858331036,-2.043965388629453,-1.5870525459448055,-1.2742568422870137,-0.3167061353082174,-1.2742892348633315,-1.2534081428112391,-1.5414125995351926,-2.1746009449825143,-1.2104782824674543,-1.274259215531308,-1.2201661205912167,-1.1375160718733928,-1.2103596767927707,-1.2104108539282703,-1.7025971660939176,-2.016930556874908,-1.9345697095118701,-2.2029121071516586,-2.043968378504492],\"z\":[-0.13482238571469002,-0.12608238147646894,-0.17447895872177197,-0.1352536498861477,-0.12452301299793145,-0.18265436628737722,0.19905230314964192,-0.1756254291204666,-0.21073797325249202,-0.1752417014368419,-0.05444831561540849,2.5488241816523747,-0.1319068342433612,-0.17249624428671964,-0.17504547272263069,-0.22309569767971313,-0.18556223675011088,-0.17509467996758513,-0.17560770004662374,-0.17569419966295727,-0.21082730822642023,0.2227563965335891,0.24310158999520795,0.07308423508394245,-0.1754404966304568,-0.17104460862427304,-0.17537971175140712,-0.17575120337814787,-0.16322530504183455,-0.15496706116952225,-0.17454613275240258,-0.17482348414745413,1.5734597297767143,-0.13478376583672125,-0.17211195005058152,-0.17546693958846812,-0.17582181692336188,-0.17508091924646457,-0.12845211519106506,-0.17570304114928895,-0.04051554542635288,-0.1348613548989172,-0.1693658724748838,-0.1756823927801066,-0.17377526828664222,-0.17516901576170377,-0.1220094666649331,-0.13432504564478134,-0.13461221458111933,-0.13459487443009802,-0.1351861094177551,-0.21100131070020695,-0.1753989433024194,-0.16610312636244562,-0.1725008231134438,-0.13439233926088479,3.879435086117966,0.47783083498553125,-0.17426613823491915,-0.15885563277262224,-0.17298477883811725,-0.17582401453251284,-0.17284991098371164,-0.159070071606878,-0.06645460050079154,-0.0884628474641942,-0.16417813875443626,-0.17569712082987038,-0.04858350949586675,-0.10763259135505693,-0.1758329220457475,-0.13488912475160575,0.47694149062121655,-0.21038837981451813,-0.12593354749321414,-0.13462877466816112,-0.210673304045962,-0.1739554044161161,-0.1731475243990242,-0.12714939843629805,0.3866419646483698,-0.21070873439578225,-0.13478488787826734,-0.17179008348815886,-0.10820951114543757,-0.17439594818016196,0.2837707420775275,-0.2098690984043309,-0.13660548217711832,-0.17464257475150263,-0.1562032275532362,-0.17562272364627501,-0.21067190998692573,-0.17583298055071597,-0.2108218397547492,-0.45782418373976924,0.3226917085649725,-0.13504499882321352,-0.06853041239615935,-0.1729987449161408,-0.13500363207094365,-0.17549621885188718,-0.14760170058546918,-0.12689154580100848,-0.1826759774053807,-0.10249255729459078,-0.19740473315241575,-0.2086488301619924,0.32268616916044907,-0.1758147052754387,0.32281688381499457,-0.12647432624206828,0.5050913837082783,-0.13401709356141694,-0.17578299553682764,-0.20354946234503263,-0.18268838339972399,-0.17391593870291341,-0.1261926885575993,-0.17868942160823492,-0.1466801037771304,-0.17410234897574725,-0.17534521497160263,-0.1013578530436867,-0.1751670134504216,-0.13387555982909854,-0.11891842906537294,-0.013548272570110426,-0.11115081412306481,0.3588153658773925,-0.20987735139062186,-0.17548664276687126,-0.17524960691420952,-0.21027226870066504,-0.21084991735449665,0.3230813334527266,-0.0986994925871159,3.234658225434668,-0.12896702050725084,-0.20171520954714636,-0.1348215501612651,-0.10133628760900959,1.5707067409777558,-0.175584457210582,-0.17503569791827348,-0.17473661696926723,-0.17472355148016688,0.32326519425658723,0.02976090484569888,-0.16523398209797927,-0.16791542481873287,-0.1825344423506363,-0.13536382763779117,-0.17391414834898844,-0.20639270837995072,-0.16776072370718964,-0.1252550049313641,-0.1678610153234474,-0.0786916433269037,1.1611324582801414,0.3226688701655613,-0.05008092177564035,-0.20613262676932467,-0.12298289178065093,-0.09195232212058804,1.1405488356511553,-0.21082391532100483,-0.1679130359394877,-0.16094868041291197,-0.1748352837365632,-0.21074931559705753,-0.134800960410769,-0.1705177178003614,8.067018528356424,-0.10071998453867909,0.3265450307776986,0.01724082110951502,-0.134867665415311,-0.15165636507730573,-0.1754090583950041,0.13174159208814307,-0.20488771493638913,-0.07825272677364811,0.3305983557137276,-0.1756461681221135,-0.11543068051889115,-0.18152538699212287,-0.14538341674401523,-0.20991811270743294,0.3228513899297774,-0.17416202919446222,-0.12631946665997618,-0.07982673577381,-0.14768614801687407,0.3267835463099811,0.6305910920124643,2.1324290082163997,-0.14672516041726497,0.33646108348468784,2.151061911472818,-0.18880178624380864,-0.14949541777944336,-0.21080607005829166,-0.1756707337391053,-0.12285633498064653,-0.11847399196330825,-0.11556592722138298,3.154048230372802,-0.0946423391203709,-0.2107774090117888,-0.18822899343846902,-0.07724405208260444,-0.1470834312862633,-0.13482158771648003,0.40265928283518404,-0.13129046108664366,-0.13168306692451848,-0.13521961666481386,-0.17456248919183112,-0.18059299161029088,-0.1823672215608146,-0.16338846555405095,-0.1340975568214892,-0.09676074165522489,-0.1329649079294739,0.520901537243836,-0.09306473628158297,-0.08210191014752169,-0.15922061672454896,-0.13461158520352307,0.5402413060817384,-0.18512317546244184,-0.17574769855859845,-0.1737024419763582,-0.08919750868456969,-0.11046405600377797,-0.1269247101038812,0.3444320215762258,-0.18265542294762685],\"type\":\"scatter3d\"},{\"customdata\":[[\"VeChainThor Authority\"],[\"Proof-of-BibleHash\"],[\"SHA-256 + Hive\"],[\"Proof-of-Authority\"],[\"ECC 256K1\"],[\"Leased POS\"]],\"hovertemplate\":\"<b>%{hovertext}</b><br><br>Class=%{marker.color}<br>PC 3=%{x}<br>PC 2=%{y}<br>PC 1=%{z}<br>Algorithm=%{customdata[0]}<extra></extra>\",\"hovertext\":[\"Vechain\",\"BiblePay\",\"LitecoinCash\",\"Poa Network\",\"Acute Angle Cloud\",\"Waves\"],\"legendgroup\":\"3\",\"marker\":{\"color\":[3,3,3,3,3,3],\"coloraxis\":\"coloraxis\",\"symbol\":\"square\"},\"mode\":\"markers\",\"name\":\"3\",\"scene\":\"scene\",\"showlegend\":true,\"x\":[6.702887890568586,10.788774471446827,15.400721728006666,16.94659788247108,15.973677240113961,7.372434556363015],\"y\":[2.2535444859866933,3.054958317516004,4.9581841626235965,3.560758541510772,0.361987429958707,3.172205111133132],\"z\":[4.3985282823644045,-0.16268468366909655,-0.32735433330920427,-0.4728105766580033,-0.45426141412918314,-0.3862821861796725],\"type\":\"scatter3d\"},{\"customdata\":[[\"TRC10\"]],\"hovertemplate\":\"<b>%{hovertext}</b><br><br>Class=%{marker.color}<br>PC 3=%{x}<br>PC 2=%{y}<br>PC 1=%{z}<br>Algorithm=%{customdata[0]}<extra></extra>\",\"hovertext\":[\"BitTorrent\"],\"legendgroup\":\"2\",\"marker\":{\"color\":[2],\"coloraxis\":\"coloraxis\",\"symbol\":\"x\"},\"mode\":\"markers\",\"name\":\"2\",\"scene\":\"scene\",\"showlegend\":true,\"x\":[-1.0096544963904692],\"y\":[1.8170544882837816],\"z\":[34.054852642759684],\"type\":\"scatter3d\"}],                        {\"template\":{\"data\":{\"bar\":[{\"error_x\":{\"color\":\"#2a3f5f\"},\"error_y\":{\"color\":\"#2a3f5f\"},\"marker\":{\"line\":{\"color\":\"#E5ECF6\",\"width\":0.5},\"pattern\":{\"fillmode\":\"overlay\",\"size\":10,\"solidity\":0.2}},\"type\":\"bar\"}],\"barpolar\":[{\"marker\":{\"line\":{\"color\":\"#E5ECF6\",\"width\":0.5},\"pattern\":{\"fillmode\":\"overlay\",\"size\":10,\"solidity\":0.2}},\"type\":\"barpolar\"}],\"carpet\":[{\"aaxis\":{\"endlinecolor\":\"#2a3f5f\",\"gridcolor\":\"white\",\"linecolor\":\"white\",\"minorgridcolor\":\"white\",\"startlinecolor\":\"#2a3f5f\"},\"baxis\":{\"endlinecolor\":\"#2a3f5f\",\"gridcolor\":\"white\",\"linecolor\":\"white\",\"minorgridcolor\":\"white\",\"startlinecolor\":\"#2a3f5f\"},\"type\":\"carpet\"}],\"choropleth\":[{\"colorbar\":{\"outlinewidth\":0,\"ticks\":\"\"},\"type\":\"choropleth\"}],\"contour\":[{\"colorbar\":{\"outlinewidth\":0,\"ticks\":\"\"},\"colorscale\":[[0.0,\"#0d0887\"],[0.1111111111111111,\"#46039f\"],[0.2222222222222222,\"#7201a8\"],[0.3333333333333333,\"#9c179e\"],[0.4444444444444444,\"#bd3786\"],[0.5555555555555556,\"#d8576b\"],[0.6666666666666666,\"#ed7953\"],[0.7777777777777778,\"#fb9f3a\"],[0.8888888888888888,\"#fdca26\"],[1.0,\"#f0f921\"]],\"type\":\"contour\"}],\"contourcarpet\":[{\"colorbar\":{\"outlinewidth\":0,\"ticks\":\"\"},\"type\":\"contourcarpet\"}],\"heatmap\":[{\"colorbar\":{\"outlinewidth\":0,\"ticks\":\"\"},\"colorscale\":[[0.0,\"#0d0887\"],[0.1111111111111111,\"#46039f\"],[0.2222222222222222,\"#7201a8\"],[0.3333333333333333,\"#9c179e\"],[0.4444444444444444,\"#bd3786\"],[0.5555555555555556,\"#d8576b\"],[0.6666666666666666,\"#ed7953\"],[0.7777777777777778,\"#fb9f3a\"],[0.8888888888888888,\"#fdca26\"],[1.0,\"#f0f921\"]],\"type\":\"heatmap\"}],\"heatmapgl\":[{\"colorbar\":{\"outlinewidth\":0,\"ticks\":\"\"},\"colorscale\":[[0.0,\"#0d0887\"],[0.1111111111111111,\"#46039f\"],[0.2222222222222222,\"#7201a8\"],[0.3333333333333333,\"#9c179e\"],[0.4444444444444444,\"#bd3786\"],[0.5555555555555556,\"#d8576b\"],[0.6666666666666666,\"#ed7953\"],[0.7777777777777778,\"#fb9f3a\"],[0.8888888888888888,\"#fdca26\"],[1.0,\"#f0f921\"]],\"type\":\"heatmapgl\"}],\"histogram\":[{\"marker\":{\"pattern\":{\"fillmode\":\"overlay\",\"size\":10,\"solidity\":0.2}},\"type\":\"histogram\"}],\"histogram2d\":[{\"colorbar\":{\"outlinewidth\":0,\"ticks\":\"\"},\"colorscale\":[[0.0,\"#0d0887\"],[0.1111111111111111,\"#46039f\"],[0.2222222222222222,\"#7201a8\"],[0.3333333333333333,\"#9c179e\"],[0.4444444444444444,\"#bd3786\"],[0.5555555555555556,\"#d8576b\"],[0.6666666666666666,\"#ed7953\"],[0.7777777777777778,\"#fb9f3a\"],[0.8888888888888888,\"#fdca26\"],[1.0,\"#f0f921\"]],\"type\":\"histogram2d\"}],\"histogram2dcontour\":[{\"colorbar\":{\"outlinewidth\":0,\"ticks\":\"\"},\"colorscale\":[[0.0,\"#0d0887\"],[0.1111111111111111,\"#46039f\"],[0.2222222222222222,\"#7201a8\"],[0.3333333333333333,\"#9c179e\"],[0.4444444444444444,\"#bd3786\"],[0.5555555555555556,\"#d8576b\"],[0.6666666666666666,\"#ed7953\"],[0.7777777777777778,\"#fb9f3a\"],[0.8888888888888888,\"#fdca26\"],[1.0,\"#f0f921\"]],\"type\":\"histogram2dcontour\"}],\"mesh3d\":[{\"colorbar\":{\"outlinewidth\":0,\"ticks\":\"\"},\"type\":\"mesh3d\"}],\"parcoords\":[{\"line\":{\"colorbar\":{\"outlinewidth\":0,\"ticks\":\"\"}},\"type\":\"parcoords\"}],\"pie\":[{\"automargin\":true,\"type\":\"pie\"}],\"scatter\":[{\"marker\":{\"colorbar\":{\"outlinewidth\":0,\"ticks\":\"\"}},\"type\":\"scatter\"}],\"scatter3d\":[{\"line\":{\"colorbar\":{\"outlinewidth\":0,\"ticks\":\"\"}},\"marker\":{\"colorbar\":{\"outlinewidth\":0,\"ticks\":\"\"}},\"type\":\"scatter3d\"}],\"scattercarpet\":[{\"marker\":{\"colorbar\":{\"outlinewidth\":0,\"ticks\":\"\"}},\"type\":\"scattercarpet\"}],\"scattergeo\":[{\"marker\":{\"colorbar\":{\"outlinewidth\":0,\"ticks\":\"\"}},\"type\":\"scattergeo\"}],\"scattergl\":[{\"marker\":{\"colorbar\":{\"outlinewidth\":0,\"ticks\":\"\"}},\"type\":\"scattergl\"}],\"scattermapbox\":[{\"marker\":{\"colorbar\":{\"outlinewidth\":0,\"ticks\":\"\"}},\"type\":\"scattermapbox\"}],\"scatterpolar\":[{\"marker\":{\"colorbar\":{\"outlinewidth\":0,\"ticks\":\"\"}},\"type\":\"scatterpolar\"}],\"scatterpolargl\":[{\"marker\":{\"colorbar\":{\"outlinewidth\":0,\"ticks\":\"\"}},\"type\":\"scatterpolargl\"}],\"scatterternary\":[{\"marker\":{\"colorbar\":{\"outlinewidth\":0,\"ticks\":\"\"}},\"type\":\"scatterternary\"}],\"surface\":[{\"colorbar\":{\"outlinewidth\":0,\"ticks\":\"\"},\"colorscale\":[[0.0,\"#0d0887\"],[0.1111111111111111,\"#46039f\"],[0.2222222222222222,\"#7201a8\"],[0.3333333333333333,\"#9c179e\"],[0.4444444444444444,\"#bd3786\"],[0.5555555555555556,\"#d8576b\"],[0.6666666666666666,\"#ed7953\"],[0.7777777777777778,\"#fb9f3a\"],[0.8888888888888888,\"#fdca26\"],[1.0,\"#f0f921\"]],\"type\":\"surface\"}],\"table\":[{\"cells\":{\"fill\":{\"color\":\"#EBF0F8\"},\"line\":{\"color\":\"white\"}},\"header\":{\"fill\":{\"color\":\"#C8D4E3\"},\"line\":{\"color\":\"white\"}},\"type\":\"table\"}]},\"layout\":{\"annotationdefaults\":{\"arrowcolor\":\"#2a3f5f\",\"arrowhead\":0,\"arrowwidth\":1},\"autotypenumbers\":\"strict\",\"coloraxis\":{\"colorbar\":{\"outlinewidth\":0,\"ticks\":\"\"}},\"colorscale\":{\"diverging\":[[0,\"#8e0152\"],[0.1,\"#c51b7d\"],[0.2,\"#de77ae\"],[0.3,\"#f1b6da\"],[0.4,\"#fde0ef\"],[0.5,\"#f7f7f7\"],[0.6,\"#e6f5d0\"],[0.7,\"#b8e186\"],[0.8,\"#7fbc41\"],[0.9,\"#4d9221\"],[1,\"#276419\"]],\"sequential\":[[0.0,\"#0d0887\"],[0.1111111111111111,\"#46039f\"],[0.2222222222222222,\"#7201a8\"],[0.3333333333333333,\"#9c179e\"],[0.4444444444444444,\"#bd3786\"],[0.5555555555555556,\"#d8576b\"],[0.6666666666666666,\"#ed7953\"],[0.7777777777777778,\"#fb9f3a\"],[0.8888888888888888,\"#fdca26\"],[1.0,\"#f0f921\"]],\"sequentialminus\":[[0.0,\"#0d0887\"],[0.1111111111111111,\"#46039f\"],[0.2222222222222222,\"#7201a8\"],[0.3333333333333333,\"#9c179e\"],[0.4444444444444444,\"#bd3786\"],[0.5555555555555556,\"#d8576b\"],[0.6666666666666666,\"#ed7953\"],[0.7777777777777778,\"#fb9f3a\"],[0.8888888888888888,\"#fdca26\"],[1.0,\"#f0f921\"]]},\"colorway\":[\"#636efa\",\"#EF553B\",\"#00cc96\",\"#ab63fa\",\"#FFA15A\",\"#19d3f3\",\"#FF6692\",\"#B6E880\",\"#FF97FF\",\"#FECB52\"],\"font\":{\"color\":\"#2a3f5f\"},\"geo\":{\"bgcolor\":\"white\",\"lakecolor\":\"white\",\"landcolor\":\"#E5ECF6\",\"showlakes\":true,\"showland\":true,\"subunitcolor\":\"white\"},\"hoverlabel\":{\"align\":\"left\"},\"hovermode\":\"closest\",\"mapbox\":{\"style\":\"light\"},\"paper_bgcolor\":\"white\",\"plot_bgcolor\":\"#E5ECF6\",\"polar\":{\"angularaxis\":{\"gridcolor\":\"white\",\"linecolor\":\"white\",\"ticks\":\"\"},\"bgcolor\":\"#E5ECF6\",\"radialaxis\":{\"gridcolor\":\"white\",\"linecolor\":\"white\",\"ticks\":\"\"}},\"scene\":{\"xaxis\":{\"backgroundcolor\":\"#E5ECF6\",\"gridcolor\":\"white\",\"gridwidth\":2,\"linecolor\":\"white\",\"showbackground\":true,\"ticks\":\"\",\"zerolinecolor\":\"white\"},\"yaxis\":{\"backgroundcolor\":\"#E5ECF6\",\"gridcolor\":\"white\",\"gridwidth\":2,\"linecolor\":\"white\",\"showbackground\":true,\"ticks\":\"\",\"zerolinecolor\":\"white\"},\"zaxis\":{\"backgroundcolor\":\"#E5ECF6\",\"gridcolor\":\"white\",\"gridwidth\":2,\"linecolor\":\"white\",\"showbackground\":true,\"ticks\":\"\",\"zerolinecolor\":\"white\"}},\"shapedefaults\":{\"line\":{\"color\":\"#2a3f5f\"}},\"ternary\":{\"aaxis\":{\"gridcolor\":\"white\",\"linecolor\":\"white\",\"ticks\":\"\"},\"baxis\":{\"gridcolor\":\"white\",\"linecolor\":\"white\",\"ticks\":\"\"},\"bgcolor\":\"#E5ECF6\",\"caxis\":{\"gridcolor\":\"white\",\"linecolor\":\"white\",\"ticks\":\"\"}},\"title\":{\"x\":0.05},\"xaxis\":{\"automargin\":true,\"gridcolor\":\"white\",\"linecolor\":\"white\",\"ticks\":\"\",\"title\":{\"standoff\":15},\"zerolinecolor\":\"white\",\"zerolinewidth\":2},\"yaxis\":{\"automargin\":true,\"gridcolor\":\"white\",\"linecolor\":\"white\",\"ticks\":\"\",\"title\":{\"standoff\":15},\"zerolinecolor\":\"white\",\"zerolinewidth\":2}}},\"scene\":{\"domain\":{\"x\":[0.0,1.0],\"y\":[0.0,1.0]},\"xaxis\":{\"title\":{\"text\":\"PC 3\"}},\"yaxis\":{\"title\":{\"text\":\"PC 2\"}},\"zaxis\":{\"title\":{\"text\":\"PC 1\"}}},\"coloraxis\":{\"colorbar\":{\"title\":{\"text\":\"Class\"}},\"colorscale\":[[0.0,\"#0d0887\"],[0.1111111111111111,\"#46039f\"],[0.2222222222222222,\"#7201a8\"],[0.3333333333333333,\"#9c179e\"],[0.4444444444444444,\"#bd3786\"],[0.5555555555555556,\"#d8576b\"],[0.6666666666666666,\"#ed7953\"],[0.7777777777777778,\"#fb9f3a\"],[0.8888888888888888,\"#fdca26\"],[1.0,\"#f0f921\"]]},\"legend\":{\"title\":{\"text\":\"Class\"},\"tracegroupgap\":0,\"x\":0,\"y\":1},\"margin\":{\"t\":60},\"width\":800},                        {\"responsive\": true}                    ).then(function(){\n",
       "                            \n",
       "var gd = document.getElementById('44715155-c4c1-4968-9cad-b1f804dd4d92');\n",
       "var x = new MutationObserver(function (mutations, observer) {{\n",
       "        var display = window.getComputedStyle(gd).display;\n",
       "        if (!display || display === 'none') {{\n",
       "            console.log([gd, 'removed!']);\n",
       "            Plotly.purge(gd);\n",
       "            observer.disconnect();\n",
       "        }}\n",
       "}});\n",
       "\n",
       "// Listen for the removal of the full notebook cells\n",
       "var notebookContainer = gd.closest('#notebook-container');\n",
       "if (notebookContainer) {{\n",
       "    x.observe(notebookContainer, {childList: true});\n",
       "}}\n",
       "\n",
       "// Listen for the clearing of the current output cell\n",
       "var outputEl = gd.closest('.output');\n",
       "if (outputEl) {{\n",
       "    x.observe(outputEl, {childList: true});\n",
       "}}\n",
       "\n",
       "                        })                };                });            </script>        </div>"
      ]
     },
     "metadata": {},
     "output_type": "display_data"
    }
   ],
   "source": [
    "# Creating a 3D-Scatter with the PCA data and the clusters\n",
    "fig = px.scatter_3d(\n",
    "    clustered_df,\n",
    "    x=\"PC 3\",\n",
    "    y=\"PC 2\",\n",
    "    z=\"PC 1\",\n",
    "    color=\"Class\",\n",
    "    symbol=\"Class\",\n",
    "    width=800,\n",
    "    hover_name=\"CoinName\",\n",
    "    hover_data=[\"Algorithm\"]\n",
    ")\n",
    "fig.update_layout(legend=dict(x=0, y=1))\n",
    "fig.show()\n"
   ]
  },
  {
   "cell_type": "code",
   "execution_count": 38,
   "metadata": {},
   "outputs": [
    {
     "data": {},
     "metadata": {},
     "output_type": "display_data"
    },
    {
     "data": {
      "application/vnd.holoviews_exec.v0+json": "",
      "text/html": [
       "<div id='1238'>\n",
       "\n",
       "\n",
       "\n",
       "\n",
       "\n",
       "  <div class=\"bk-root\" id=\"0793bf10-66c2-4f73-a3cf-e48ecfb9acb1\" data-root-id=\"1238\"></div>\n",
       "</div>\n",
       "<script type=\"application/javascript\">(function(root) {\n",
       "  function embed_document(root) {\n",
       "    var docs_json = {\"e3bf3d14-6071-491e-ac6b-70f12675e9b3\":{\"defs\":[{\"extends\":null,\"module\":null,\"name\":\"ReactiveHTML1\",\"overrides\":[],\"properties\":[]},{\"extends\":null,\"module\":null,\"name\":\"FlexBox1\",\"overrides\":[],\"properties\":[{\"default\":\"flex-start\",\"kind\":null,\"name\":\"align_content\"},{\"default\":\"flex-start\",\"kind\":null,\"name\":\"align_items\"},{\"default\":\"row\",\"kind\":null,\"name\":\"flex_direction\"},{\"default\":\"wrap\",\"kind\":null,\"name\":\"flex_wrap\"},{\"default\":\"flex-start\",\"kind\":null,\"name\":\"justify_content\"}]},{\"extends\":null,\"module\":null,\"name\":\"GridStack1\",\"overrides\":[],\"properties\":[{\"default\":\"warn\",\"kind\":null,\"name\":\"mode\"},{\"default\":null,\"kind\":null,\"name\":\"ncols\"},{\"default\":null,\"kind\":null,\"name\":\"nrows\"},{\"default\":true,\"kind\":null,\"name\":\"allow_resize\"},{\"default\":true,\"kind\":null,\"name\":\"allow_drag\"},{\"default\":[],\"kind\":null,\"name\":\"state\"}]},{\"extends\":null,\"module\":null,\"name\":\"click1\",\"overrides\":[],\"properties\":[{\"default\":\"\",\"kind\":null,\"name\":\"terminal_output\"},{\"default\":\"\",\"kind\":null,\"name\":\"debug_name\"},{\"default\":0,\"kind\":null,\"name\":\"clears\"}]},{\"extends\":null,\"module\":null,\"name\":\"TemplateActions1\",\"overrides\":[],\"properties\":[{\"default\":0,\"kind\":null,\"name\":\"open_modal\"},{\"default\":0,\"kind\":null,\"name\":\"close_modal\"}]},{\"extends\":null,\"module\":null,\"name\":\"MaterialTemplateActions1\",\"overrides\":[],\"properties\":[{\"default\":0,\"kind\":null,\"name\":\"open_modal\"},{\"default\":0,\"kind\":null,\"name\":\"close_modal\"}]}],\"roots\":{\"references\":[{\"attributes\":{\"format\":\"0,0.0[00000]\"},\"id\":\"1272\",\"type\":\"NumberFormatter\"},{\"attributes\":{\"columns\":[{\"id\":\"1244\"},{\"id\":\"1249\"},{\"id\":\"1254\"},{\"id\":\"1259\"},{\"id\":\"1264\"},{\"id\":\"1269\"},{\"id\":\"1274\"},{\"id\":\"1279\"},{\"id\":\"1284\"}],\"height\":300,\"reorderable\":false,\"source\":{\"id\":\"1240\"},\"view\":{\"id\":\"1289\"},\"width\":900},\"id\":\"1287\",\"type\":\"DataTable\"},{\"attributes\":{\"editor\":{\"id\":\"1253\"},\"field\":\"TotalCoinsMined\",\"formatter\":{\"id\":\"1252\"},\"title\":\"TotalCoinsMined\"},\"id\":\"1254\",\"type\":\"TableColumn\"},{\"attributes\":{\"editor\":{\"id\":\"1258\"},\"field\":\"TotalCoinSupply\",\"formatter\":{\"id\":\"1257\"},\"title\":\"TotalCoinSupply\"},\"id\":\"1259\",\"type\":\"TableColumn\"},{\"attributes\":{},\"id\":\"1278\",\"type\":\"StringEditor\"},{\"attributes\":{\"format\":\"0,0.0[00000]\"},\"id\":\"1252\",\"type\":\"NumberFormatter\"},{\"attributes\":{},\"id\":\"1273\",\"type\":\"NumberEditor\"},{\"attributes\":{},\"id\":\"1282\",\"type\":\"NumberFormatter\"},{\"attributes\":{},\"id\":\"1277\",\"type\":\"StringFormatter\"},{\"attributes\":{},\"id\":\"1243\",\"type\":\"StringEditor\"},{\"attributes\":{\"format\":\"0,0.0[00000]\"},\"id\":\"1262\",\"type\":\"NumberFormatter\"},{\"attributes\":{},\"id\":\"1241\",\"type\":\"Selection\"},{\"attributes\":{},\"id\":\"1283\",\"type\":\"IntEditor\"},{\"attributes\":{\"margin\":[5,5,5,5],\"name\":\"HSpacer01981\",\"sizing_mode\":\"stretch_width\"},\"id\":\"1239\",\"type\":\"Spacer\"},{\"attributes\":{\"editor\":{\"id\":\"1278\"},\"field\":\"CoinName\",\"formatter\":{\"id\":\"1277\"},\"title\":\"CoinName\"},\"id\":\"1279\",\"type\":\"TableColumn\"},{\"attributes\":{\"editor\":{\"id\":\"1243\"},\"field\":\"Algorithm\",\"formatter\":{\"id\":\"1242\"},\"title\":\"Algorithm\"},\"id\":\"1244\",\"type\":\"TableColumn\"},{\"attributes\":{\"children\":[{\"id\":\"1239\"},{\"id\":\"1287\"},{\"id\":\"1294\"}],\"margin\":[0,0,0,0],\"name\":\"Row01977\",\"tags\":[\"embedded\"]},\"id\":\"1238\",\"type\":\"Row\"},{\"attributes\":{},\"id\":\"1257\",\"type\":\"StringFormatter\"},{\"attributes\":{\"format\":\"0,0.0[00000]\"},\"id\":\"1267\",\"type\":\"NumberFormatter\"},{\"attributes\":{},\"id\":\"1290\",\"type\":\"UnionRenderers\"},{\"attributes\":{\"margin\":[5,5,5,5],\"name\":\"HSpacer01982\",\"sizing_mode\":\"stretch_width\"},\"id\":\"1294\",\"type\":\"Spacer\"},{\"attributes\":{\"editor\":{\"id\":\"1283\"},\"field\":\"Class\",\"formatter\":{\"id\":\"1282\"},\"title\":\"Class\"},\"id\":\"1284\",\"type\":\"TableColumn\"},{\"attributes\":{\"editor\":{\"id\":\"1268\"},\"field\":\"PC_2\",\"formatter\":{\"id\":\"1267\"},\"title\":\"PC 2\"},\"id\":\"1269\",\"type\":\"TableColumn\"},{\"attributes\":{},\"id\":\"1258\",\"type\":\"StringEditor\"},{\"attributes\":{\"editor\":{\"id\":\"1248\"},\"field\":\"ProofType\",\"formatter\":{\"id\":\"1247\"},\"title\":\"ProofType\"},\"id\":\"1249\",\"type\":\"TableColumn\"},{\"attributes\":{},\"id\":\"1242\",\"type\":\"StringFormatter\"},{\"attributes\":{},\"id\":\"1247\",\"type\":\"StringFormatter\"},{\"attributes\":{\"editor\":{\"id\":\"1263\"},\"field\":\"PC_1\",\"formatter\":{\"id\":\"1262\"},\"title\":\"PC 1\"},\"id\":\"1264\",\"type\":\"TableColumn\"},{\"attributes\":{},\"id\":\"1248\",\"type\":\"StringEditor\"},{\"attributes\":{},\"id\":\"1263\",\"type\":\"NumberEditor\"},{\"attributes\":{\"editor\":{\"id\":\"1273\"},\"field\":\"PC_3\",\"formatter\":{\"id\":\"1272\"},\"title\":\"PC 3\"},\"id\":\"1274\",\"type\":\"TableColumn\"},{\"attributes\":{\"source\":{\"id\":\"1240\"}},\"id\":\"1289\",\"type\":\"CDSView\"},{\"attributes\":{},\"id\":\"1268\",\"type\":\"NumberEditor\"},{\"attributes\":{\"data\":{\"Algorithm\":[\"Scrypt\",\"Scrypt\",\"X13\",\"SHA-256\",\"Ethash\",\"Scrypt\",\"X11\",\"CryptoNight-V7\",\"Ethash\",\"Equihash\",\"SHA-512\",\"Multiple\",\"SHA-256\",\"SHA-256\",\"Scrypt\",\"X15\",\"X11\",\"Scrypt\",\"Scrypt\",\"Scrypt\",\"Multiple\",\"Scrypt\",\"SHA-256\",\"Scrypt\",\"Scrypt\",\"Scrypt\",\"Quark\",\"Groestl\",\"Scrypt\",\"Scrypt\",\"Scrypt\",\"Scrypt\",\"Scrypt\",\"X11\",\"Scrypt\",\"Groestl\",\"Multiple\",\"SHA-256\",\"Scrypt\",\"Scrypt\",\"Scrypt\",\"Scrypt\",\"PoS\",\"Scrypt\",\"Scrypt\",\"NeoScrypt\",\"Scrypt\",\"Scrypt\",\"Scrypt\",\"Scrypt\",\"X11\",\"Scrypt\",\"X11\",\"SHA-256\",\"Scrypt\",\"Scrypt\",\"Scrypt\",\"SHA3\",\"Scrypt\",\"HybridScryptHash256\",\"Scrypt\",\"Scrypt\",\"SHA-256\",\"Scrypt\",\"X13\",\"Scrypt\",\"SHA-256\",\"Scrypt\",\"X13\",\"NeoScrypt\",\"Scrypt\",\"Scrypt\",\"Scrypt\",\"Scrypt\",\"Scrypt\",\"Scrypt\",\"X11\",\"X11\",\"SHA-256\",\"Multiple\",\"SHA-256\",\"PHI1612\",\"X11\",\"SHA-256\",\"SHA-256\",\"SHA-256\",\"X11\",\"Scrypt\",\"Scrypt\",\"Scrypt\",\"Scrypt\",\"Lyra2REv2\",\"Scrypt\",\"X11\",\"Multiple\",\"SHA-256\",\"X13\",\"Scrypt\",\"CryptoNight\",\"CryptoNight\",\"Shabal256\",\"Counterparty\",\"Scrypt\",\"SHA-256\",\"Groestl\",\"Scrypt\",\"Scrypt\",\"Scrypt\",\"X13\",\"Scrypt\",\"Scrypt\",\"Scrypt\",\"Scrypt\",\"X13\",\"Scrypt\",\"Stanford Folding\",\"X11\",\"Multiple\",\"QuBit\",\"Scrypt\",\"Scrypt\",\"Scrypt\",\"M7 POW\",\"Scrypt\",\"SHA-256\",\"Scrypt\",\"X11\",\"SHA3\",\"X11\",\"Lyra2RE\",\"SHA-256\",\"QUAIT\",\"X11\",\"X11\",\"Scrypt\",\"Scrypt\",\"Scrypt\",\"Ethash\",\"X13\",\"Blake2b\",\"SHA-256\",\"X15\",\"X11\",\"SHA-256\",\"BLAKE256\",\"Scrypt\",\"1GB AES Pattern Search\",\"SHA-256\",\"X11\",\"Scrypt\",\"SHA-256\",\"SHA-256\",\"NIST5\",\"Scrypt\",\"Scrypt\",\"X11\",\"Dagger\",\"Scrypt\",\"X11GOST\",\"X11\",\"Scrypt\",\"SHA-256\",\"Scrypt\",\"PoS\",\"Scrypt\",\"X11\",\"X11\",\"SHA-256\",\"SHA-256\",\"NIST5\",\"X11\",\"Scrypt\",\"POS 3.0\",\"Scrypt\",\"Scrypt\",\"Scrypt\",\"X13\",\"X11\",\"X11\",\"Equihash\",\"X11\",\"Scrypt\",\"CryptoNight\",\"SHA-256\",\"SHA-256\",\"X11\",\"Scrypt\",\"Multiple\",\"Scrypt\",\"Scrypt\",\"Scrypt\",\"SHA-256\",\"Scrypt\",\"Scrypt\",\"SHA-256D\",\"PoS\",\"Scrypt\",\"X11\",\"Lyra2Z\",\"PoS\",\"X13\",\"X14\",\"PoS\",\"SHA-256D\",\"Ethash\",\"Equihash\",\"DPoS\",\"X11\",\"Scrypt\",\"X11\",\"X13\",\"X11\",\"PoS\",\"Scrypt\",\"Scrypt\",\"X11\",\"PoS\",\"X11\",\"SHA-256\",\"Scrypt\",\"X11\",\"Scrypt\",\"Scrypt\",\"X11\",\"CryptoNight\",\"Scrypt\",\"Scrypt\",\"Scrypt\",\"Scrypt\",\"Quark\",\"QuBit\",\"Scrypt\",\"CryptoNight\",\"Lyra2RE\",\"Scrypt\",\"SHA-256\",\"X11\",\"Scrypt\",\"X11\",\"Scrypt\",\"CryptoNight-V7\",\"Scrypt\",\"Scrypt\",\"Scrypt\",\"X13\",\"X11\",\"Equihash\",\"Scrypt\",\"Scrypt\",\"Lyra2RE\",\"Scrypt\",\"Dagger-Hashimoto\",\"X11\",\"Blake2S\",\"X11\",\"Scrypt\",\"PoS\",\"X11\",\"NIST5\",\"PoS\",\"X11\",\"Scrypt\",\"Scrypt\",\"Scrypt\",\"SHA-256\",\"X11\",\"Scrypt\",\"Scrypt\",\"SHA-256\",\"PoS\",\"Scrypt\",\"X15\",\"SHA-256\",\"Scrypt\",\"POS 3.0\",\"CryptoNight-V7\",\"536\",\"Argon2d\",\"Blake2b\",\"Cloverhash\",\"CryptoNight\",\"NIST5\",\"X11\",\"NIST5\",\"Skein\",\"Scrypt\",\"X13\",\"Scrypt\",\"X11\",\"X11\",\"Scrypt\",\"CryptoNight\",\"X13\",\"Time Travel\",\"Scrypt\",\"Keccak\",\"SkunkHash v2 Raptor\",\"X11\",\"Skein\",\"SHA-256\",\"X11\",\"Scrypt\",\"VeChainThor Authority\",\"Scrypt\",\"PoS\",\"Scrypt\",\"Scrypt\",\"Scrypt\",\"Scrypt\",\"Scrypt\",\"Scrypt\",\"Scrypt\",\"CryptoNight\",\"SHA-512\",\"Ouroboros\",\"X11\",\"Equihash\",\"NeoScrypt\",\"X11\",\"Scrypt\",\"NeoScrypt\",\"Lyra2REv2\",\"Equihash\",\"Scrypt\",\"SHA-256\",\"NIST5\",\"PHI1612\",\"Dagger\",\"Scrypt\",\"Quark\",\"Scrypt\",\"POS 2.0\",\"Scrypt\",\"SHA-256\",\"X11\",\"NeoScrypt\",\"Ethash\",\"NeoScrypt\",\"X11\",\"DPoS\",\"NIST5\",\"X13\",\"Multiple\",\"Scrypt\",\"CryptoNight\",\"CryptoNight\",\"Ethash\",\"NIST5\",\"Quark\",\"X11\",\"CryptoNight-V7\",\"Scrypt\",\"Scrypt\",\"Scrypt\",\"X11\",\"BLAKE256\",\"X11\",\"NeoScrypt\",\"Quark\",\"NeoScrypt\",\"Scrypt\",\"Scrypt\",\"Scrypt\",\"X11\",\"X11\",\"SHA-256\",\"C11\",\"POS 3.0\",\"Ethash\",\"Scrypt\",\"CryptoNight\",\"SkunkHash\",\"Scrypt\",\"CryptoNight\",\"Scrypt\",\"Dagger\",\"Lyra2REv2\",\"X13\",\"Proof-of-BibleHash\",\"SHA-256 + Hive\",\"Scrypt\",\"Scrypt\",\"X11\",\"C11\",\"Proof-of-Authority\",\"X11\",\"XEVAN\",\"Scrypt\",\"VBFT\",\"Ethash\",\"CryptoNight\",\"Scrypt\",\"IMesh\",\"NIST5\",\"Scrypt\",\"Scrypt\",\"Equihash\",\"Scrypt\",\"Lyra2Z\",\"Green Protocol\",\"PoS\",\"Scrypt\",\"Semux BFT consensus\",\"X11\",\"Quark\",\"PoS\",\"CryptoNight\",\"X16R\",\"Scrypt\",\"NIST5\",\"Lyra2RE\",\"XEVAN\",\"Tribus\",\"Scrypt\",\"Lyra2Z\",\"CryptoNight\",\"CryptoNight Heavy\",\"CryptoNight\",\"Scrypt\",\"Scrypt\",\"Jump Consistent Hash\",\"SHA-256D\",\"CryptoNight\",\"Scrypt\",\"X15\",\"Scrypt\",\"Quark\",\"SHA-256\",\"DPoS\",\"X16R\",\"HMQ1725\",\"X11\",\"X16R\",\"Quark\",\"Quark\",\"Scrypt\",\"Lyra2REv2\",\"Quark\",\"Scrypt\",\"Scrypt\",\"CryptoNight-V7\",\"Cryptonight-GPU\",\"XEVAN\",\"CryptoNight Heavy\",\"X11\",\"X11\",\"Scrypt\",\"PoS\",\"SHA-256\",\"Keccak\",\"X11\",\"X11\",\"Scrypt\",\"SHA-512\",\"X16R\",\"ECC 256K1\",\"Equihash\",\"XEVAN\",\"Lyra2Z\",\"SHA-256\",\"XEVAN\",\"X11\",\"CryptoNight\",\"Quark\",\"Blake\",\"Blake\",\"Equihash\",\"Exosis\",\"Scrypt\",\"Scrypt\",\"Equihash\",\"Quark\",\"Equihash\",\"Quark\",\"Scrypt\",\"QuBit\",\"X11\",\"Scrypt\",\"XEVAN\",\"SHA-256D\",\"X11\",\"SHA-256\",\"X13\",\"SHA-256\",\"X11\",\"DPoS\",\"Scrypt\",\"Scrypt\",\"X11\",\"NeoScrypt\",\"Scrypt\",\"Blake\",\"Scrypt\",\"SHA-256\",\"Scrypt\",\"X11\",\"Scrypt\",\"Scrypt\",\"SHA-256\",\"X11\",\"SHA-256\",\"Scrypt\",\"Scrypt\",\"Scrypt\",\"Groestl\",\"X11\",\"Scrypt\",\"PoS\",\"Scrypt\",\"Scrypt\",\"X11\",\"SHA-256\",\"DPoS\",\"Scrypt\",\"Scrypt\",\"NeoScrypt\",\"Multiple\",\"X13\",\"Equihash+Scrypt\",\"DPoS\",\"Ethash\",\"DPoS\",\"SHA-256\",\"Leased POS\",\"PoS\",\"TRC10\",\"PoS\",\"SHA-256\",\"Scrypt\",\"CryptoNight\",\"Equihash\",\"Scrypt\"],\"Class\":{\"__ndarray__\":\"AQAAAAEAAAABAAAAAAAAAAAAAAAAAAAAAQAAAAAAAAAAAAAAAAAAAAEAAAAAAAAAAQAAAAEAAAAAAAAAAQAAAAAAAAAAAAAAAQAAAAEAAAAAAAAAAAAAAAAAAAAAAAAAAAAAAAEAAAAAAAAAAAAAAAAAAAABAAAAAAAAAAEAAAAAAAAAAAAAAAEAAAABAAAAAAAAAAAAAAAAAAAAAAAAAAAAAAAAAAAAAQAAAAEAAAAAAAAAAAAAAAAAAAAAAAAAAAAAAAEAAAABAAAAAAAAAAEAAAAAAAAAAAAAAAAAAAAAAAAAAQAAAAAAAAAAAAAAAQAAAAAAAAABAAAAAQAAAAEAAAAAAAAAAAAAAAAAAAABAAAAAQAAAAEAAAABAAAAAQAAAAAAAAAAAAAAAAAAAAEAAAABAAAAAAAAAAEAAAAAAAAAAQAAAAEAAAAAAAAAAAAAAAAAAAAAAAAAAQAAAAEAAAAAAAAAAQAAAAAAAAAAAAAAAQAAAAEAAAAAAAAAAQAAAAEAAAAAAAAAAAAAAAEAAAABAAAAAAAAAAEAAAABAAAAAAAAAAEAAAAAAAAAAQAAAAAAAAABAAAAAAAAAAEAAAABAAAAAAAAAAAAAAABAAAAAAAAAAAAAAAAAAAAAQAAAAAAAAAAAAAAAAAAAAAAAAAAAAAAAQAAAAEAAAAAAAAAAAAAAAAAAAABAAAAAAAAAAEAAAAAAAAAAAAAAAEAAAAAAAAAAQAAAAAAAAABAAAAAQAAAAAAAAAAAAAAAQAAAAAAAAAAAAAAAQAAAAEAAAAAAAAAAQAAAAAAAAABAAAAAQAAAAEAAAAAAAAAAAAAAAAAAAAAAAAAAQAAAAEAAAABAAAAAQAAAAEAAAAAAAAAAAAAAAEAAAABAAAAAQAAAAEAAAABAAAAAAAAAAEAAAABAAAAAQAAAAEAAAABAAAAAAAAAAEAAAAAAAAAAQAAAAEAAAAAAAAAAQAAAAAAAAABAAAAAQAAAAAAAAABAAAAAAAAAAEAAAAAAAAAAQAAAAAAAAABAAAAAQAAAAEAAAABAAAAAAAAAAEAAAABAAAAAQAAAAEAAAABAAAAAAAAAAAAAAABAAAAAQAAAAAAAAAAAAAAAQAAAAEAAAABAAAAAQAAAAEAAAAAAAAAAQAAAAEAAAABAAAAAQAAAAEAAAABAAAAAQAAAAEAAAAAAAAAAQAAAAEAAAABAAAAAQAAAAEAAAABAAAAAAAAAAAAAAAAAAAAAQAAAAEAAAABAAAAAQAAAAAAAAABAAAAAAAAAAEAAAABAAAAAAAAAAEAAAAAAAAAAAAAAAEAAAAAAAAAAAAAAAEAAAAAAAAAAQAAAAEAAAABAAAAAAAAAAEAAAABAAAAAAAAAAEAAAABAAAAAQAAAAEAAAABAAAAAQAAAAEAAAAAAAAAAQAAAAAAAAABAAAAAQAAAAEAAAABAAAAAAAAAAEAAAAAAAAAAQAAAAAAAAAAAAAAAAAAAAAAAAABAAAAAAAAAAEAAAABAAAAAAAAAAEAAAAAAAAAAAAAAAAAAAABAAAAAAAAAAEAAAAAAAAAAAAAAAAAAAABAAAAAAAAAAEAAAAAAAAAAQAAAAEAAAADAAAAAAAAAAEAAAAAAAAAAAAAAAAAAAAAAAAAAAAAAAEAAAABAAAAAAAAAAEAAAABAAAAAQAAAAAAAAABAAAAAAAAAAEAAAAAAAAAAQAAAAAAAAABAAAAAQAAAAEAAAABAAAAAAAAAAEAAAABAAAAAAAAAAEAAAABAAAAAQAAAAAAAAAAAAAAAAAAAAAAAAABAAAAAQAAAAEAAAABAAAAAAAAAAEAAAAAAAAAAAAAAAAAAAABAAAAAQAAAAAAAAAAAAAAAQAAAAEAAAAAAAAAAQAAAAAAAAAAAAAAAAAAAAEAAAAAAAAAAAAAAAEAAAABAAAAAQAAAAAAAAAAAAAAAAAAAAEAAAABAAAAAQAAAAAAAAAAAAAAAQAAAAAAAAAAAAAAAAAAAAAAAAABAAAAAwAAAAMAAAAAAAAAAAAAAAAAAAABAAAAAwAAAAEAAAABAAAAAQAAAAEAAAAAAAAAAAAAAAAAAAAAAAAAAQAAAAEAAAABAAAAAAAAAAEAAAAAAAAAAQAAAAEAAAABAAAAAQAAAAAAAAABAAAAAQAAAAAAAAABAAAAAQAAAAAAAAAAAAAAAQAAAAAAAAABAAAAAAAAAAAAAAAAAAAAAAAAAAEAAAABAAAAAAAAAAEAAAAAAAAAAQAAAAEAAAAAAAAAAQAAAAEAAAABAAAAAAAAAAAAAAAAAAAAAQAAAAEAAAABAAAAAQAAAAEAAAABAAAAAAAAAAEAAAAAAAAAAAAAAAAAAAAAAAAAAQAAAAEAAAABAAAAAQAAAAAAAAABAAAAAQAAAAAAAAABAAAAAQAAAAAAAAADAAAAAAAAAAEAAAAAAAAAAAAAAAEAAAABAAAAAAAAAAEAAAAAAAAAAAAAAAEAAAAAAAAAAAAAAAEAAAAAAAAAAQAAAAAAAAABAAAAAQAAAAAAAAABAAAAAQAAAAEAAAABAAAAAQAAAAAAAAAAAAAAAAAAAAEAAAABAAAAAQAAAAAAAAABAAAAAAAAAAEAAAAAAAAAAQAAAAEAAAABAAAAAQAAAAAAAAABAAAAAQAAAAEAAAAAAAAAAQAAAAAAAAABAAAAAAAAAAEAAAABAAAAAQAAAAAAAAAAAAAAAQAAAAEAAAABAAAAAQAAAAEAAAABAAAAAAAAAAEAAAAAAAAAAQAAAAAAAAABAAAAAQAAAAMAAAABAAAAAgAAAAEAAAABAAAAAQAAAAAAAAAAAAAAAQAAAA==\",\"dtype\":\"int32\",\"order\":\"little\",\"shape\":[532]},\"CoinName\":[\"42 Coin\",\"404Coin\",\"EliteCoin\",\"Bitcoin\",\"Ethereum\",\"Litecoin\",\"Dash\",\"Monero\",\"Ethereum Classic\",\"ZCash\",\"Bitshares\",\"DigiByte\",\"BitcoinDark\",\"PayCoin\",\"ProsperCoin\",\"KoboCoin\",\"Spreadcoin\",\"Argentum\",\"Aurora Coin\",\"BlueCoin\",\"MyriadCoin\",\"MoonCoin\",\"ZetaCoin\",\"SexCoin\",\"Quatloo\",\"EnergyCoin\",\"QuarkCoin\",\"Riecoin\",\"Digitalcoin \",\"BitBar\",\"Catcoin\",\"CryptoBullion\",\"CannaCoin\",\"CryptCoin\",\"CasinoCoin\",\"Diamond\",\"Verge\",\"DevCoin\",\"EarthCoin\",\"E-Gulden\",\"Einsteinium\",\"Emerald\",\"Exclusive Coin\",\"FlutterCoin\",\"Franko\",\"FeatherCoin\",\"GrandCoin\",\"GlobalCoin\",\"GoldCoin\",\"HoboNickels\",\"HyperStake\",\"Infinite Coin\",\"IOCoin\",\"IXcoin\",\"KrugerCoin\",\"LuckyCoin\",\"Litebar \",\"MaxCoin\",\"MegaCoin\",\"MediterraneanCoin\",\"MintCoin\",\"MinCoin\",\"MazaCoin\",\"Nautilus Coin\",\"NavCoin\",\"NobleCoin\",\"Namecoin\",\"NyanCoin\",\"OpalCoin\",\"Orbitcoin\",\"PotCoin\",\"PhoenixCoin\",\"Reddcoin\",\"RonPaulCoin\",\"StableCoin\",\"SmartCoin\",\"SuperCoin\",\"SyncCoin\",\"SysCoin\",\"TeslaCoin\",\"TigerCoin\",\"TittieCoin\",\"TorCoin\",\"TerraCoin\",\"UnbreakableCoin\",\"Unobtanium\",\"UroCoin\",\"UnitaryStatus Dollar\",\"UltraCoin\",\"ViaCoin\",\"VeriCoin\",\"Vertcoin\",\"WorldCoin\",\"X11 Coin\",\"Crypti\",\"JouleCoin\",\"StealthCoin\",\"ZCC Coin\",\"ByteCoin\",\"DigitalNote \",\"BurstCoin\",\"StorjCoin\",\"MonaCoin\",\"Neutron\",\"FairCoin\",\"Gulden\",\"RubyCoin\",\"PesetaCoin\",\"Kore\",\"Wild Beast Coin\",\"Dnotes\",\"Flo\",\"8BIT Coin\",\"Sativa Coin\",\"ArtByte\",\"Folding Coin\",\"Ucoin\",\"Unitus\",\"CypherPunkCoin\",\"OmniCron\",\"Vtorrent\",\"GreenCoin\",\"Cryptonite\",\"MasterCoin\",\"SoonCoin\",\"1Credit\",\"IslaCoin\",\"Nexus\",\"MarsCoin \",\"Crypto\",\"Anarchists Prime\",\"Droidz\",\"BowsCoin\",\"Squall Coin\",\"Song Coin\",\"BitZeny\",\"Diggits\",\"Expanse\",\"Paycon\",\"Siacoin\",\"Emercoin\",\"EverGreenCoin\",\"MindCoin\",\"I0coin\",\"Decred\",\"Revolution VR\",\"HOdlcoin\",\"EDRCoin\",\"Hitcoin\",\"Gamecredits\",\"DubaiCoin\",\"CarpeDiemCoin\",\"PWR Coin\",\"BillaryCoin\",\"GPU Coin\",\"Adzcoin\",\"SoilCoin\",\"YoCoin\",\"SibCoin\",\"EuropeCoin\",\"ZeitCoin\",\"SwingCoin\",\"SafeExchangeCoin\",\"Nebuchadnezzar\",\"Francs\",\"BolivarCoin\",\"Ratecoin\",\"Revenu\",\"Clockcoin\",\"VIP Tokens\",\"BitSend\",\"Omni\",\"Let it Ride\",\"PutinCoin\",\"iBankCoin\",\"Frankywillcoin\",\"MudraCoin\",\"PizzaCoin\",\"Lutetium Coin\",\"Komodo\",\"GoldBlocks\",\"CarterCoin\",\"Karbo\",\"BitTokens\",\"ZayedCoin\",\"MustangCoin\",\"ZoneCoin\",\"Circuits of Value\",\"RootCoin\",\"DopeCoin\",\"BitCurrency\",\"DollarCoin\",\"Swiscoin\",\"Shilling\",\"BuzzCoin\",\"Opair\",\"PesoBit\",\"Halloween Coin\",\"ZCoin\",\"CoffeeCoin\",\"RoyalCoin\",\"GanjaCoin V2\",\"TeamUP\",\"LanaCoin\",\"Elementrem\",\"ZClassic\",\"ARK\",\"InsaneCoin\",\"KiloCoin\",\"ArtexCoin\",\"EmberCoin\",\"XenixCoin\",\"FreeCoin\",\"PLNCoin\",\"AquariusCoin\",\"Kurrent\",\"Creatio\",\"Eternity\",\"Eurocoin\",\"BitcoinFast\",\"Stakenet\",\"BitConnect Coin\",\"MoneyCoin\",\"Enigma\",\"Cannabis Industry Coin\",\"Russiacoin\",\"PandaCoin\",\"GameUnits\",\"GAKHcoin\",\"Allsafe\",\"LiteCreed\",\"OsmiumCoin\",\"Bikercoins\",\"HexxCoin\",\"Klingon Empire Darsek\",\"Internet of People\",\"KushCoin\",\"Printerium\",\"PacCoin\",\"Impeach\",\"Citadel\",\"Zilbercoin\",\"FirstCoin\",\"BeaverCoin\",\"FindCoin\",\"VaultCoin\",\"Zero\",\"OpenChat\",\"Canada eCoin\",\"Zoin\",\"RenosCoin\",\"DubaiCoin\",\"VirtacoinPlus\",\"TajCoin\",\"Impact\",\"EB3coin\",\"Atmos\",\"HappyCoin\",\"Coinonat\",\"MacronCoin\",\"Condensate\",\"Independent Money System\",\"ArgusCoin\",\"LomoCoin\",\"ProCurrency\",\"GoldReserve\",\"BenjiRolls\",\"GrowthCoin\",\"ILCoin\",\"Phreak\",\"Degas Coin\",\"HTML5 Coin\",\"Ultimate Secure Cash\",\"EquiTrader\",\"QTUM\",\"Quantum Resistant Ledger\",\"Espers\",\"Dynamic\",\"Nano\",\"ChanCoin\",\"Dinastycoin\",\"Denarius\",\"DigitalPrice\",\"Virta Unique Coin\",\"Bitcoin Planet\",\"Unify\",\"BritCoin\",\"SocialCoin\",\"ArcticCoin\",\"DAS\",\"Linda\",\"LeviarCoin\",\"DeepOnion\",\"Bitcore\",\"gCn Coin\",\"SmartCash\",\"Signatum\",\"Onix\",\"Cream\",\"Bitcoin Cash\",\"Monoeci\",\"Draftcoin\",\"Vechain\",\"Sojourn Coin\",\"Stakecoin\",\"NewYorkCoin\",\"FrazCoin\",\"Kronecoin\",\"AdCoin\",\"Linx\",\"CoinonatX\",\"Ethereum Dark\",\"Sumokoin\",\"Obsidian\",\"Cardano\",\"Regalcoin\",\"BitcoinZ\",\"TrezarCoin\",\"Elements\",\"TerraNovaCoin\",\"VIVO Coin\",\"Rupee\",\"Bitcoin Gold\",\"WomenCoin\",\"Theresa May Coin\",\"NamoCoin\",\"LUXCoin\",\"Pirl\",\"Xios\",\"Bitcloud 2.0\",\"eBoost\",\"KekCoin\",\"BlackholeCoin\",\"Infinity Economics\",\"Pura\",\"Innova\",\"Ellaism\",\"GoByte\",\"Magnet\",\"Lamden Tau\",\"Electra\",\"Bitcoin Diamond\",\"SHIELD\",\"Cash & Back Coin\",\"UltraNote\",\"BitCoal\",\"DaxxCoin\",\"Bulwark\",\"Kalkulus\",\"AC3\",\"Lethean\",\"GermanCoin\",\"LiteCoin Ultra\",\"PopularCoin\",\"PhantomX\",\"Photon\",\"Sucre\",\"SparksPay\",\"Digiwage\",\"GunCoin\",\"IrishCoin\",\"Trollcoin\",\"Litecoin Plus\",\"Monkey Project\",\"Pioneer Coin\",\"UnitedBitcoin\",\"Interzone\",\"TokenPay\",\"1717 Masonic Commemorative Token\",\"My Big Coin\",\"TurtleCoin\",\"MUNcoin\",\"Unified Society USDEX\",\"Niobio Cash\",\"ShareChain\",\"Travelflex\",\"KREDS\",\"Tokyo Coin\",\"BiblePay\",\"LitecoinCash\",\"BitFlip\",\"LottoCoin\",\"Crypto Improvement Fund\",\"Stipend\",\"Poa Network\",\"Pushi\",\"Ellerium\",\"Velox\",\"Ontology\",\"Callisto Network\",\"BitTube\",\"Poseidon\",\"Aidos Kuneen\",\"Bitspace\",\"Briacoin\",\"Ignition\",\"Bitrolium\",\"MedicCoin\",\"Alpenschillling\",\"Bitcoin Green\",\"Deviant Coin\",\"Abjcoin\",\"Semux\",\"FuturoCoin\",\"Carebit\",\"Zealium\",\"Monero Classic\",\"Proton\",\"iDealCash\",\"Jumpcoin\",\"Infinex\",\"Bitcoin Incognito\",\"KEYCO\",\"HollyWoodCoin\",\"GINcoin\",\"PlatinCoin\",\"Loki\",\"Newton Coin\",\"Swisscoin\",\"Xt3ch\",\"MassGrid\",\"TheVig\",\"PluraCoin\",\"EmaratCoin\",\"Dekado\",\"Lynx\",\"Poseidon Quark\",\"BitcoinWSpectrum\",\"Muse\",\"Motion\",\"PlusOneCoin\",\"Axe\",\"Trivechain\",\"Dystem\",\"Giant\",\"Peony Coin\",\"Absolute Coin\",\"Vitae\",\"HexCoin\",\"TPCash\",\"Webchain\",\"Ryo\",\"Urals Coin\",\"Qwertycoin\",\"ARENON\",\"EUNO\",\"MMOCoin\",\"Ketan\",\"Project Pai\",\"XDNA\",\"PAXEX\",\"Azart\",\"ThunderStake\",\"Kcash\",\"Xchange\",\"Acute Angle Cloud\",\"CrypticCoin\",\"Bettex coin\",\"Actinium\",\"Bitcoin SV\",\"BitMoney\",\"Junson Ming Chan Coin\",\"FREDEnergy\",\"HerbCoin\",\"Universal Molecule\",\"Lithium\",\"PirateCash\",\"Exosis\",\"Block-Logic\",\"Oduwa\",\"Beam\",\"Galilel\",\"Bithereum\",\"Crypto Sports\",\"Credit\",\"SLICE\",\"Dash Platinum\",\"Nasdacoin\",\"Beetle Coin\",\"Titan Coin\",\"Award\",\"BLAST\",\"Bitcoin Rhodium\",\"GlobalToken\",\"Insane Coin\",\"ALAX\",\"LiteDoge\",\"SolarCoin\",\"TruckCoin\",\"UFO Coin\",\"OrangeCoin\",\"BlakeCoin\",\"BitstarCoin\",\"NeosCoin\",\"HyperCoin\",\"PinkCoin\",\"Crypto Escudo\",\"AudioCoin\",\"IncaKoin\",\"Piggy Coin\",\"Crown Coin\",\"Genstake\",\"SmileyCoin\",\"XiaoMiCoin\",\"Groestlcoin\",\"CapriCoin\",\" ClubCoin\",\"Radium\",\"Bata\",\"Pakcoin\",\"Creditbit \",\"OKCash\",\"Lisk\",\"HiCoin\",\"WhiteCoin\",\"FriendshipCoin\",\"JoinCoin\",\"Triangles Coin\",\"Vollar\",\"EOS\",\"Reality Clash\",\"Oxycoin\",\"TigerCash\",\"Waves\",\"Particl\",\"BitTorrent\",\"Nxt\",\"ZEPHYR\",\"Gapcoin\",\"Beldex\",\"Horizen\",\"BitcoinPlus\"],\"PC_1\":{\"__ndarray__\":\"XoqMaUwB178VZR6FT/DVvzm7UDhRcwJAuua0JNxBwb+SiIWsdyPAvyNrxpZTVca/lZqaoy092b9Se3bZ/U/Bv3jtbHy94L+/kYPW4Ddhx79CGsikutjRv/NPHL6Lesk/fVkOImZk1L8rmPLP8p3QvyeNNeHkesa/oy74VAu1zr8FiJI/dvnKv2eHSPBRbsa/aFIHZbj71r8xtqKYJoLWvxvrx02m4Ku/eJu77v1jBEA62Zi5UuLAvwV48l9bFMa/HwpU2uNnxr9Fdah6rOjWv2fStFpmjsy/WW8b3YDAx7/lCRWigGnGv1Sfrlo7Ade/pCFQKFB6xr+tTglt+QDXvx8c08Qlfca/99T3pGP8yr8338BeXaTjP9nULV0Es9e/0xQLF0iDzD9NSFHx8x3PP8/oif+ltbI/4P21jdV0xr9DZBksyuTFv3FWLafXcsa/O+Qb4CGy1b/iXPTyVwnUv/jyXvMDf8a/DWSEGZHkxL8KFdft9dXDv8tM6BWHV8a/Mjh+rZ1gxr9TIw1ofOHWv9J03plCLNS/fGwPHOQs+T+ym48YdDvZv9B0Ji2YQMG/g+hbrsMHxr8T5Ydfs3XGv0H4zUxUgca/y7IlecfX0b9umSgzDWnGv8V/7HAeccC/WMZFIu63pL/Fn8Xvb33Gv2Mq65QMC9K/pG5AdcQ2078WMECY1uTRv2fsKx10vqS/Hn5kCiNDwb/tR6vpx63Fv7U2OIoH79G/G9pMn0WC1r+AE2Y46qPWv2YL+0cb59a/TkDsEd5HV79qnry5wnzGv0+HEptEPsa/DQn8NPBrxr9Vuebh+3HVv9tlKeqKQdm/m9cgLQM8v7/vjboCICvLv1H9CSeQMcG/kJa6I0kQ1L9hmBcNGEDZvzJPohn5OsG/wXjxo2c6wb9oT2lHx03Bv1Jtb0gXAsu/E8a9IGVr1b/9G5sIn+vWvxZRnvp4c8a/kQINA3Ah079Eur4D3kLFv8sU58iBFMa/c2wnQ4M/2b/vqq7PeTrLvxCu+qbEM8G/CIQtsXDr0b88HQLpbm/WvyKnLkMVCQ9AbiBSyMeU3j8rbRVM28Wyv7alMSUZZtO/6nRCUlpOxr9g9nske1fUv0k4rx2Lqde/L5vFoWFVxL8CSb9GcjbTv4Ri6H9dJMa/aiVrM0Pw0b+MYCK8ZoHGv3/D3yzQ3tK/mVFlJfIfxr//l5o5AQHXv56qJ8l679G/L3apeWhcxL8/1NEvKwOxv2/csGZEedW/YA7FTICltr/mj1UMygPFv4qa+0U+fca/KIEfv6b81r8OvtEQ8N+ovzSM2jvPjbu/r5DfdLGBxr+AdbL9C0TBvx+2FJo1ht4/O1L3dj1B2b8xNNspYyiwvxKCYaUB7sq/X+/5KZcewL9ncCYEhDvBv8itsn86fdq/DUOCw1f3yr+k0ZdQpbbVv4P/drIrRMa/iq1WtbIpxr8VWdY1QBzTv3W3/nVuRsC/fIwmiKPn0b+LQlvwvb7YP++t93tY6tO/wYMMIh0Fz79OEJv5gPjKv9dRt5ahQMG/Dc9EZBAFqb+V6y2rN/3Fv4NdfFees7u/msKVLOxj1L+D45JEvWqyv+6N/j6bUsa//I7Xqvdk1L9oNzLCTCnSP4qJRjL+Gs6/a80igZ361r9d7KywFhrTv7U2C5n93Mq/KNgz10l8wb8aAoYZsFrGvzt276R3/sO/qrhYzNES2b8T1Z5Yg0/rP+g8Aj+wYdS/5eF6Mub3vb9QUZ8Z8azVv55iPy/Oesa/qzPKEUz3yr/y7opU5h3Zv1ZjFzUVTdS/FhgQ/dgm1L9n028JOdHWv/nUDAGBLNm/AQOD8rGBxr+HBQwnG9PUv2KshCkYdtW/nnAKKj371r/JnnTQqeHWv5f9UiPMKMy/17yDxTX8yr88aOSWSazUv6m7Hs79TN2/ipMFtZ042b/7A+XJMu7Wv9uFvh/7ptQ/khBAaqdk1L9Mj7eOJ0nBvyBb/ggQQdm/01n+LVf+1r+b3AWINYuxv0i7TwvpANe/uvnUp9Ikxr/hg6kP8xnTv2v/SozMR8G/Wjo+Peax07+RL0X8qHbGvyKDdRwtnJU//zahH9qb1b9xc6kwl/rWv3+b4sYzXti/FJ5szpzkwr9J/xVT3JDVv1LIxbO3V8y/d1h74DlW27+Jo34YtozVv971etanx9K/AFetb/s9wL/tR1wq7WHHv7xBFvL3rQ1AeP9kkWI62b+E5qnF8zy6v76Me+yORMm/JRvgrjlA6z85cG3wUkDZv5l3CIVzo9W/2+brBGb51r/QYOL87PvWvzd88j4Btcq/UFGfGfGs1b/oL0d0WjnZv9lFYKJnYtS/rrCGTmn51r9jjYHH8cDXvwu+4IDT+9a/PpeFQnmz1r/8TTx4zEDZvw2a2uPjptQ/l7zkuOHu1r/7IPDaCPbVP4KLVp8X/9a/sTsX4j8A179Viyay2I7Wv1qw+v01NNa/ei2opBiBxr8JQKUlCKnUPwolf4tPMMC/hKFxdGDC1r8kZk6ERGTUv1sx/LtSP9m/toBfoZv81r8Vl9BntSngPxAZ++Cv/ta/0sL53Hgnwb9Qc49D6DTTvzkzeqV+mte/9ASDpA6Axr80TWEIHFDMv0718aXoDcq/WswHPFVix78dG8dm8sTVvze3faLgQsa/qrIs/xQnwL+PbeCQqzDTv0Jp+YJL38a/iSVHrEgz2b8iSPP0fcXbvwuRV0CeHtm/MSxZ5GnGwr/W4S2LNZDVvy1WhYCcMdm/e/mAW/xIxr/Sp1eacTTVv5INalIS79i/exODGsL91r8y7w9wvv3Wv+/VqybyjNa/60J/GkKB0T9FZen3dDnZv2kU6EW2cca/n7ksFlMY0r/P8QOYlvK5v3TRSIiArdW/kZ3Tb9Hw1r9fKVuxHo/sPxcG49F4iNC/S8QNad9rxr8h5VNPFr/Uv8aOmZfVIsG/sUYWNdbT4D+lO7orcHG+v53r2Fwyv4u/HxSVN2F0vL8kuW+51PbWP0ukT/xi6ta/umgy1ELdyr93sIrD1tHWv+1hAon3sNy/JsbIp1h2xr9XABilUerRv1+sKkGUbsa/P5ypojPqyr9YcLNNIf3Kv8iSuC/YFLs/eilIVF2t1D+6HPTMeuvRvwMgy7ReRLm/mNXffZTgCUCQrKvH/YHAvz92gL4sEtO/Dy4O0s3Ryb+Ce5uA26jcv1GMXiLVQcG/E5F3Muw92b8WslLEIDbTvwolTcwXmBFAUMItySzxub/XBu+pTqvVvwOzQWSdIfk/3+KzLo15xr+5gxjbkWfGv6j5pfvEXca/imG5YVddxr9qunR7x/fWvyrbQUb4/9a/pRhRf2Cw1D82Pv50Q5DVvxC2Uy0aZuQ/jhGucvM82b+R7AuEpHmeP4G1c9FOMNa/1TqmGmMmxb+LhTS/Pf/Wv1+SC61AfsW/gDhwi7Co0r/3ECXiSV3Hv6AJO+q1Odo/QrYwfStJ1L9K6bBvtvDVv26SV2YRHdq/QwJiFppTwb/kj85Sbf7Wv8lySyW2Otq/jDy8ndFCxr9jEcnc3yHTv/M2MiFO/Na/TbAXoowKtr/s90+GE2vKvwAW8PIuecW/aJbrIlsIwL83NYtBeHzFvxvV57soKdm/hK4y1eq3DUCjV1MWrMvJP6FRqpjstNG/eLuOsiIltL+s88nXrdLWv1ky6qD/k/I/QxgzVZum1D8bHVziNKSpv6mKMToZIdO/RzuqGvqM1r8BcU7NjWLKv9lXKorOe7+/LbLlgOxQrD/f6O0HLe7Wv0KXTPgvire/UEgb6LAy2b8szckisD/yP5Nawi5H/Mq/bFH3oix+xb8Q6QwrSH/Wv5uZWmP3mcS/CO/qqABhxr9UAH15aCLWv8wDcxRVANe/0cb7qc541b87ZhJl1fnKv6KBN2ooQcG/eKmrSobTxb/tll+MudfUv5b6auCcIdC/QiJnwYCl07+mCKdAUCIgQFSype/IyLm/kQQC3FW31r9KI/cgHebUP05FSeuTp5E/m5Ef+ldDwb+wXh7MeWnDv/SXSVEhQ8u/sp31CdrSxL8mFfGWX/PUv/BFndTNc8a/aFHFkujcwD/UgYC5wjnKv7HI4qWTqta/1Lz8SodC3r+g/tLwMz7Zv4jyfyX+OdO/CbpeqFoo07+IePuinCPUv+7NUOZeCLS/qbd5AYYo1T/vR+DZknvGvw+eyHXdjL2/KorE88/j1r9M+c3QxwDXv/UwYw57ANe/TTBDUDk8x7/c0MAQRszSv6TsJX7sm8K/lt5eYzux1L86qDU/qaTVvwWPvXbV+9a/7C1dRePzDkDGTnXCmN7Kv37v/yTlJNq/ekFiosCn1b/B203gmKnUP5dzdWxADtS/FwJ4VOOU07/sL8z98ErGv6SNE308K8C/rOpVtDFjz7/ctH5jhm+0vxAdskMeMdO/EADnM2Hnwr/gbBGJBerUP3H1ql7NLeQ/M6aa8DYPAUC5lSQkBs3Ev/CMV34+NdO/dgq/2uPHwr+G0OLCgvbWv6ZhfBGUiNU/sZBBFjbz1r+aYVvgxWTHv3WTi/JfNQFAp8okUZZG1r9rdxsHlIrQv+9QhTwCVPA/JfmrLKgqyL9O3SF1qiLDv0htWXyx+8q/31uuzcrI17+WOFAc1o7Wv5OAFPZSVtq/vtUfQqsix79+TRxp7GzWv33M8i7aeda/Qgsj7GB8xr+SSLbz9ovWvwkq2USDc7+/o7LowE9Uvr8koPKFupW9v7Kpe6N9OwlAAU4veuFx1b/fYce1kjXZv9P6jcwYCNO/IlI6TP2Y1b9oxFb3ejq4v+8YgWx029e/YX10lZpv1b/VejgPwfrKvzCfGkxQAcy/L9drnG8L17+lFX094xfIv19AYXeeEt2/yVuBJUTGs7+f9Ofg7+jOvys4lD+h08K/8b4Ec9VBwb9Z/N896lHjP9m+fqXhEMC/uE7NcCvF2T9RFxuIw0ravyhrUjYgzsC/TFvwoP3awL97yIDZd6DTvygwrVvgTsG/Z/gXSxBYxr8noOl05vvWvykvbdCrHce/bXOwVD1S2r+rqDsiz1fHv8yebuDAkNa/XPCkQUuH4T8olAzK6enEv+QuvXSyedW/W5CABGzz1r/IQTZCHt/Sv0v2c8cpENS/pdmyn6EN2b9FyoLWGyrBvzom8txPxbi/mE+Jff4Ewb9UG8VATDnZv2zs0ln90A1ABfTOxVdzsz+1v1yzOavgP8nF7g4BEdm/6YG9LhfTt7866PAXV+nWvwrSBXuhBLW/yUqMrd/21r94DC5Re57Qv6aD0g1f/9a/XR1oThqw2L9aJ9dWV2HEvzH45jBneNG/WDNhzp0tub9cSxSyZGrYvxJRDtLzOsG/u6rze4zz1r92OLIiqEnhP3wBoeXkgda/wOIrwB2yx79l2BnUEQHZv7WTq6T22da/zJzUOnWx1b9yBtSM5n7Gv8ALw7HhO8a/qG+xhgdj1L9uH362EEzUv6SgfHfFrg1AG3jauSx9u7/Mwc8k/6vWvzr1BcMifNa/ylWv3qXVtr+C08IlBfLRvwF061NfR7y/mRLI0fjCDUBdqHmjET/Av0M0a+eExQ1AdEoOi+bKzr8n0irr2LjYv+ebpVRosNW/QmBRaQUHQUB7ctwFNeDWv7zxQZgFuwNAY+uKZz/h1r8VXRebLAvWPyWh/71AYce/49k7er47078=\",\"dtype\":\"float64\",\"order\":\"little\",\"shape\":[532]},\"PC_2\":{\"__ndarray__\":\"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\",\"dtype\":\"float64\",\"order\":\"little\",\"shape\":[532]},\"PC_3\":{\"__ndarray__\":\"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\",\"dtype\":\"float64\",\"order\":\"little\",\"shape\":[532]},\"ProofType\":[\"PoW/PoS\",\"PoW/PoS\",\"PoW/PoS\",\"PoW\",\"PoW\",\"PoW\",\"PoW/PoS\",\"PoW\",\"PoW\",\"PoW\",\"PoS\",\"PoW\",\"PoW/PoS\",\"PoS\",\"PoW\",\"PoW/PoS\",\"PoW\",\"PoW\",\"PoW/PoS\",\"PoW/PoS\",\"PoW\",\"PoW\",\"PoW\",\"PoW\",\"PoW\",\"PoW/PoS\",\"PoW\",\"PoW\",\"PoW\",\"PoW/PoS\",\"PoW\",\"PoW/PoS\",\"PoW\",\"PoW\",\"PoC\",\"PoW/PoS\",\"PoW\",\"PoW\",\"PoW\",\"PoW\",\"PoW\",\"PoW\",\"PoS\",\"PoS/PoW/PoT\",\"PoW\",\"PoW\",\"PoW\",\"PoW\",\"PoW\",\"PoW/PoS\",\"PoS\",\"PoW\",\"PoW/PoS\",\"PoW\",\"PoW\",\"PoW\",\"PoW\",\"PoW/PoS\",\"PoW\",\"PoW\",\"PoS\",\"PoW\",\"PoW/PoS\",\"PoS\",\"PoW/PoS\",\"PoW\",\"PoW\",\"PoW\",\"PoW/PoS\",\"PoW/PoS\",\"PoW/PoS\",\"PoW/PoS\",\"PoW/PoS\",\"PoW\",\"PoW\",\"PoW\",\"PoS\",\"PoW/PoS\",\"PoW\",\"PoS\",\"PoW\",\"PoS\",\"PoW/PoS\",\"PoW\",\"PoW\",\"PoW\",\"PoW\",\"PoW/PoS\",\"PoW/PoS\",\"PoW\",\"PoST\",\"PoW\",\"PoW\",\"PoW/PoS\",\"PoS\",\"PoW\",\"PoW/PoS\",\"PoW/PoS\",\"PoW\",\"PoW\",\"PoC\",\"PoS\",\"PoW\",\"PoW/PoS\",\"PoW/PoS\",\"PoW\",\"PoS\",\"PoW\",\"PoW/PoS\",\"PoW\",\"PoS\",\"PoW\",\"PoW/PoS\",\"PoW/PoS\",\"PoW\",\"PoW\",\"PoS\",\"PoW\",\"PoW\",\"PoW\",\"PoW/PoS\",\"PoW\",\"PoW\",\"PoW\",\"PoW\",\"PoW\",\"PoW/PoS\",\"PoW/nPoS\",\"PoW\",\"PoW\",\"PoW\",\"PoW/PoS\",\"PoW\",\"PoS/PoW\",\"PoW\",\"PoW\",\"PoS\",\"PoW\",\"PoW/PoS\",\"PoW\",\"PoW/PoS\",\"PoW/PoS\",\"PoW\",\"PoW\",\"PoW/PoS\",\"PoW\",\"PoW\",\"PoW/PoS\",\"PoW/PoS\",\"PoW\",\"PoW/PoS\",\"PoW\",\"PoW/PoS\",\"PoW/PoS\",\"PoS\",\"PoW\",\"PoW\",\"PoW\",\"PoW\",\"PoW/PoS\",\"PoS\",\"PoW/PoS\",\"PoC\",\"PoS\",\"PoW\",\"PoW\",\"PoW/PoS\",\"PoW/PoS\",\"PoW/PoS\",\"PoW/PoS\",\"PoW/PoS\",\"PoW\",\"PoS\",\"PoW/PoS\",\"PoW/PoS\",\"PoW/PoS\",\"PoS\",\"PoW\",\"PoS\",\"dPoW/PoW\",\"PoW/PoS\",\"PoW/PoS\",\"PoW\",\"PoW/PoS\",\"PoW\",\"PoW/PoS\",\"PoW/PoS\",\"PoW\",\"PoW/PoS\",\"PoW\",\"PoS\",\"PoW\",\"PoW/PoW\",\"PoW\",\"PoW/PoS\",\"PoS\",\"PoW/PoS\",\"PoW/PoS\",\"PoW\",\"PoS\",\"PoS\",\"PoW/PoS\",\"PoS\",\"PoW/PoS\",\"PoW\",\"PoW\",\"DPoS\",\"PoW/PoS\",\"PoW\",\"PoW\",\"PoW/PoS\",\"PoW/PoS\",\"PoS\",\"PoW/PoS\",\"PoW/PoS\",\"PoW\",\"PoS\",\"PoW/PoS\",\"PoW/PoS\",\"PoW/PoS\",\"TPoS\",\"PoW/PoS\",\"PoW/PoS\",\"PoW/PoS\",\"PoW\",\"PoW/PoS\",\"PoS\",\"PoW/PoS\",\"PoW/PoS\",\"PoS\",\"PoW/PoS\",\"PoW\",\"PoW\",\"PoW\",\"PoW/PoS\",\"PoW/PoS\",\"PoW/PoS\",\"PoW/PoS\",\"PoW\",\"PoW/PoS\",\"PoW\",\"PoS\",\"PoW/PoS \",\"PoW\",\"PoS\",\"PoW\",\"PoW\",\"PoW/PoS\",\"PoW\",\"PoW\",\"PoS\",\"PoW\",\"PoW/PoS\",\"PoW/PoS\",\"PoW/PoS\",\"PoW\",\"PoS\",\"PoW/PoS\",\"PoW\",\"PoS\",\"PoW/PoS\",\"PoW/PoS\",\"PoW/PoS\",\"PoW/PoS\",\"PoS\",\"PoW/PoS\",\"PoW\",\"PoS\",\"PoW\",\"PoS\",\"PoW/PoS\",\"PoW/PoS\",\"PoS\",\"PoW\",\"PoS\",\"PoW\",\"PoW/PoS\",\"PoW\",\"PoW\",\"PoW\",\"PoW\",\"PoW/PoS\",\"PoW\",\"PoW/PoS\",\"PoW/PoS\",\"PoW\",\"PoW/PoS\",\"PoW\",\"PoW\",\"PoW\",\"PoW/PoS\",\"PoW\",\"PoW/PoS\",\"PoW\",\"PoW\",\"PoW\",\"PoS\",\"PoW\",\"PoW/PoS\",\"PoW\",\"PoW/PoS\",\"PoS\",\"Proof of Authority\",\"PoW\",\"PoS\",\"PoW\",\"PoW\",\"PoW\",\"PoW\",\"PoW\",\"PoW/PoS\",\"PoW/PoS\",\"PoW\",\"PoS\",\"PoS\",\"PoW/PoS\",\"PoW\",\"PoW/PoS\",\"PoW\",\"PoW/PoS\",\"PoW\",\"PoS\",\"PoW\",\"PoW/PoS\",\"PoW/PoS\",\"PoW/PoS\",\"PoW/PoS\",\"PoW\",\"PoW/PoS\",\"PoW/PoS\",\"PoW\",\"PoS\",\"PoW/PoS\",\"PoS\",\"PoW\",\"PoW\",\"PoW\",\"PoW\",\"PoW/PoS\",\"DPoS\",\"PoW/PoS\",\"PoW/PoS\",\"PoW\",\"PoW/PoS\",\"PoW\",\"PoW\",\"PoW\",\"PoS\",\"PoS\",\"PoW\",\"PoW\",\"PoW/PoS\",\"PoW/PoS\",\"PoW\",\"PoW/PoS\",\"PoW\",\"PoW\",\"PoW\",\"PoS\",\"PoW\",\"PoW\",\"PoW/PoS\",\"PoW/PoS\",\"PoS\",\"PoW\",\"PoW\",\"PoW\",\"PoS\",\"PoS\",\"PoW and PoS\",\"PoW\",\"PoW\",\"PoW/PoS\",\"PoW\",\"PoW\",\"PoW\",\"PoW\",\"PoS\",\"POBh\",\"PoW + Hive\",\"PoW\",\"PoW\",\"PoW\",\"PoW/PoS\",\"PoA\",\"PoW/PoS\",\"PoW/PoS\",\"PoS\",\"PoS\",\"PoW\",\"PoW\",\"PoW\",\"PoW\",\"PoW/PoS\",\"PoW/PoS\",\"PoW/PoS\",\"PoW\",\"PoS\",\"PoW\",\"PoS\",\"PoS\",\"PoW/PoS\",\"DPoS\",\"PoW\",\"PoW/PoS\",\"PoS\",\"PoW\",\"PoS\",\"PoW/PoS\",\"PoW\",\"PoW\",\"PoS/PoW\",\"PoW\",\"PoS\",\"PoW\",\"PoW\",\"PoW\",\"PoW\",\"PoW/PoS\",\"PoS\",\"PoW\",\"PoW/PoS\",\"PoW\",\"PoW/PoS\",\"PoS\",\"HPoW\",\"PoS\",\"PoS\",\"PoS\",\"PoW\",\"PoW\",\"PoW\",\"PoW/PoS\",\"PoS\",\"PoW/PoS\",\"PoS\",\"PoW/PoS\",\"PoS\",\"PoW\",\"PoW/PoS\",\"PoW\",\"PoW\",\"PoW\",\"PoW\",\"PoS\",\"PoW/PoS\",\"PoS\",\"PoS\",\"PoW\",\"PoW/PoS\",\"PoS\",\"PoW\",\"PoW/PoS\",\"Zero-Knowledge Proof\",\"PoW\",\"DPOS\",\"PoW\",\"PoS\",\"PoW\",\"PoW\",\"Pos\",\"PoS\",\"PoW\",\"PoW/PoS\",\"PoW\",\"PoW\",\"PoS\",\"PoW\",\"PoW\",\"PoW/PoS\",\"PoW\",\"PoW/PoS\",\"PoW\",\"PoS\",\"PoW/PoS\",\"PoW\",\"PoS\",\"PoW/PoS\",\"PoW/PoS\",\"PoW/PoS\",\"PoW/PoS\",\"PoW\",\"PoW\",\"PoW\",\"PoW/PoS\",\"DPoS\",\"PoW/PoS\",\"PoW\",\"PoW/PoS\",\"PoW\",\"PoW/PoS\",\"PoW\",\"PoW/PoS\",\"PoS\",\"PoW/PoS\",\"PoW/PoS\",\"PoW\",\"PoW/PoS\",\"PoW/PoS\",\"PoW/PoS\",\"PoW\",\"PoW/PoS\",\"PoW\",\"PoW/PoS\",\"PoW\",\"PoW/PoS\",\"PoW/PoS\",\"PoS\",\"PoW\",\"PoW\",\"Proof of Trust\",\"PoW/PoS\",\"DPoS\",\"PoS\",\"PoW/PoS\",\"PoW/PoS\",\"PoW\",\"PoW/PoS\",\"PoW\",\"DPoS\",\"PoW\",\"DPoS\",\"PoS\",\"LPoS\",\"PoS\",\"DPoS\",\"PoS/LPoS\",\"DPoS\",\"PoW/PoS\",\"PoW\",\"PoW\",\"PoS\"],\"TotalCoinSupply\":[\"42\",\"532000000\",\"314159265359\",\"21000000\",\"0\",\"84000000\",\"22000000\",\"0\",\"210000000\",\"21000000\",\"3600570502\",\"21000000000\",\"22000000\",\"12500000\",\"21000000\",\"350000000\",\"20000000\",\"64000000\",\"16768584\",\"0\",\"2000000000\",\"384000000000\",\"169795588\",\"250000000\",\"100000000\",\"0\",\"247000000\",\"84000000\",\"48166000\",\"500000\",\"21000000 \",\"1000000\",\"13140000\",\"18000000\",\"40000000000\",\"4380000\",\"16555000000\",\"21000000000\",\"13500000000\",\"21000000 \",\"299792458\",\"32000000\",\"0\",\"0\",\"11235813\",\"336000000\",\"1420609614\",\"70000000\",\"72245700\",\"120000000\",\"0\",\"90600000000\",\"22000000\",\"21000000\",\"265420800\",\"20000000\",\"1350000\",\"100000000\",\"42000000\",\"200000000\",\"0\",\"10000000\",\"2419200000\",\"16180000\",\"0\",\"15000000000\",\"21000000\",\"337000000\",\"0\",\"3770000\",\"420000000\",\"98000000\",\"0\",\"21000000\",\"250000000\",\"51200000\",\"0\",\"1000\",\"888000000\",\"100000000\",\"47011968\",\"2300000000\",\"10000000\",\"42000000\",\"80000000\",\"250000\",\"0\",\"1600000000\",\"100000000\",\"23000000\",\"0\",\"84000000\",\"265420800\",\"5500000\",\"0\",\"45000000\",\"0\",\"1000000000\",\"184467440735\",\"10000000000\",\"2158812800\",\"500000000\",\"105120000\",\"68000000\",\"0\",\"1680000000\",\"0\",\"166386000\",\"12000000\",\"2628000\",\"500000000\",\"160000000\",\"0\",\"10000000\",\"1000000000\",\"1000000000\",\"20000000\",\"0\",\"0\",\"3371337\",\"20000000\",\"10000000000\",\"1840000000\",\"619478\",\"21000000\",\"92000000000\",\"0\",\"78000000\",\"33000000\",\"65789100\",\"53760000\",\"5060000\",\"21000000\",\"0\",\"210240000\",\"250000000\",\"100000000\",\"16906397\",\"50000000\",\"0\",\"1000000000\",\"26298000\",\"16000000\",\"21000000\",\"21000000\",\"210000000\",\"81962100\",\"22000000\",\"26550000000\",\"84000000\",\"10500000\",\"21626280000 \",\"0\",\"42000000\",\"221052632\",\"84000000\",\"30000000\",\"168351300\",\"24000000\",\"384000000\",\" 99000000000\",\"40000000\",\"2147483647\",\"20000000\",\"20000000\",\"25000000\",\"75000000\",\"222725000\",\"525000000\",\"90000000\",\"139000000\",\"616448\",\"33500000\",\"2000000000\",\"44333333\",\"100000000\",\"200000000\",\"25000000\",\"657000000\",\"200000000\",\"50000000\",\"90000000\",\"10000000\",\"21000000\",\"9736000\",\"3000000\",\"21000000\",\"1200000000\",\"0\",\"200000000\",\"0\",\"10638298\",\"3100000000\",\"30000000\",\"20000000000\",\"74000000\",\"0\",\"1500000000\",\"21400000\",\"39999898\",\"2500124\",\"100000000\",\"301000000\",\"7506000000\",\"26205539\",\"21000000\",\"125000000\",\"30000000\",\"10000000000\",\"500000000\",\"850000000\",\"3853326.77707314\",\"50000000\",\"38540000 \",\"42000000\",\"228000000\",\"20000000\",\"60000000\",\"20000000\",\"33000000\",\"76500000\",\"28000000\",\"650659833\",\"5000000\",\"21000000\",\"144000000\",\"32514916898\",\"13000000\",\"3315789\",\"15000000\",\"78835200\",\"2714286\",\"25000000\",\"9999999\",\"500000000\",\"21000000\",\"9354000\",\"20000000\",\"100000000000\",\"21933333\",\"185000000\",\"55000000\",\"110000000\",\"3360000\",\"14524851.4827\",\"1000000000\",\"17000000\",\"1000000000\",\"100000000 \",\"21000000\",\"34426423\",\"2232901\",\"100000000\",\"36900000\",\"110000000\",\"4000000000\",\"110290030\",\"100000000\",\"48252000\",\"400000000\",\"500000000\",\"21212121\",\"28600000\",\"1000000000\",\"75000000000\",\"40000000\",\"35520400\",\"2000000000\",\"2500000000\",\"30000000\",\"105000000\",\"90000000000\",\"200084200\",\"72000000\",\"100000000\",\"105000000\",\"50000000000\",\"0\",\"340282367\",\"30000000\",\"2000000000\",\"10000000\",\"100000000\",\"120000000\",\"100000000\",\"19276800\",\"30000000\",\" 75000000\",\"60000000\",\"18900000\",\"50000000000\",\"54000000\",\"18898187.6216583\",\"21000000\",\"200000000000\",\"5000000000\",\"137500000\",\"1100000000\",\"100000000\",\"21000000\",\"9507271\",\"17405891.19707116\",\"86712634466\",\"10500000000\",\"61599965\",\"0\",\"20000000\",\"84000000\",\"100000000\",\"100000000\",\"48252000\",\"4200000\",\"88888888\",\"91388946\",\"45000000000\",\"27000000\",\"21000000000\",\"400000000\",\"1800000000\",\"15733333\",\"27000000\",\"24000000\",\"21000000\",\"25000000000\",\"100000000\",\"1200000000\",\"60000000\",\"156306732.71\",\"21000000\",\"200000000\",\"100000000\",\"21000000\",\"14788275.991\",\"9000000000\",\"350000000\",\"45000000\",\"280000000\",\"31800000\",\"144000000\",\"500000000\",\"30000000000\",\"210000000\",\"660000000\",\"210000000\",\"85000000000\",\"12500000\",\"10000000000\",\"27716121\",\"20000000\",\"550000000\",\"999481516\",\"50000000000\",\"150000000\",\"4999999999\",\"50000000\",\" 90000000000\",\"19800000\",\"21000000\",\"120000000\",\"500000000\",\"64000000\",\"900000000\",\"4000000\",\"21000000\",\"23000000\",\"20166000\",\"23000000\",\"25000000\",\"1618033\",\"30000000\",\"1000000000000\",\"16600000\",\"232000000\",\"336000000\",\"10000000000\",\"100000000\",\"1100000000\",\"800000000\",\"5200000000\",\"840000000\",\"40000000\",\"18406979840\",\"500000000\",\"19340594\",\"252460800\",\"25000000\",\"60000000\",\"124000000\",\"1000000000\",\"6500000000\",\"1000000000\",\"21000000\",\"25000000\",\"50000000\",\"3000000\",\"5000000\",\"70000000\",\"500000000\",\"300000000\",\"21000000\",\"88000000\",\"30000000\",\"100000000\",\"100000000\",\"200000000\",\"80000000\",\"18400000\",\"45000000\",\"5121951220\",\"21000000\",\"26280000\",\"21000000\",\"18000000\",\"26000000\",\"10500000\",\"600000518\",\"150000000\",\"184000000000\",\"10200000000\",\"44000000\",\"168000000\",\"100000000\",\"1000000000\",\"84000000\",\"90000000\",\"92000000000\",\"650000000 \",\"100262205\",\"18081806 \",\"22075700\",\"21000000\",\"21000000\",\"82546564\",\"21000000\",\"5151000\",\"16880000000\",\"52500000\",\"100000000\",\"22105263\",\"1000000000\",\"1750000000\",\"88188888\",\"210000000\",\"184470000000\",\"55000000\",\"50000000\",\"260000000\",\"210000000\",\"2100000000\",\"366000000\",\"100000000\",\"25000000\",\"18000000000\",\"1000000000\",\"100000000\",\"1000000000\",\"7600000000\",\"50000000\",\"84000000\",\"21000000\",\"70000000000\",\"0\",\"8080000000\",\"54000000\",\"105120001.44\",\"25228800\",\"105000000\",\"21000000\",\"120000000\",\"21000000\",\"262800000\",\"19035999\",\"30886000\",\"13370000\",\"74800000000\",\"100000000\",\"19700000\",\"84000000\",\"500000000\",\"5000000000\",\"420000000\",\"64000000\",\"2100000\",\"168000000\",\"30000000\",\"1000000000\",\"35000000000\",\"98100000000\",\"0\",\"4000000000\",\"200000000\",\"7000000000\",\"54256119\",\"21000000\",\"0\",\"500000000\",\"1000000000\",\"10500000000\",\"190000000\",\"1000000000\",\"42000000\",\"15000000\",\"50000000000\",\"400000000\",\"105000000\",\"208000000\",\"160000000\",\"9000000\",\"5000000\",\"182000000\",\"16504333\",\"105000000\",\"159918400\",\"10008835635\",\"300000000\",\"60168145\",\"2800000\",\"120000\",\"2100000000\",\"0\",\"24487944\",\"0\",\"1000000000\",\"100000000\",\"8634140\",\"990000000000\",\"1000000000\",\"2000000000\",\"250000000\",\"1400222610\",\"21000000\",\"1000000\"],\"TotalCoinsMined\":{\"__ndarray__\":\"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\",\"dtype\":\"float64\",\"order\":\"little\",\"shape\":[532]}},\"selected\":{\"id\":\"1241\"},\"selection_policy\":{\"id\":\"1290\"}},\"id\":\"1240\",\"type\":\"ColumnDataSource\"},{\"attributes\":{},\"id\":\"1253\",\"type\":\"NumberEditor\"}],\"root_ids\":[\"1238\"]},\"title\":\"Bokeh Application\",\"version\":\"2.4.2\"}};\n",
       "    var render_items = [{\"docid\":\"e3bf3d14-6071-491e-ac6b-70f12675e9b3\",\"root_ids\":[\"1238\"],\"roots\":{\"1238\":\"0793bf10-66c2-4f73-a3cf-e48ecfb9acb1\"}}];\n",
       "    root.Bokeh.embed.embed_items_notebook(docs_json, render_items);\n",
       "  }\n",
       "  if (root.Bokeh !== undefined && root.Bokeh.Panel !== undefined) {\n",
       "    embed_document(root);\n",
       "  } else {\n",
       "    var attempts = 0;\n",
       "    var timer = setInterval(function(root) {\n",
       "      if (root.Bokeh !== undefined && root.Bokeh.Panel !== undefined) {\n",
       "        clearInterval(timer);\n",
       "        embed_document(root);\n",
       "      } else if (document.readyState == \"complete\") {\n",
       "        attempts++;\n",
       "        if (attempts > 200) {\n",
       "          clearInterval(timer);\n",
       "          console.log(\"Bokeh: ERROR: Unable to run BokehJS code because BokehJS library is missing\");\n",
       "        }\n",
       "      }\n",
       "    }, 25, root)\n",
       "  }\n",
       "})(window);</script>"
      ],
      "text/plain": [
       ":Table   [Algorithm,ProofType,TotalCoinsMined,TotalCoinSupply,PC 1,PC 2,PC 3,CoinName,Class]"
      ]
     },
     "execution_count": 38,
     "metadata": {
      "application/vnd.holoviews_exec.v0+json": {
       "id": "1238"
      }
     },
     "output_type": "execute_result"
    }
   ],
   "source": [
    "# Create a table with tradable cryptocurrencies.\n",
    "clustered_df.hvplot.table(sortable=True, selectable=True, width=900)"
   ]
  },
  {
   "cell_type": "code",
   "execution_count": 43,
   "metadata": {},
   "outputs": [
    {
     "name": "stdout",
     "output_type": "stream",
     "text": [
      "Tradable cyrptocurrencies: 532\n"
     ]
    }
   ],
   "source": [
    "# Print the total number of tradable cryptocurrencies.\n",
    "print(f\"Tradable cyrptocurrencies: {len(clustered_df)}\")"
   ]
  },
  {
   "cell_type": "code",
   "execution_count": 44,
   "metadata": {},
   "outputs": [
    {
     "data": {
      "text/plain": [
       "array([[4.20000000e-11, 0.00000000e+00],\n",
       "       [5.32000000e-04, 1.06585544e-03],\n",
       "       [3.14159265e-01, 2.95755135e-02],\n",
       "       ...,\n",
       "       [1.40022261e-03, 9.90135079e-04],\n",
       "       [2.10000000e-05, 7.37028150e-06],\n",
       "       [1.00000000e-06, 1.29582282e-07]])"
      ]
     },
     "execution_count": 44,
     "metadata": {},
     "output_type": "execute_result"
    }
   ],
   "source": [
    "# Scaling data to create the scatter plot with tradable cryptocurrencies.\n",
    "totalcoin_scaled = MinMaxScaler().fit_transform(clustered_df[[\"TotalCoinSupply\", \"TotalCoinsMined\"]])\n",
    "totalcoin_scaled"
   ]
  },
  {
   "cell_type": "code",
   "execution_count": 48,
   "metadata": {},
   "outputs": [
    {
     "data": {
      "text/html": [
       "<div>\n",
       "<style scoped>\n",
       "    .dataframe tbody tr th:only-of-type {\n",
       "        vertical-align: middle;\n",
       "    }\n",
       "\n",
       "    .dataframe tbody tr th {\n",
       "        vertical-align: top;\n",
       "    }\n",
       "\n",
       "    .dataframe thead th {\n",
       "        text-align: right;\n",
       "    }\n",
       "</style>\n",
       "<table border=\"1\" class=\"dataframe\">\n",
       "  <thead>\n",
       "    <tr style=\"text-align: right;\">\n",
       "      <th></th>\n",
       "      <th>TotalCoinSupply</th>\n",
       "      <th>TotalCoinsMined</th>\n",
       "      <th>CoinName</th>\n",
       "      <th>Class</th>\n",
       "    </tr>\n",
       "  </thead>\n",
       "  <tbody>\n",
       "    <tr>\n",
       "      <th>42</th>\n",
       "      <td>4.200000e-11</td>\n",
       "      <td>0.000000</td>\n",
       "      <td>42 Coin</td>\n",
       "      <td>1</td>\n",
       "    </tr>\n",
       "    <tr>\n",
       "      <th>404</th>\n",
       "      <td>5.320000e-04</td>\n",
       "      <td>0.001066</td>\n",
       "      <td>404Coin</td>\n",
       "      <td>1</td>\n",
       "    </tr>\n",
       "    <tr>\n",
       "      <th>1337</th>\n",
       "      <td>3.141593e-01</td>\n",
       "      <td>0.029576</td>\n",
       "      <td>EliteCoin</td>\n",
       "      <td>1</td>\n",
       "    </tr>\n",
       "    <tr>\n",
       "      <th>BTC</th>\n",
       "      <td>2.100000e-05</td>\n",
       "      <td>0.000018</td>\n",
       "      <td>Bitcoin</td>\n",
       "      <td>0</td>\n",
       "    </tr>\n",
       "    <tr>\n",
       "      <th>ETH</th>\n",
       "      <td>0.000000e+00</td>\n",
       "      <td>0.000109</td>\n",
       "      <td>Ethereum</td>\n",
       "      <td>0</td>\n",
       "    </tr>\n",
       "    <tr>\n",
       "      <th>LTC</th>\n",
       "      <td>8.400000e-05</td>\n",
       "      <td>0.000064</td>\n",
       "      <td>Litecoin</td>\n",
       "      <td>0</td>\n",
       "    </tr>\n",
       "    <tr>\n",
       "      <th>DASH</th>\n",
       "      <td>2.200000e-05</td>\n",
       "      <td>0.000009</td>\n",
       "      <td>Dash</td>\n",
       "      <td>1</td>\n",
       "    </tr>\n",
       "    <tr>\n",
       "      <th>XMR</th>\n",
       "      <td>0.000000e+00</td>\n",
       "      <td>0.000017</td>\n",
       "      <td>Monero</td>\n",
       "      <td>0</td>\n",
       "    </tr>\n",
       "    <tr>\n",
       "      <th>ETC</th>\n",
       "      <td>2.100000e-04</td>\n",
       "      <td>0.000115</td>\n",
       "      <td>Ethereum Classic</td>\n",
       "      <td>0</td>\n",
       "    </tr>\n",
       "    <tr>\n",
       "      <th>ZEC</th>\n",
       "      <td>2.100000e-05</td>\n",
       "      <td>0.000007</td>\n",
       "      <td>ZCash</td>\n",
       "      <td>0</td>\n",
       "    </tr>\n",
       "  </tbody>\n",
       "</table>\n",
       "</div>"
      ],
      "text/plain": [
       "      TotalCoinSupply  TotalCoinsMined          CoinName  Class\n",
       "42       4.200000e-11         0.000000           42 Coin      1\n",
       "404      5.320000e-04         0.001066           404Coin      1\n",
       "1337     3.141593e-01         0.029576         EliteCoin      1\n",
       "BTC      2.100000e-05         0.000018           Bitcoin      0\n",
       "ETH      0.000000e+00         0.000109          Ethereum      0\n",
       "LTC      8.400000e-05         0.000064          Litecoin      0\n",
       "DASH     2.200000e-05         0.000009              Dash      1\n",
       "XMR      0.000000e+00         0.000017            Monero      0\n",
       "ETC      2.100000e-04         0.000115  Ethereum Classic      0\n",
       "ZEC      2.100000e-05         0.000007             ZCash      0"
      ]
     },
     "execution_count": 48,
     "metadata": {},
     "output_type": "execute_result"
    }
   ],
   "source": [
    "# Create a new DataFrame that has the scaled data with the clustered_df DataFrame index.\n",
    "plot_df = pd.DataFrame(data= totalcoin_scaled, \n",
    "                       columns=[\"TotalCoinSupply\", \"TotalCoinsMined\"],\n",
    "                        index= clustered_df.index)\n",
    "\n",
    "# Add the \"CoinName\" column from the clustered_df DataFrame to the new DataFrame.\n",
    "plot_df[\"CoinName\"] = clustered_df[\"CoinName\"]\n",
    "\n",
    "# Add the \"Class\" column from the clustered_df DataFrame to the new DataFrame. \n",
    "plot_df[\"Class\"] = clustered_df[\"Class\"]\n",
    "\n",
    "plot_df.head(10)"
   ]
  },
  {
   "cell_type": "code",
   "execution_count": 49,
   "metadata": {},
   "outputs": [
    {
     "data": {},
     "metadata": {},
     "output_type": "display_data"
    },
    {
     "data": {
      "application/vnd.holoviews_exec.v0+json": "",
      "text/html": [
       "<div id='1306'>\n",
       "\n",
       "\n",
       "\n",
       "\n",
       "\n",
       "  <div class=\"bk-root\" id=\"a297cdc5-053d-4b4c-abf9-a891aad9a501\" data-root-id=\"1306\"></div>\n",
       "</div>\n",
       "<script type=\"application/javascript\">(function(root) {\n",
       "  function embed_document(root) {\n",
       "    var docs_json = {\"f0dce4b6-dc0f-4f18-af66-d1bcfd59136c\":{\"defs\":[{\"extends\":null,\"module\":null,\"name\":\"ReactiveHTML1\",\"overrides\":[],\"properties\":[]},{\"extends\":null,\"module\":null,\"name\":\"FlexBox1\",\"overrides\":[],\"properties\":[{\"default\":\"flex-start\",\"kind\":null,\"name\":\"align_content\"},{\"default\":\"flex-start\",\"kind\":null,\"name\":\"align_items\"},{\"default\":\"row\",\"kind\":null,\"name\":\"flex_direction\"},{\"default\":\"wrap\",\"kind\":null,\"name\":\"flex_wrap\"},{\"default\":\"flex-start\",\"kind\":null,\"name\":\"justify_content\"}]},{\"extends\":null,\"module\":null,\"name\":\"GridStack1\",\"overrides\":[],\"properties\":[{\"default\":\"warn\",\"kind\":null,\"name\":\"mode\"},{\"default\":null,\"kind\":null,\"name\":\"ncols\"},{\"default\":null,\"kind\":null,\"name\":\"nrows\"},{\"default\":true,\"kind\":null,\"name\":\"allow_resize\"},{\"default\":true,\"kind\":null,\"name\":\"allow_drag\"},{\"default\":[],\"kind\":null,\"name\":\"state\"}]},{\"extends\":null,\"module\":null,\"name\":\"click1\",\"overrides\":[],\"properties\":[{\"default\":\"\",\"kind\":null,\"name\":\"terminal_output\"},{\"default\":\"\",\"kind\":null,\"name\":\"debug_name\"},{\"default\":0,\"kind\":null,\"name\":\"clears\"}]},{\"extends\":null,\"module\":null,\"name\":\"TemplateActions1\",\"overrides\":[],\"properties\":[{\"default\":0,\"kind\":null,\"name\":\"open_modal\"},{\"default\":0,\"kind\":null,\"name\":\"close_modal\"}]},{\"extends\":null,\"module\":null,\"name\":\"MaterialTemplateActions1\",\"overrides\":[],\"properties\":[{\"default\":0,\"kind\":null,\"name\":\"open_modal\"},{\"default\":0,\"kind\":null,\"name\":\"close_modal\"}]}],\"roots\":{\"references\":[{\"attributes\":{},\"id\":\"1346\",\"type\":\"AllLabels\"},{\"attributes\":{\"axis\":{\"id\":\"1327\"},\"coordinates\":null,\"dimension\":1,\"grid_line_color\":null,\"group\":null,\"ticker\":null},\"id\":\"1330\",\"type\":\"Grid\"},{\"attributes\":{\"data\":{\"Class\":[0,0,0,0,0,0,0,0,0,0,0,0,0,0,0,0,0,0,0,0,0,0,0,0,0,0,0,0,0,0,0,0,0,0,0,0,0,0,0,0,0,0,0,0,0,0,0,0,0,0,0,0,0,0,0,0,0,0,0,0,0,0,0,0,0,0,0,0,0,0,0,0,0,0,0,0,0,0,0,0,0,0,0,0,0,0,0,0,0,0,0,0,0,0,0,0,0,0,0,0,0,0,0,0,0,0,0,0,0,0,0,0,0,0,0,0,0,0,0,0,0,0,0,0,0,0,0,0,0,0,0,0,0,0,0,0,0,0,0,0,0,0,0,0,0,0,0,0,0,0,0,0,0,0,0,0,0,0,0,0,0,0,0,0,0,0,0,0,0,0,0,0,0,0,0,0,0,0,0,0,0,0,0,0,0,0,0,0,0,0,0,0,0,0,0,0,0,0,0,0,0,0,0,0,0,0,0,0,0,0,0,0,0,0,0,0,0,0,0,0,0,0,0,0,0,0,0,0,0,0,0,0,0,0,0,0,0,0,0],\"CoinName\":[\"Bitcoin\",\"Ethereum\",\"Litecoin\",\"Monero\",\"Ethereum Classic\",\"ZCash\",\"DigiByte\",\"ProsperCoin\",\"Spreadcoin\",\"Argentum\",\"MyriadCoin\",\"MoonCoin\",\"ZetaCoin\",\"SexCoin\",\"Quatloo\",\"QuarkCoin\",\"Riecoin\",\"Digitalcoin \",\"Catcoin\",\"CannaCoin\",\"CryptCoin\",\"Verge\",\"DevCoin\",\"EarthCoin\",\"E-Gulden\",\"Einsteinium\",\"Emerald\",\"Franko\",\"FeatherCoin\",\"GrandCoin\",\"GlobalCoin\",\"GoldCoin\",\"Infinite Coin\",\"IXcoin\",\"KrugerCoin\",\"LuckyCoin\",\"Litebar \",\"MegaCoin\",\"MediterraneanCoin\",\"MinCoin\",\"NobleCoin\",\"Namecoin\",\"NyanCoin\",\"RonPaulCoin\",\"StableCoin\",\"SmartCoin\",\"SysCoin\",\"TigerCoin\",\"TerraCoin\",\"UnbreakableCoin\",\"Unobtanium\",\"UroCoin\",\"ViaCoin\",\"Vertcoin\",\"WorldCoin\",\"JouleCoin\",\"ByteCoin\",\"DigitalNote \",\"MonaCoin\",\"Gulden\",\"PesetaCoin\",\"Wild Beast Coin\",\"Flo\",\"ArtByte\",\"Folding Coin\",\"Unitus\",\"CypherPunkCoin\",\"OmniCron\",\"GreenCoin\",\"Cryptonite\",\"MasterCoin\",\"SoonCoin\",\"1Credit\",\"MarsCoin \",\"Crypto\",\"Anarchists Prime\",\"BowsCoin\",\"Song Coin\",\"BitZeny\",\"Expanse\",\"Siacoin\",\"MindCoin\",\"I0coin\",\"Revolution VR\",\"HOdlcoin\",\"Gamecredits\",\"CarpeDiemCoin\",\"Adzcoin\",\"SoilCoin\",\"YoCoin\",\"SibCoin\",\"Francs\",\"BolivarCoin\",\"Omni\",\"PizzaCoin\",\"Komodo\",\"Karbo\",\"ZayedCoin\",\"Circuits of Value\",\"DopeCoin\",\"DollarCoin\",\"Shilling\",\"ZCoin\",\"Elementrem\",\"ZClassic\",\"KiloCoin\",\"ArtexCoin\",\"Kurrent\",\"Cannabis Industry Coin\",\"OsmiumCoin\",\"Bikercoins\",\"HexxCoin\",\"PacCoin\",\"Citadel\",\"BeaverCoin\",\"VaultCoin\",\"Zero\",\"Canada eCoin\",\"Zoin\",\"DubaiCoin\",\"EB3coin\",\"Coinonat\",\"BenjiRolls\",\"ILCoin\",\"EquiTrader\",\"Quantum Resistant Ledger\",\"Dynamic\",\"Nano\",\"ChanCoin\",\"Dinastycoin\",\"DigitalPrice\",\"Unify\",\"SocialCoin\",\"ArcticCoin\",\"DAS\",\"LeviarCoin\",\"Bitcore\",\"gCn Coin\",\"SmartCash\",\"Onix\",\"Bitcoin Cash\",\"Sojourn Coin\",\"NewYorkCoin\",\"FrazCoin\",\"Kronecoin\",\"AdCoin\",\"Linx\",\"Sumokoin\",\"BitcoinZ\",\"Elements\",\"VIVO Coin\",\"Bitcoin Gold\",\"Pirl\",\"eBoost\",\"Pura\",\"Innova\",\"Ellaism\",\"GoByte\",\"SHIELD\",\"UltraNote\",\"BitCoal\",\"DaxxCoin\",\"AC3\",\"Lethean\",\"PopularCoin\",\"Photon\",\"Sucre\",\"SparksPay\",\"GunCoin\",\"IrishCoin\",\"Pioneer Coin\",\"UnitedBitcoin\",\"Interzone\",\"TurtleCoin\",\"MUNcoin\",\"Niobio Cash\",\"ShareChain\",\"Travelflex\",\"KREDS\",\"BitFlip\",\"LottoCoin\",\"Crypto Improvement Fund\",\"Callisto Network\",\"BitTube\",\"Poseidon\",\"Aidos Kuneen\",\"Bitrolium\",\"Alpenschillling\",\"FuturoCoin\",\"Monero Classic\",\"Jumpcoin\",\"Infinex\",\"KEYCO\",\"GINcoin\",\"PlatinCoin\",\"Loki\",\"Newton Coin\",\"MassGrid\",\"PluraCoin\",\"Lynx\",\"Motion\",\"PlusOneCoin\",\"Axe\",\"HexCoin\",\"Webchain\",\"Ryo\",\"Urals Coin\",\"Qwertycoin\",\"Project Pai\",\"Azart\",\"Xchange\",\"CrypticCoin\",\"Actinium\",\"Bitcoin SV\",\"FREDEnergy\",\"Universal Molecule\",\"Lithium\",\"Exosis\",\"Block-Logic\",\"Beam\",\"Bithereum\",\"SLICE\",\"BLAST\",\"Bitcoin Rhodium\",\"GlobalToken\",\"SolarCoin\",\"UFO Coin\",\"BlakeCoin\",\"Crypto Escudo\",\"Crown Coin\",\"SmileyCoin\",\"Groestlcoin\",\"Bata\",\"Pakcoin\",\"JoinCoin\",\"Vollar\",\"Reality Clash\",\"Beldex\",\"Horizen\"],\"TotalCoinSupply\":{\"__ndarray__\":\"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\",\"dtype\":\"float64\",\"order\":\"little\",\"shape\":[239]},\"TotalCoinsMined\":{\"__ndarray__\":\"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\",\"dtype\":\"float64\",\"order\":\"little\",\"shape\":[239]}},\"selected\":{\"id\":\"1351\"},\"selection_policy\":{\"id\":\"1365\"}},\"id\":\"1350\",\"type\":\"ColumnDataSource\"},{\"attributes\":{\"fill_color\":{\"value\":\"#fc4f30\"},\"hatch_color\":{\"value\":\"#fc4f30\"},\"line_color\":{\"value\":\"#fc4f30\"},\"size\":{\"value\":5.477225575051661},\"x\":{\"field\":\"TotalCoinsMined\"},\"y\":{\"field\":\"TotalCoinSupply\"}},\"id\":\"1374\",\"type\":\"Scatter\"},{\"attributes\":{},\"id\":\"1348\",\"type\":\"BasicTickFormatter\"},{\"attributes\":{\"fill_color\":{\"value\":\"#30a2da\"},\"hatch_color\":{\"value\":\"#30a2da\"},\"line_color\":{\"value\":\"#30a2da\"},\"size\":{\"value\":5.477225575051661},\"x\":{\"field\":\"TotalCoinsMined\"},\"y\":{\"field\":\"TotalCoinSupply\"}},\"id\":\"1353\",\"type\":\"Scatter\"},{\"attributes\":{\"coordinates\":null,\"data_source\":{\"id\":\"1350\"},\"glyph\":{\"id\":\"1353\"},\"group\":null,\"hover_glyph\":null,\"muted_glyph\":{\"id\":\"1355\"},\"nonselection_glyph\":{\"id\":\"1354\"},\"selection_glyph\":{\"id\":\"1370\"},\"view\":{\"id\":\"1357\"}},\"id\":\"1356\",\"type\":\"GlyphRenderer\"},{\"attributes\":{\"source\":{\"id\":\"1393\"}},\"id\":\"1400\",\"type\":\"CDSView\"},{\"attributes\":{},\"id\":\"1418\",\"type\":\"Selection\"},{\"attributes\":{},\"id\":\"1349\",\"type\":\"AllLabels\"},{\"attributes\":{},\"id\":\"1331\",\"type\":\"SaveTool\"},{\"attributes\":{\"fill_alpha\":{\"value\":0.1},\"fill_color\":{\"value\":\"#fc4f30\"},\"hatch_alpha\":{\"value\":0.1},\"hatch_color\":{\"value\":\"#fc4f30\"},\"line_alpha\":{\"value\":0.1},\"line_color\":{\"value\":\"#fc4f30\"},\"size\":{\"value\":5.477225575051661},\"x\":{\"field\":\"TotalCoinsMined\"},\"y\":{\"field\":\"TotalCoinSupply\"}},\"id\":\"1375\",\"type\":\"Scatter\"},{\"attributes\":{},\"id\":\"1332\",\"type\":\"PanTool\"},{\"attributes\":{},\"id\":\"1335\",\"type\":\"ResetTool\"},{\"attributes\":{},\"id\":\"1333\",\"type\":\"WheelZoomTool\"},{\"attributes\":{\"overlay\":{\"id\":\"1336\"}},\"id\":\"1334\",\"type\":\"BoxZoomTool\"},{\"attributes\":{\"click_policy\":\"mute\",\"coordinates\":null,\"group\":null,\"items\":[{\"id\":\"1369\"},{\"id\":\"1391\"},{\"id\":\"1415\"},{\"id\":\"1441\"}],\"location\":[0,0],\"title\":\"Class\"},\"id\":\"1368\",\"type\":\"Legend\"},{\"attributes\":{\"end\":1.1,\"reset_end\":1.1,\"reset_start\":-0.1,\"start\":-0.1,\"tags\":[[[\"TotalCoinSupply\",\"TotalCoinSupply\",null]]]},\"id\":\"1309\",\"type\":\"Range1d\"},{\"attributes\":{\"coordinates\":null,\"data_source\":{\"id\":\"1417\"},\"glyph\":{\"id\":\"1420\"},\"group\":null,\"hover_glyph\":null,\"muted_glyph\":{\"id\":\"1422\"},\"nonselection_glyph\":{\"id\":\"1421\"},\"selection_glyph\":{\"id\":\"1442\"},\"view\":{\"id\":\"1424\"}},\"id\":\"1423\",\"type\":\"GlyphRenderer\"},{\"attributes\":{\"fill_alpha\":{\"value\":0.2},\"fill_color\":{\"value\":\"#30a2da\"},\"hatch_alpha\":{\"value\":0.2},\"hatch_color\":{\"value\":\"#30a2da\"},\"line_alpha\":{\"value\":0.2},\"line_color\":{\"value\":\"#30a2da\"},\"size\":{\"value\":5.477225575051661},\"x\":{\"field\":\"TotalCoinsMined\"},\"y\":{\"field\":\"TotalCoinSupply\"}},\"id\":\"1355\",\"type\":\"Scatter\"},{\"attributes\":{},\"id\":\"1365\",\"type\":\"UnionRenderers\"},{\"attributes\":{\"source\":{\"id\":\"1350\"}},\"id\":\"1357\",\"type\":\"CDSView\"},{\"attributes\":{\"data\":{\"Class\":[2],\"CoinName\":[\"BitTorrent\"],\"TotalCoinSupply\":{\"__ndarray__\":\"rkfhehSu7z8=\",\"dtype\":\"float64\",\"order\":\"little\",\"shape\":[1]},\"TotalCoinsMined\":{\"__ndarray__\":\"AAAAAAAA8D8=\",\"dtype\":\"float64\",\"order\":\"little\",\"shape\":[1]}},\"selected\":{\"id\":\"1394\"},\"selection_policy\":{\"id\":\"1412\"}},\"id\":\"1393\",\"type\":\"ColumnDataSource\"},{\"attributes\":{\"bottom_units\":\"screen\",\"coordinates\":null,\"fill_alpha\":0.5,\"fill_color\":\"lightgrey\",\"group\":null,\"left_units\":\"screen\",\"level\":\"overlay\",\"line_alpha\":1.0,\"line_color\":\"black\",\"line_dash\":[4,4],\"line_width\":2,\"right_units\":\"screen\",\"syncable\":false,\"top_units\":\"screen\"},\"id\":\"1336\",\"type\":\"BoxAnnotation\"},{\"attributes\":{\"children\":[{\"id\":\"1307\"},{\"id\":\"1314\"},{\"id\":\"1587\"}],\"margin\":[0,0,0,0],\"name\":\"Row02171\",\"tags\":[\"embedded\"]},\"id\":\"1306\",\"type\":\"Row\"},{\"attributes\":{\"label\":{\"value\":\"3\"},\"renderers\":[{\"id\":\"1423\"}]},\"id\":\"1441\",\"type\":\"LegendItem\"},{\"attributes\":{},\"id\":\"1324\",\"type\":\"BasicTicker\"},{\"attributes\":{\"tools\":[{\"id\":\"1310\"},{\"id\":\"1331\"},{\"id\":\"1332\"},{\"id\":\"1333\"},{\"id\":\"1334\"},{\"id\":\"1335\"}]},\"id\":\"1337\",\"type\":\"Toolbar\"},{\"attributes\":{\"fill_alpha\":{\"value\":0.1},\"fill_color\":{\"value\":\"#30a2da\"},\"hatch_alpha\":{\"value\":0.1},\"hatch_color\":{\"value\":\"#30a2da\"},\"line_alpha\":{\"value\":0.1},\"line_color\":{\"value\":\"#30a2da\"},\"size\":{\"value\":5.477225575051661},\"x\":{\"field\":\"TotalCoinsMined\"},\"y\":{\"field\":\"TotalCoinSupply\"}},\"id\":\"1354\",\"type\":\"Scatter\"},{\"attributes\":{\"source\":{\"id\":\"1371\"}},\"id\":\"1378\",\"type\":\"CDSView\"},{\"attributes\":{\"margin\":[5,5,5,5],\"name\":\"HSpacer02175\",\"sizing_mode\":\"stretch_width\"},\"id\":\"1307\",\"type\":\"Spacer\"},{\"attributes\":{\"fill_color\":{\"value\":\"#e5ae38\"},\"hatch_color\":{\"value\":\"#e5ae38\"},\"line_color\":{\"value\":\"#e5ae38\"},\"size\":{\"value\":5.477225575051661},\"x\":{\"field\":\"TotalCoinsMined\"},\"y\":{\"field\":\"TotalCoinSupply\"}},\"id\":\"1396\",\"type\":\"Scatter\"},{\"attributes\":{\"label\":{\"value\":\"1\"},\"renderers\":[{\"id\":\"1377\"}]},\"id\":\"1391\",\"type\":\"LegendItem\"},{\"attributes\":{\"coordinates\":null,\"data_source\":{\"id\":\"1371\"},\"glyph\":{\"id\":\"1374\"},\"group\":null,\"hover_glyph\":null,\"muted_glyph\":{\"id\":\"1376\"},\"nonselection_glyph\":{\"id\":\"1375\"},\"selection_glyph\":{\"id\":\"1392\"},\"view\":{\"id\":\"1378\"}},\"id\":\"1377\",\"type\":\"GlyphRenderer\"},{\"attributes\":{},\"id\":\"1438\",\"type\":\"UnionRenderers\"},{\"attributes\":{},\"id\":\"1372\",\"type\":\"Selection\"},{\"attributes\":{\"fill_alpha\":{\"value\":0.2},\"fill_color\":{\"value\":\"#e5ae38\"},\"hatch_alpha\":{\"value\":0.2},\"hatch_color\":{\"value\":\"#e5ae38\"},\"line_alpha\":{\"value\":0.2},\"line_color\":{\"value\":\"#e5ae38\"},\"size\":{\"value\":5.477225575051661},\"x\":{\"field\":\"TotalCoinsMined\"},\"y\":{\"field\":\"TotalCoinSupply\"}},\"id\":\"1398\",\"type\":\"Scatter\"},{\"attributes\":{\"angle\":{\"value\":0.0},\"fill_alpha\":{\"value\":1.0},\"fill_color\":{\"value\":\"#6d904f\"},\"hatch_alpha\":{\"value\":1.0},\"hatch_color\":{\"value\":\"#6d904f\"},\"hatch_scale\":{\"value\":12.0},\"hatch_weight\":{\"value\":1.0},\"line_alpha\":{\"value\":1.0},\"line_cap\":{\"value\":\"butt\"},\"line_color\":{\"value\":\"#6d904f\"},\"line_dash\":{\"value\":[]},\"line_dash_offset\":{\"value\":0},\"line_join\":{\"value\":\"bevel\"},\"line_width\":{\"value\":1},\"marker\":{\"value\":\"circle\"},\"size\":{\"value\":5.477225575051661},\"x\":{\"field\":\"TotalCoinsMined\"},\"y\":{\"field\":\"TotalCoinSupply\"}},\"id\":\"1442\",\"type\":\"Scatter\"},{\"attributes\":{\"label\":{\"value\":\"0\"},\"renderers\":[{\"id\":\"1356\"}]},\"id\":\"1369\",\"type\":\"LegendItem\"},{\"attributes\":{},\"id\":\"1345\",\"type\":\"BasicTickFormatter\"},{\"attributes\":{\"end\":1.042857142857143,\"reset_end\":1.042857142857143,\"reset_start\":-0.04285714285714286,\"start\":-0.04285714285714286,\"tags\":[[[\"TotalCoinsMined\",\"TotalCoinsMined\",null]]]},\"id\":\"1308\",\"type\":\"Range1d\"},{\"attributes\":{\"data\":{\"Class\":[3,3,3,3,3,3],\"CoinName\":[\"Vechain\",\"BiblePay\",\"LitecoinCash\",\"Poa Network\",\"Acute Angle Cloud\",\"Waves\"],\"TotalCoinSupply\":{\"__ndarray__\":\"+nQumcwytj+U9gZfmEx1P7x5qkNuhks/hFoo4ZaLMD/8qfHSTWJQPyxDHOviNho/\",\"dtype\":\"float64\",\"order\":\"little\",\"shape\":[6]},\"TotalCoinsMined\":{\"__ndarray__\":\"zaDgBxGurD+PWA2R2lNdP5CkxfJKIUU/nBkleI8SKz96Q0MFuIxQP/tFfmC/eho/\",\"dtype\":\"float64\",\"order\":\"little\",\"shape\":[6]}},\"selected\":{\"id\":\"1418\"},\"selection_policy\":{\"id\":\"1438\"}},\"id\":\"1417\",\"type\":\"ColumnDataSource\"},{\"attributes\":{\"margin\":[5,5,5,5],\"name\":\"HSpacer02176\",\"sizing_mode\":\"stretch_width\"},\"id\":\"1587\",\"type\":\"Spacer\"},{\"attributes\":{\"angle\":{\"value\":0.0},\"fill_alpha\":{\"value\":1.0},\"fill_color\":{\"value\":\"#e5ae38\"},\"hatch_alpha\":{\"value\":1.0},\"hatch_color\":{\"value\":\"#e5ae38\"},\"hatch_scale\":{\"value\":12.0},\"hatch_weight\":{\"value\":1.0},\"line_alpha\":{\"value\":1.0},\"line_cap\":{\"value\":\"butt\"},\"line_color\":{\"value\":\"#e5ae38\"},\"line_dash\":{\"value\":[]},\"line_dash_offset\":{\"value\":0},\"line_join\":{\"value\":\"bevel\"},\"line_width\":{\"value\":1},\"marker\":{\"value\":\"circle\"},\"size\":{\"value\":5.477225575051661},\"x\":{\"field\":\"TotalCoinsMined\"},\"y\":{\"field\":\"TotalCoinSupply\"}},\"id\":\"1416\",\"type\":\"Scatter\"},{\"attributes\":{},\"id\":\"1319\",\"type\":\"LinearScale\"},{\"attributes\":{\"coordinates\":null,\"group\":null,\"text_color\":\"black\",\"text_font_size\":\"12pt\"},\"id\":\"1315\",\"type\":\"Title\"},{\"attributes\":{\"fill_alpha\":{\"value\":0.1},\"fill_color\":{\"value\":\"#e5ae38\"},\"hatch_alpha\":{\"value\":0.1},\"hatch_color\":{\"value\":\"#e5ae38\"},\"line_alpha\":{\"value\":0.1},\"line_color\":{\"value\":\"#e5ae38\"},\"size\":{\"value\":5.477225575051661},\"x\":{\"field\":\"TotalCoinsMined\"},\"y\":{\"field\":\"TotalCoinSupply\"}},\"id\":\"1397\",\"type\":\"Scatter\"},{\"attributes\":{},\"id\":\"1351\",\"type\":\"Selection\"},{\"attributes\":{},\"id\":\"1412\",\"type\":\"UnionRenderers\"},{\"attributes\":{\"below\":[{\"id\":\"1323\"}],\"center\":[{\"id\":\"1326\"},{\"id\":\"1330\"}],\"height\":300,\"left\":[{\"id\":\"1327\"}],\"margin\":[5,5,5,5],\"min_border_bottom\":10,\"min_border_left\":10,\"min_border_right\":10,\"min_border_top\":10,\"renderers\":[{\"id\":\"1356\"},{\"id\":\"1377\"},{\"id\":\"1399\"},{\"id\":\"1423\"}],\"right\":[{\"id\":\"1368\"}],\"sizing_mode\":\"fixed\",\"title\":{\"id\":\"1315\"},\"toolbar\":{\"id\":\"1337\"},\"width\":700,\"x_range\":{\"id\":\"1308\"},\"x_scale\":{\"id\":\"1319\"},\"y_range\":{\"id\":\"1309\"},\"y_scale\":{\"id\":\"1321\"}},\"id\":\"1314\",\"subtype\":\"Figure\",\"type\":\"Plot\"},{\"attributes\":{\"axis\":{\"id\":\"1323\"},\"coordinates\":null,\"grid_line_color\":null,\"group\":null,\"ticker\":null},\"id\":\"1326\",\"type\":\"Grid\"},{\"attributes\":{\"source\":{\"id\":\"1417\"}},\"id\":\"1424\",\"type\":\"CDSView\"},{\"attributes\":{\"coordinates\":null,\"data_source\":{\"id\":\"1393\"},\"glyph\":{\"id\":\"1396\"},\"group\":null,\"hover_glyph\":null,\"muted_glyph\":{\"id\":\"1398\"},\"nonselection_glyph\":{\"id\":\"1397\"},\"selection_glyph\":{\"id\":\"1416\"},\"view\":{\"id\":\"1400\"}},\"id\":\"1399\",\"type\":\"GlyphRenderer\"},{\"attributes\":{\"angle\":{\"value\":0.0},\"fill_alpha\":{\"value\":1.0},\"fill_color\":{\"value\":\"#fc4f30\"},\"hatch_alpha\":{\"value\":1.0},\"hatch_color\":{\"value\":\"#fc4f30\"},\"hatch_scale\":{\"value\":12.0},\"hatch_weight\":{\"value\":1.0},\"line_alpha\":{\"value\":1.0},\"line_cap\":{\"value\":\"butt\"},\"line_color\":{\"value\":\"#fc4f30\"},\"line_dash\":{\"value\":[]},\"line_dash_offset\":{\"value\":0},\"line_join\":{\"value\":\"bevel\"},\"line_width\":{\"value\":1},\"marker\":{\"value\":\"circle\"},\"size\":{\"value\":5.477225575051661},\"x\":{\"field\":\"TotalCoinsMined\"},\"y\":{\"field\":\"TotalCoinSupply\"}},\"id\":\"1392\",\"type\":\"Scatter\"},{\"attributes\":{\"fill_alpha\":{\"value\":0.2},\"fill_color\":{\"value\":\"#fc4f30\"},\"hatch_alpha\":{\"value\":0.2},\"hatch_color\":{\"value\":\"#fc4f30\"},\"line_alpha\":{\"value\":0.2},\"line_color\":{\"value\":\"#fc4f30\"},\"size\":{\"value\":5.477225575051661},\"x\":{\"field\":\"TotalCoinsMined\"},\"y\":{\"field\":\"TotalCoinSupply\"}},\"id\":\"1376\",\"type\":\"Scatter\"},{\"attributes\":{\"data\":{\"Class\":[1,1,1,1,1,1,1,1,1,1,1,1,1,1,1,1,1,1,1,1,1,1,1,1,1,1,1,1,1,1,1,1,1,1,1,1,1,1,1,1,1,1,1,1,1,1,1,1,1,1,1,1,1,1,1,1,1,1,1,1,1,1,1,1,1,1,1,1,1,1,1,1,1,1,1,1,1,1,1,1,1,1,1,1,1,1,1,1,1,1,1,1,1,1,1,1,1,1,1,1,1,1,1,1,1,1,1,1,1,1,1,1,1,1,1,1,1,1,1,1,1,1,1,1,1,1,1,1,1,1,1,1,1,1,1,1,1,1,1,1,1,1,1,1,1,1,1,1,1,1,1,1,1,1,1,1,1,1,1,1,1,1,1,1,1,1,1,1,1,1,1,1,1,1,1,1,1,1,1,1,1,1,1,1,1,1,1,1,1,1,1,1,1,1,1,1,1,1,1,1,1,1,1,1,1,1,1,1,1,1,1,1,1,1,1,1,1,1,1,1,1,1,1,1,1,1,1,1,1,1,1,1,1,1,1,1,1,1,1,1,1,1,1,1,1,1,1,1,1,1,1,1,1,1,1,1,1,1,1,1,1,1,1,1,1,1,1,1,1,1,1,1,1,1,1,1,1,1,1,1,1,1,1,1,1,1],\"CoinName\":[\"42 Coin\",\"404Coin\",\"EliteCoin\",\"Dash\",\"Bitshares\",\"BitcoinDark\",\"PayCoin\",\"KoboCoin\",\"Aurora Coin\",\"BlueCoin\",\"EnergyCoin\",\"BitBar\",\"CryptoBullion\",\"CasinoCoin\",\"Diamond\",\"Exclusive Coin\",\"FlutterCoin\",\"HoboNickels\",\"HyperStake\",\"IOCoin\",\"MaxCoin\",\"MintCoin\",\"MazaCoin\",\"Nautilus Coin\",\"NavCoin\",\"OpalCoin\",\"Orbitcoin\",\"PotCoin\",\"PhoenixCoin\",\"Reddcoin\",\"SuperCoin\",\"SyncCoin\",\"TeslaCoin\",\"TittieCoin\",\"TorCoin\",\"UnitaryStatus Dollar\",\"UltraCoin\",\"VeriCoin\",\"X11 Coin\",\"Crypti\",\"StealthCoin\",\"ZCC Coin\",\"BurstCoin\",\"StorjCoin\",\"Neutron\",\"FairCoin\",\"RubyCoin\",\"Kore\",\"Dnotes\",\"8BIT Coin\",\"Sativa Coin\",\"Ucoin\",\"Vtorrent\",\"IslaCoin\",\"Nexus\",\"Droidz\",\"Squall Coin\",\"Diggits\",\"Paycon\",\"Emercoin\",\"EverGreenCoin\",\"Decred\",\"EDRCoin\",\"Hitcoin\",\"DubaiCoin\",\"PWR Coin\",\"BillaryCoin\",\"GPU Coin\",\"EuropeCoin\",\"ZeitCoin\",\"SwingCoin\",\"SafeExchangeCoin\",\"Nebuchadnezzar\",\"Ratecoin\",\"Revenu\",\"Clockcoin\",\"VIP Tokens\",\"BitSend\",\"Let it Ride\",\"PutinCoin\",\"iBankCoin\",\"Frankywillcoin\",\"MudraCoin\",\"Lutetium Coin\",\"GoldBlocks\",\"CarterCoin\",\"BitTokens\",\"MustangCoin\",\"ZoneCoin\",\"RootCoin\",\"BitCurrency\",\"Swiscoin\",\"BuzzCoin\",\"Opair\",\"PesoBit\",\"Halloween Coin\",\"CoffeeCoin\",\"RoyalCoin\",\"GanjaCoin V2\",\"TeamUP\",\"LanaCoin\",\"ARK\",\"InsaneCoin\",\"EmberCoin\",\"XenixCoin\",\"FreeCoin\",\"PLNCoin\",\"AquariusCoin\",\"Creatio\",\"Eternity\",\"Eurocoin\",\"BitcoinFast\",\"Stakenet\",\"BitConnect Coin\",\"MoneyCoin\",\"Enigma\",\"Russiacoin\",\"PandaCoin\",\"GameUnits\",\"GAKHcoin\",\"Allsafe\",\"LiteCreed\",\"Klingon Empire Darsek\",\"Internet of People\",\"KushCoin\",\"Printerium\",\"Impeach\",\"Zilbercoin\",\"FirstCoin\",\"FindCoin\",\"OpenChat\",\"RenosCoin\",\"VirtacoinPlus\",\"TajCoin\",\"Impact\",\"Atmos\",\"HappyCoin\",\"MacronCoin\",\"Condensate\",\"Independent Money System\",\"ArgusCoin\",\"LomoCoin\",\"ProCurrency\",\"GoldReserve\",\"GrowthCoin\",\"Phreak\",\"Degas Coin\",\"HTML5 Coin\",\"Ultimate Secure Cash\",\"QTUM\",\"Espers\",\"Denarius\",\"Virta Unique Coin\",\"Bitcoin Planet\",\"BritCoin\",\"Linda\",\"DeepOnion\",\"Signatum\",\"Cream\",\"Monoeci\",\"Draftcoin\",\"Stakecoin\",\"CoinonatX\",\"Ethereum Dark\",\"Obsidian\",\"Cardano\",\"Regalcoin\",\"TrezarCoin\",\"TerraNovaCoin\",\"Rupee\",\"WomenCoin\",\"Theresa May Coin\",\"NamoCoin\",\"LUXCoin\",\"Xios\",\"Bitcloud 2.0\",\"KekCoin\",\"BlackholeCoin\",\"Infinity Economics\",\"Magnet\",\"Lamden Tau\",\"Electra\",\"Bitcoin Diamond\",\"Cash & Back Coin\",\"Bulwark\",\"Kalkulus\",\"GermanCoin\",\"LiteCoin Ultra\",\"PhantomX\",\"Digiwage\",\"Trollcoin\",\"Litecoin Plus\",\"Monkey Project\",\"TokenPay\",\"1717 Masonic Commemorative Token\",\"My Big Coin\",\"Unified Society USDEX\",\"Tokyo Coin\",\"Stipend\",\"Pushi\",\"Ellerium\",\"Velox\",\"Ontology\",\"Bitspace\",\"Briacoin\",\"Ignition\",\"MedicCoin\",\"Bitcoin Green\",\"Deviant Coin\",\"Abjcoin\",\"Semux\",\"Carebit\",\"Zealium\",\"Proton\",\"iDealCash\",\"Bitcoin Incognito\",\"HollyWoodCoin\",\"Swisscoin\",\"Xt3ch\",\"TheVig\",\"EmaratCoin\",\"Dekado\",\"Poseidon Quark\",\"BitcoinWSpectrum\",\"Muse\",\"Trivechain\",\"Dystem\",\"Giant\",\"Peony Coin\",\"Absolute Coin\",\"Vitae\",\"TPCash\",\"ARENON\",\"EUNO\",\"MMOCoin\",\"Ketan\",\"XDNA\",\"PAXEX\",\"ThunderStake\",\"Kcash\",\"Bettex coin\",\"BitMoney\",\"Junson Ming Chan Coin\",\"HerbCoin\",\"PirateCash\",\"Oduwa\",\"Galilel\",\"Crypto Sports\",\"Credit\",\"Dash Platinum\",\"Nasdacoin\",\"Beetle Coin\",\"Titan Coin\",\"Award\",\"Insane Coin\",\"ALAX\",\"LiteDoge\",\"TruckCoin\",\"OrangeCoin\",\"BitstarCoin\",\"NeosCoin\",\"HyperCoin\",\"PinkCoin\",\"AudioCoin\",\"IncaKoin\",\"Piggy Coin\",\"Genstake\",\"XiaoMiCoin\",\"CapriCoin\",\" ClubCoin\",\"Radium\",\"Creditbit \",\"OKCash\",\"Lisk\",\"HiCoin\",\"WhiteCoin\",\"FriendshipCoin\",\"Triangles Coin\",\"EOS\",\"Oxycoin\",\"TigerCash\",\"Particl\",\"Nxt\",\"ZEPHYR\",\"Gapcoin\",\"BitcoinPlus\"],\"TotalCoinSupply\":{\"__ndarray__\":\"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\",\"dtype\":\"float64\",\"order\":\"little\",\"shape\":[286]},\"TotalCoinsMined\":{\"__ndarray__\":\"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\",\"dtype\":\"float64\",\"order\":\"little\",\"shape\":[286]}},\"selected\":{\"id\":\"1372\"},\"selection_policy\":{\"id\":\"1388\"}},\"id\":\"1371\",\"type\":\"ColumnDataSource\"},{\"attributes\":{\"label\":{\"value\":\"2\"},\"renderers\":[{\"id\":\"1399\"}]},\"id\":\"1415\",\"type\":\"LegendItem\"},{\"attributes\":{},\"id\":\"1394\",\"type\":\"Selection\"},{\"attributes\":{\"fill_alpha\":{\"value\":0.2},\"fill_color\":{\"value\":\"#6d904f\"},\"hatch_alpha\":{\"value\":0.2},\"hatch_color\":{\"value\":\"#6d904f\"},\"line_alpha\":{\"value\":0.2},\"line_color\":{\"value\":\"#6d904f\"},\"size\":{\"value\":5.477225575051661},\"x\":{\"field\":\"TotalCoinsMined\"},\"y\":{\"field\":\"TotalCoinSupply\"}},\"id\":\"1422\",\"type\":\"Scatter\"},{\"attributes\":{},\"id\":\"1321\",\"type\":\"LinearScale\"},{\"attributes\":{\"axis_label\":\"TotalCoinSupply\",\"coordinates\":null,\"formatter\":{\"id\":\"1348\"},\"group\":null,\"major_label_policy\":{\"id\":\"1349\"},\"ticker\":{\"id\":\"1328\"}},\"id\":\"1327\",\"type\":\"LinearAxis\"},{\"attributes\":{\"angle\":{\"value\":0.0},\"fill_alpha\":{\"value\":1.0},\"fill_color\":{\"value\":\"#30a2da\"},\"hatch_alpha\":{\"value\":1.0},\"hatch_color\":{\"value\":\"#30a2da\"},\"hatch_scale\":{\"value\":12.0},\"hatch_weight\":{\"value\":1.0},\"line_alpha\":{\"value\":1.0},\"line_cap\":{\"value\":\"butt\"},\"line_color\":{\"value\":\"#30a2da\"},\"line_dash\":{\"value\":[]},\"line_dash_offset\":{\"value\":0},\"line_join\":{\"value\":\"bevel\"},\"line_width\":{\"value\":1},\"marker\":{\"value\":\"circle\"},\"size\":{\"value\":5.477225575051661},\"x\":{\"field\":\"TotalCoinsMined\"},\"y\":{\"field\":\"TotalCoinSupply\"}},\"id\":\"1370\",\"type\":\"Scatter\"},{\"attributes\":{\"axis_label\":\"TotalCoinsMined\",\"coordinates\":null,\"formatter\":{\"id\":\"1345\"},\"group\":null,\"major_label_policy\":{\"id\":\"1346\"},\"ticker\":{\"id\":\"1324\"}},\"id\":\"1323\",\"type\":\"LinearAxis\"},{\"attributes\":{\"fill_alpha\":{\"value\":0.1},\"fill_color\":{\"value\":\"#6d904f\"},\"hatch_alpha\":{\"value\":0.1},\"hatch_color\":{\"value\":\"#6d904f\"},\"line_alpha\":{\"value\":0.1},\"line_color\":{\"value\":\"#6d904f\"},\"size\":{\"value\":5.477225575051661},\"x\":{\"field\":\"TotalCoinsMined\"},\"y\":{\"field\":\"TotalCoinSupply\"}},\"id\":\"1421\",\"type\":\"Scatter\"},{\"attributes\":{\"callback\":null,\"renderers\":[{\"id\":\"1356\"},{\"id\":\"1377\"},{\"id\":\"1399\"},{\"id\":\"1423\"}],\"tags\":[\"hv_created\"],\"tooltips\":[[\"Class\",\"@{Class}\"],[\"TotalCoinsMined\",\"@{TotalCoinsMined}\"],[\"TotalCoinSupply\",\"@{TotalCoinSupply}\"],[\"CoinName\",\"@{CoinName}\"]]},\"id\":\"1310\",\"type\":\"HoverTool\"},{\"attributes\":{\"fill_color\":{\"value\":\"#6d904f\"},\"hatch_color\":{\"value\":\"#6d904f\"},\"line_color\":{\"value\":\"#6d904f\"},\"size\":{\"value\":5.477225575051661},\"x\":{\"field\":\"TotalCoinsMined\"},\"y\":{\"field\":\"TotalCoinSupply\"}},\"id\":\"1420\",\"type\":\"Scatter\"},{\"attributes\":{},\"id\":\"1388\",\"type\":\"UnionRenderers\"},{\"attributes\":{},\"id\":\"1328\",\"type\":\"BasicTicker\"}],\"root_ids\":[\"1306\"]},\"title\":\"Bokeh Application\",\"version\":\"2.4.2\"}};\n",
       "    var render_items = [{\"docid\":\"f0dce4b6-dc0f-4f18-af66-d1bcfd59136c\",\"root_ids\":[\"1306\"],\"roots\":{\"1306\":\"a297cdc5-053d-4b4c-abf9-a891aad9a501\"}}];\n",
       "    root.Bokeh.embed.embed_items_notebook(docs_json, render_items);\n",
       "  }\n",
       "  if (root.Bokeh !== undefined && root.Bokeh.Panel !== undefined) {\n",
       "    embed_document(root);\n",
       "  } else {\n",
       "    var attempts = 0;\n",
       "    var timer = setInterval(function(root) {\n",
       "      if (root.Bokeh !== undefined && root.Bokeh.Panel !== undefined) {\n",
       "        clearInterval(timer);\n",
       "        embed_document(root);\n",
       "      } else if (document.readyState == \"complete\") {\n",
       "        attempts++;\n",
       "        if (attempts > 200) {\n",
       "          clearInterval(timer);\n",
       "          console.log(\"Bokeh: ERROR: Unable to run BokehJS code because BokehJS library is missing\");\n",
       "        }\n",
       "      }\n",
       "    }, 25, root)\n",
       "  }\n",
       "})(window);</script>"
      ],
      "text/plain": [
       ":NdOverlay   [Class]\n",
       "   :Scatter   [TotalCoinsMined]   (TotalCoinSupply,CoinName)"
      ]
     },
     "execution_count": 49,
     "metadata": {
      "application/vnd.holoviews_exec.v0+json": {
       "id": "1306"
      }
     },
     "output_type": "execute_result"
    }
   ],
   "source": [
    "# Create a hvplot.scatter plot using x=\"TotalCoinsMined\" and y=\"TotalCoinSupply\".\n",
    "plot_df.hvplot.scatter(x=\"TotalCoinsMined\", y=\"TotalCoinSupply\", by= \"Class\",\n",
    "                      legend=\"right\", hover_cols=[\"CoinName\"])\n"
   ]
  },
  {
   "cell_type": "code",
   "execution_count": null,
   "metadata": {},
   "outputs": [],
   "source": []
  }
 ],
 "metadata": {
  "file_extension": ".py",
  "kernelspec": {
   "display_name": "Python 3 (ipykernel)",
   "language": "python",
   "name": "python3"
  },
  "language_info": {
   "codemirror_mode": {
    "name": "ipython",
    "version": 3
   },
   "file_extension": ".py",
   "mimetype": "text/x-python",
   "name": "python",
   "nbconvert_exporter": "python",
   "pygments_lexer": "ipython3",
   "version": "3.7.13"
  },
  "latex_envs": {
   "LaTeX_envs_menu_present": true,
   "autoclose": false,
   "autocomplete": true,
   "bibliofile": "biblio.bib",
   "cite_by": "apalike",
   "current_citInitial": 1,
   "eqLabelWithNumbers": true,
   "eqNumInitial": 1,
   "hotkeys": {
    "equation": "Ctrl-E",
    "itemize": "Ctrl-I"
   },
   "labels_anchors": false,
   "latex_user_defs": false,
   "report_style_numbering": false,
   "user_envs_cfg": false
  },
  "mimetype": "text/x-python",
  "name": "python",
  "npconvert_exporter": "python",
  "pygments_lexer": "ipython3",
  "version": 3
 },
 "nbformat": 4,
 "nbformat_minor": 2
}
